{
 "cells": [
  {
   "cell_type": "markdown",
   "metadata": {
    "application/vnd.databricks.v1+cell": {
     "cellMetadata": {},
     "inputWidgets": {},
     "nuid": "76dff04c-8207-456e-b943-cefaa828846a",
     "showTitle": false,
     "title": ""
    }
   },
   "source": [
    "### Import contents of S3 and generate dataframes:"
   ]
  },
  {
   "cell_type": "code",
   "execution_count": 0,
   "metadata": {
    "application/vnd.databricks.v1+cell": {
     "cellMetadata": {
      "byteLimit": 2048000,
      "rowLimit": 10000
     },
     "inputWidgets": {},
     "nuid": "0741c7cd-329f-4b0f-80a3-daa32271a7bc",
     "showTitle": false,
     "title": ""
    }
   },
   "outputs": [
    {
     "output_type": "display_data",
     "data": {
      "text/html": [
       "<style scoped>\n",
       "  .ansiout {\n",
       "    display: block;\n",
       "    unicode-bidi: embed;\n",
       "    white-space: pre-wrap;\n",
       "    word-wrap: break-word;\n",
       "    word-break: break-all;\n",
       "    font-family: \"Menlo\", \"Monaco\", \"Consolas\", \"Ubuntu Mono\", \"Source Code Pro\", monospace;\n",
       "    font-size: 13px;\n",
       "    color: #555;\n",
       "    margin-left: 4px;\n",
       "    line-height: 19px;\n",
       "  }\n",
       "</style>\n",
       "<div class=\"ansiout\"></div>"
      ]
     },
     "metadata": {
      "application/vnd.databricks.v1+output": {
       "addedWidgets": {},
       "arguments": {},
       "data": "<div class=\"ansiout\"></div>",
       "datasetInfos": [],
       "metadata": {},
       "removedWidgets": [],
       "type": "html"
      }
     },
     "output_type": "display_data"
    }
   ],
   "source": [
    "from pyspark.sql.functions import *\n",
    "from pyspark.sql.types import IntegerType, ArrayType, DoubleType\n",
    "from pyspark.sql.window import Window\n",
    "import urllib"
   ]
  },
  {
   "cell_type": "code",
   "execution_count": 0,
   "metadata": {
    "application/vnd.databricks.v1+cell": {
     "cellMetadata": {
      "byteLimit": 2048000,
      "rowLimit": 10000
     },
     "inputWidgets": {},
     "nuid": "9defb544-eb10-47c8-bcb8-6ee94151bd09",
     "showTitle": false,
     "title": ""
    }
   },
   "outputs": [
    {
     "output_type": "display_data",
     "data": {
      "text/html": [
       "<style scoped>\n",
       "  .table-result-container {\n",
       "    max-height: 300px;\n",
       "    overflow: auto;\n",
       "  }\n",
       "  table, th, td {\n",
       "    border: 1px solid black;\n",
       "    border-collapse: collapse;\n",
       "  }\n",
       "  th, td {\n",
       "    padding: 5px;\n",
       "  }\n",
       "  th {\n",
       "    text-align: left;\n",
       "  }\n",
       "</style><div class='table-result-container'><table class='table-result'><thead style='background-color: white'><tr><th>path</th><th>name</th><th>size</th><th>modificationTime</th></tr></thead><tbody><tr><td>dbfs:/mnt/user-0a3c6c045333-bucket/topics/0a3c6c045333.geo/</td><td>0a3c6c045333.geo/</td><td>0</td><td>1704383977755</td></tr><tr><td>dbfs:/mnt/user-0a3c6c045333-bucket/topics/0a3c6c045333.pin/</td><td>0a3c6c045333.pin/</td><td>0</td><td>1704383977755</td></tr><tr><td>dbfs:/mnt/user-0a3c6c045333-bucket/topics/0a3c6c045333.user/</td><td>0a3c6c045333.user/</td><td>0</td><td>1704383977755</td></tr></tbody></table></div>"
      ]
     },
     "metadata": {
      "application/vnd.databricks.v1+output": {
       "addedWidgets": {},
       "aggData": [],
       "aggError": "",
       "aggOverflow": false,
       "aggSchema": [],
       "aggSeriesLimitReached": false,
       "aggType": "",
       "arguments": {},
       "columnCustomDisplayInfos": {},
       "data": [
        [
         "dbfs:/mnt/user-0a3c6c045333-bucket/topics/0a3c6c045333.geo/",
         "0a3c6c045333.geo/",
         0,
         1704383977755
        ],
        [
         "dbfs:/mnt/user-0a3c6c045333-bucket/topics/0a3c6c045333.pin/",
         "0a3c6c045333.pin/",
         0,
         1704383977755
        ],
        [
         "dbfs:/mnt/user-0a3c6c045333-bucket/topics/0a3c6c045333.user/",
         "0a3c6c045333.user/",
         0,
         1704383977755
        ]
       ],
       "datasetInfos": [],
       "dbfsResultPath": null,
       "isJsonSchema": true,
       "metadata": {},
       "overflow": false,
       "plotOptions": {
        "customPlotOptions": {},
        "displayType": "table",
        "pivotAggregation": null,
        "pivotColumns": null,
        "xColumns": null,
        "yColumns": null
       },
       "removedWidgets": [],
       "schema": [
        {
         "metadata": "{}",
         "name": "path",
         "type": "\"string\""
        },
        {
         "metadata": "{}",
         "name": "name",
         "type": "\"string\""
        },
        {
         "metadata": "{}",
         "name": "size",
         "type": "\"long\""
        },
        {
         "metadata": "{}",
         "name": "modificationTime",
         "type": "\"long\""
        }
       ],
       "type": "table"
      }
     },
     "output_type": "display_data"
    }
   ],
   "source": [
    "display(dbutils.fs.ls(\"/mnt/user-0a3c6c045333-bucket/topics\"))"
   ]
  },
  {
   "cell_type": "code",
   "execution_count": 0,
   "metadata": {
    "application/vnd.databricks.v1+cell": {
     "cellMetadata": {
      "byteLimit": 2048000,
      "rowLimit": 10000
     },
     "inputWidgets": {},
     "nuid": "cd683c55-79ce-4953-9342-d0afc87788e9",
     "showTitle": false,
     "title": ""
    }
   },
   "outputs": [
    {
     "output_type": "display_data",
     "data": {
      "text/html": [
       "<style scoped>\n",
       "  .table-result-container {\n",
       "    max-height: 300px;\n",
       "    overflow: auto;\n",
       "  }\n",
       "  table, th, td {\n",
       "    border: 1px solid black;\n",
       "    border-collapse: collapse;\n",
       "  }\n",
       "  th, td {\n",
       "    padding: 5px;\n",
       "  }\n",
       "  th {\n",
       "    text-align: left;\n",
       "  }\n",
       "</style><div class='table-result-container'><table class='table-result'><thead style='background-color: white'><tr><th>category</th><th>description</th><th>downloaded</th><th>follower_count</th><th>image_src</th><th>index</th><th>is_image_or_video</th><th>poster_name</th><th>save_location</th><th>tag_list</th><th>title</th><th>unique_id</th></tr></thead><tbody><tr><td>home-decor</td><td>Традиционные шведские коттеджи, обычно с красным фасадом — это настоящее воплощением идеального зимнего уюта. Они обычно оформлены очень просто и ✌PUFIK. Beautiful Interiors. On… </td><td>1</td><td>136k</td><td>https://i.pinimg.com/originals/32/eb/72/32eb72e4fd8654c115a64528bd1f34b4.png</td><td>6717</td><td>image</td><td>PUFIK Interiors & Inspirations</td><td>Local save in /data/home-decor</td><td>Scandinavian Cottage,Swedish Cottage,Swedish Home Decor,Swedish Farmhouse,Swedish Style,Swedish Kitchen,Kitchen Black,Swedish House,Cozy Cottage</td><td>〚 Уютные шведские коттеджи от Carina Olander 〛 ◾ Фото ◾ Идеи ◾ Дизайн</td><td>bc5ab9ee-505e-44f6-92ba-677fe4fdf3e3</td></tr><tr><td>home-decor</td><td>6,636 Likes, 141 Comments - The Cottage Journal (@thecottagejournal) on Instagram: “Can you say color?! 😍😍😍 We are loving the cheery vibes that these aqua blue cabinets are g… </td><td>1</td><td>394</td><td>https://i.pinimg.com/originals/8c/17/a2/8c17a257b70780480bb89c3699363144.jpg</td><td>6633</td><td>image</td><td>Sarah Martin</td><td>Local save in /data/home-decor</td><td>Diy Kitchen Cabinets,Kitchen Redo,Home Decor Kitchen,New Kitchen,Home Kitchens,Kitchen Remodeling,Aqua Kitchen,Kitchen Counters,Kitchen Islands</td><td>The Cottage Journal on Instagram: “Can you say color?! 😍😍😍 We are loving the cheery vibes that these aqua blue cabinets are giving. If you could paint your cabinets any…”</td><td>d136f6bc-840d-44f8-bbad-115eb7e6c51e</td></tr><tr><td>christmas</td><td>Features: Material:Lint Size:48ｘ18cm Quantity:1 pc Shape:Santa Claus, snowman. Elk Occasion:Christmas Description: 1. Fashion design, high quality 2. Santa Claus, snowman. Elk C… </td><td>1</td><td>5k</td><td>https://i.pinimg.com/originals/b5/7f/21/b57f219fa89c1165b57525b8eae711da.jpg</td><td>1706</td><td>image</td><td>Wear24-7</td><td>Local save in /data/christmas</td><td>Merry Christmas To You,Christmas Toys,Great Christmas Gifts,Christmas Snowman,Christmas Ornaments,Holiday,Christmas Party Decorations,Christmas Themes,Decoration Party</td><td>Standing Figurine Toys Xmas Santa Claus Snowman Reindeer Figure Plush Dolls Christmas Decorations Ornaments Home Indoor Table Ornaments Christmas Party Tree Hanging Decor Toys Gifts for Kids Friends…</td><td>b5c8a1b5-9e90-4522-9bec-2477b698d5b7</td></tr><tr><td>christmas</td><td>❤️ ❤️ MERRY CHRISTMAS ❤️ ❤️ ❤️ ❤️ Early Christmas Special:Buy 3 Get 1 Free, Buy 5 Get 2 Free,Deadline November 25. Color:GreenMaterial:Polyvinyl ChlorideItem Dimensions:LxWxH 20… </td><td>1</td><td>784</td><td>https://i.pinimg.com/originals/ef/40/7e/ef407e9568aa46fed4162bd1fd28786e.jpg</td><td>1676</td><td>image</td><td>paupoo</td><td>Local save in /data/christmas</td><td>Christmas Hanging Baskets,Christmas Plants,Christmas Wreaths,Christmas Ornaments,Merry Christmas,Christmas Sale,Christmas Porch Ideas,Hanging Christmas Lights,Christmas Island</td><td>PAUPOO™ Pre-lit Artificial Christmas Hanging Basket - Flocked with Mixed Decorations and White LED Lights - Frosted Berry BUY 5 GET 2 FREE(7PACKS)</td><td>3ed92c2d-9cca-4ccf-ac25-44a9d8bec919</td></tr><tr><td>christmas</td><td>Christmas decorating ideas for porches. Beautiful holiday decor ideas for front porches both small and large. Outdoor decorations like sleds, lanterns, Christmas trees, wreaths,… </td><td>1</td><td>46k</td><td>https://i.pinimg.com/videos/thumbnails/originals/40/83/f5/4083f5b4971bf235f89a4784ab87271e.0000001.jpg</td><td>2482</td><td>video</td><td>Life on Summerhill | Home, Holiday Decor & DIY Website</td><td>Local save in /data/christmas</td><td>Diy Christmas Decorations For Home,Farmhouse Christmas Decor,Christmas Home,Christmas Holidays,Christmas Front Porches,How To Decorate For Christmas,Christmas Porch Ideas,Christmas Decorating Ideas,Large Outdoor Christmas Decorations</td><td>FORNT PORCH CHRISTMAS DECORATING IDEAS</td><td>08604f20-fa17-4b9a-9949-781717eca6cd</td></tr></tbody></table></div>"
      ]
     },
     "metadata": {
      "application/vnd.databricks.v1+output": {
       "addedWidgets": {},
       "aggData": [],
       "aggError": "",
       "aggOverflow": false,
       "aggSchema": [],
       "aggSeriesLimitReached": false,
       "aggType": "",
       "arguments": {},
       "columnCustomDisplayInfos": {},
       "data": [
        [
         "home-decor",
         "Традиционные шведские коттеджи, обычно с красным фасадом — это настоящее воплощением идеального зимнего уюта. Они обычно оформлены очень просто и ✌PUFIK. Beautiful Interiors. On… ",
         1,
         "136k",
         "https://i.pinimg.com/originals/32/eb/72/32eb72e4fd8654c115a64528bd1f34b4.png",
         6717,
         "image",
         "PUFIK Interiors & Inspirations",
         "Local save in /data/home-decor",
         "Scandinavian Cottage,Swedish Cottage,Swedish Home Decor,Swedish Farmhouse,Swedish Style,Swedish Kitchen,Kitchen Black,Swedish House,Cozy Cottage",
         "〚 Уютные шведские коттеджи от Carina Olander 〛 ◾ Фото ◾ Идеи ◾ Дизайн",
         "bc5ab9ee-505e-44f6-92ba-677fe4fdf3e3"
        ],
        [
         "home-decor",
         "6,636 Likes, 141 Comments - The Cottage Journal (@thecottagejournal) on Instagram: “Can you say color?! 😍😍😍 We are loving the cheery vibes that these aqua blue cabinets are g… ",
         1,
         "394",
         "https://i.pinimg.com/originals/8c/17/a2/8c17a257b70780480bb89c3699363144.jpg",
         6633,
         "image",
         "Sarah Martin",
         "Local save in /data/home-decor",
         "Diy Kitchen Cabinets,Kitchen Redo,Home Decor Kitchen,New Kitchen,Home Kitchens,Kitchen Remodeling,Aqua Kitchen,Kitchen Counters,Kitchen Islands",
         "The Cottage Journal on Instagram: “Can you say color?! 😍😍😍 We are loving the cheery vibes that these aqua blue cabinets are giving. If you could paint your cabinets any…”",
         "d136f6bc-840d-44f8-bbad-115eb7e6c51e"
        ],
        [
         "christmas",
         "Features: Material:Lint Size:48ｘ18cm Quantity:1 pc Shape:Santa Claus, snowman. Elk Occasion:Christmas Description: 1. Fashion design, high quality 2. Santa Claus, snowman. Elk C… ",
         1,
         "5k",
         "https://i.pinimg.com/originals/b5/7f/21/b57f219fa89c1165b57525b8eae711da.jpg",
         1706,
         "image",
         "Wear24-7",
         "Local save in /data/christmas",
         "Merry Christmas To You,Christmas Toys,Great Christmas Gifts,Christmas Snowman,Christmas Ornaments,Holiday,Christmas Party Decorations,Christmas Themes,Decoration Party",
         "Standing Figurine Toys Xmas Santa Claus Snowman Reindeer Figure Plush Dolls Christmas Decorations Ornaments Home Indoor Table Ornaments Christmas Party Tree Hanging Decor Toys Gifts for Kids Friends…",
         "b5c8a1b5-9e90-4522-9bec-2477b698d5b7"
        ],
        [
         "christmas",
         "❤️ ❤️ MERRY CHRISTMAS ❤️ ❤️ ❤️ ❤️ Early Christmas Special:Buy 3 Get 1 Free, Buy 5 Get 2 Free,Deadline November 25. Color:GreenMaterial:Polyvinyl ChlorideItem Dimensions:LxWxH 20… ",
         1,
         "784",
         "https://i.pinimg.com/originals/ef/40/7e/ef407e9568aa46fed4162bd1fd28786e.jpg",
         1676,
         "image",
         "paupoo",
         "Local save in /data/christmas",
         "Christmas Hanging Baskets,Christmas Plants,Christmas Wreaths,Christmas Ornaments,Merry Christmas,Christmas Sale,Christmas Porch Ideas,Hanging Christmas Lights,Christmas Island",
         "PAUPOO™ Pre-lit Artificial Christmas Hanging Basket - Flocked with Mixed Decorations and White LED Lights - Frosted Berry BUY 5 GET 2 FREE(7PACKS)",
         "3ed92c2d-9cca-4ccf-ac25-44a9d8bec919"
        ],
        [
         "christmas",
         "Christmas decorating ideas for porches. Beautiful holiday decor ideas for front porches both small and large. Outdoor decorations like sleds, lanterns, Christmas trees, wreaths,… ",
         1,
         "46k",
         "https://i.pinimg.com/videos/thumbnails/originals/40/83/f5/4083f5b4971bf235f89a4784ab87271e.0000001.jpg",
         2482,
         "video",
         "Life on Summerhill | Home, Holiday Decor & DIY Website",
         "Local save in /data/christmas",
         "Diy Christmas Decorations For Home,Farmhouse Christmas Decor,Christmas Home,Christmas Holidays,Christmas Front Porches,How To Decorate For Christmas,Christmas Porch Ideas,Christmas Decorating Ideas,Large Outdoor Christmas Decorations",
         "FORNT PORCH CHRISTMAS DECORATING IDEAS",
         "08604f20-fa17-4b9a-9949-781717eca6cd"
        ]
       ],
       "datasetInfos": [],
       "dbfsResultPath": null,
       "isJsonSchema": true,
       "metadata": {},
       "overflow": false,
       "plotOptions": {
        "customPlotOptions": {},
        "displayType": "table",
        "pivotAggregation": null,
        "pivotColumns": null,
        "xColumns": null,
        "yColumns": null
       },
       "removedWidgets": [],
       "schema": [
        {
         "metadata": "{}",
         "name": "category",
         "type": "\"string\""
        },
        {
         "metadata": "{}",
         "name": "description",
         "type": "\"string\""
        },
        {
         "metadata": "{}",
         "name": "downloaded",
         "type": "\"long\""
        },
        {
         "metadata": "{}",
         "name": "follower_count",
         "type": "\"string\""
        },
        {
         "metadata": "{}",
         "name": "image_src",
         "type": "\"string\""
        },
        {
         "metadata": "{}",
         "name": "index",
         "type": "\"long\""
        },
        {
         "metadata": "{}",
         "name": "is_image_or_video",
         "type": "\"string\""
        },
        {
         "metadata": "{}",
         "name": "poster_name",
         "type": "\"string\""
        },
        {
         "metadata": "{}",
         "name": "save_location",
         "type": "\"string\""
        },
        {
         "metadata": "{}",
         "name": "tag_list",
         "type": "\"string\""
        },
        {
         "metadata": "{}",
         "name": "title",
         "type": "\"string\""
        },
        {
         "metadata": "{}",
         "name": "unique_id",
         "type": "\"string\""
        }
       ],
       "type": "table"
      }
     },
     "output_type": "display_data"
    },
    {
     "output_type": "display_data",
     "data": {
      "text/html": [
       "<style scoped>\n",
       "  .table-result-container {\n",
       "    max-height: 300px;\n",
       "    overflow: auto;\n",
       "  }\n",
       "  table, th, td {\n",
       "    border: 1px solid black;\n",
       "    border-collapse: collapse;\n",
       "  }\n",
       "  th, td {\n",
       "    padding: 5px;\n",
       "  }\n",
       "  th {\n",
       "    text-align: left;\n",
       "  }\n",
       "</style><div class='table-result-container'><table class='table-result'><thead style='background-color: white'><tr><th>country</th><th>ind</th><th>latitude</th><th>longitude</th><th>timestamp</th></tr></thead><tbody><tr><td>British Indian Ocean Territory (Chagos Archipelago)</td><td>9455</td><td>-82.9272</td><td>-150.346</td><td>2022-03-15T01:46:32</td></tr><tr><td>British Indian Ocean Territory (Chagos Archipelago)</td><td>6814</td><td>-86.5675</td><td>-149.565</td><td>2022-09-02T11:34:28</td></tr><tr><td>British Indian Ocean Territory (Chagos Archipelago)</td><td>5111</td><td>-83.7472</td><td>8.65953</td><td>2021-04-01T00:56:57</td></tr><tr><td>Antarctica (the territory South of 60 deg S)</td><td>10073</td><td>-32.8885</td><td>-170.295</td><td>2021-06-29T19:56:04</td></tr><tr><td>Antarctica (the territory South of 60 deg S)</td><td>2418</td><td>-88.4642</td><td>-171.061</td><td>2022-05-27T11:30:59</td></tr></tbody></table></div>"
      ]
     },
     "metadata": {
      "application/vnd.databricks.v1+output": {
       "addedWidgets": {},
       "aggData": [],
       "aggError": "",
       "aggOverflow": false,
       "aggSchema": [],
       "aggSeriesLimitReached": false,
       "aggType": "",
       "arguments": {},
       "columnCustomDisplayInfos": {},
       "data": [
        [
         "British Indian Ocean Territory (Chagos Archipelago)",
         9455,
         -82.9272,
         -150.346,
         "2022-03-15T01:46:32"
        ],
        [
         "British Indian Ocean Territory (Chagos Archipelago)",
         6814,
         -86.5675,
         -149.565,
         "2022-09-02T11:34:28"
        ],
        [
         "British Indian Ocean Territory (Chagos Archipelago)",
         5111,
         -83.7472,
         8.65953,
         "2021-04-01T00:56:57"
        ],
        [
         "Antarctica (the territory South of 60 deg S)",
         10073,
         -32.8885,
         -170.295,
         "2021-06-29T19:56:04"
        ],
        [
         "Antarctica (the territory South of 60 deg S)",
         2418,
         -88.4642,
         -171.061,
         "2022-05-27T11:30:59"
        ]
       ],
       "datasetInfos": [],
       "dbfsResultPath": null,
       "isJsonSchema": true,
       "metadata": {},
       "overflow": false,
       "plotOptions": {
        "customPlotOptions": {},
        "displayType": "table",
        "pivotAggregation": null,
        "pivotColumns": null,
        "xColumns": null,
        "yColumns": null
       },
       "removedWidgets": [],
       "schema": [
        {
         "metadata": "{}",
         "name": "country",
         "type": "\"string\""
        },
        {
         "metadata": "{}",
         "name": "ind",
         "type": "\"long\""
        },
        {
         "metadata": "{}",
         "name": "latitude",
         "type": "\"double\""
        },
        {
         "metadata": "{}",
         "name": "longitude",
         "type": "\"double\""
        },
        {
         "metadata": "{}",
         "name": "timestamp",
         "type": "\"string\""
        }
       ],
       "type": "table"
      }
     },
     "output_type": "display_data"
    },
    {
     "output_type": "display_data",
     "data": {
      "text/html": [
       "<style scoped>\n",
       "  .table-result-container {\n",
       "    max-height: 300px;\n",
       "    overflow: auto;\n",
       "  }\n",
       "  table, th, td {\n",
       "    border: 1px solid black;\n",
       "    border-collapse: collapse;\n",
       "  }\n",
       "  th, td {\n",
       "    padding: 5px;\n",
       "  }\n",
       "  th {\n",
       "    text-align: left;\n",
       "  }\n",
       "</style><div class='table-result-container'><table class='table-result'><thead style='background-color: white'><tr><th>age</th><th>date_joined</th><th>first_name</th><th>ind</th><th>last_name</th></tr></thead><tbody><tr><td>27</td><td>2016-03-08T13:38:37</td><td>Christopher</td><td>2015</td><td>Bradshaw</td></tr><tr><td>59</td><td>2017-05-12T21:22:17</td><td>Alexander</td><td>10673</td><td>Cervantes</td></tr><tr><td>48</td><td>2016-02-27T16:57:44</td><td>Christopher</td><td>1857</td><td>Hamilton</td></tr><tr><td>45</td><td>2016-09-15T06:02:53</td><td>Christopher</td><td>10020</td><td>Hawkins</td></tr><tr><td>35</td><td>2015-10-22T22:42:23</td><td>Christopher</td><td>2041</td><td>Campbell</td></tr></tbody></table></div>"
      ]
     },
     "metadata": {
      "application/vnd.databricks.v1+output": {
       "addedWidgets": {},
       "aggData": [],
       "aggError": "",
       "aggOverflow": false,
       "aggSchema": [],
       "aggSeriesLimitReached": false,
       "aggType": "",
       "arguments": {},
       "columnCustomDisplayInfos": {},
       "data": [
        [
         27,
         "2016-03-08T13:38:37",
         "Christopher",
         2015,
         "Bradshaw"
        ],
        [
         59,
         "2017-05-12T21:22:17",
         "Alexander",
         10673,
         "Cervantes"
        ],
        [
         48,
         "2016-02-27T16:57:44",
         "Christopher",
         1857,
         "Hamilton"
        ],
        [
         45,
         "2016-09-15T06:02:53",
         "Christopher",
         10020,
         "Hawkins"
        ],
        [
         35,
         "2015-10-22T22:42:23",
         "Christopher",
         2041,
         "Campbell"
        ]
       ],
       "datasetInfos": [],
       "dbfsResultPath": null,
       "isJsonSchema": true,
       "metadata": {},
       "overflow": false,
       "plotOptions": {
        "customPlotOptions": {},
        "displayType": "table",
        "pivotAggregation": null,
        "pivotColumns": null,
        "xColumns": null,
        "yColumns": null
       },
       "removedWidgets": [],
       "schema": [
        {
         "metadata": "{}",
         "name": "age",
         "type": "\"long\""
        },
        {
         "metadata": "{}",
         "name": "date_joined",
         "type": "\"string\""
        },
        {
         "metadata": "{}",
         "name": "first_name",
         "type": "\"string\""
        },
        {
         "metadata": "{}",
         "name": "ind",
         "type": "\"long\""
        },
        {
         "metadata": "{}",
         "name": "last_name",
         "type": "\"string\""
        }
       ],
       "type": "table"
      }
     },
     "output_type": "display_data"
    }
   ],
   "source": [
    "# File location and type\n",
    "# Asterisk(*) indicates reading all the content of the specified file that have .json extension\n",
    "filepath_pin =  \"/mnt/user-0a3c6c045333-bucket/topics/0a3c6c045333.pin/partition=0/*.json\"\n",
    "filepath_geo =  \"/mnt/user-0a3c6c045333-bucket/topics/0a3c6c045333.geo/partition=0/*.json\"\n",
    "filepath_user = \"/mnt/user-0a3c6c045333-bucket/topics/0a3c6c045333.user/partition=0/*.json\"\n",
    "file_type = \"json\"\n",
    "# Ask Spark to infer the schema\n",
    "infer_schema = \"true\"\n",
    "# Read in JSONs from mounted S3 bucket\n",
    "df_pin = spark.read.format(file_type).option(\"inferSchema\", infer_schema).load(filepath_pin)\n",
    "df_geo = spark.read.format(file_type).option(\"inferSchema\", infer_schema).load(filepath_geo)\n",
    "df_user = spark.read.format(file_type).option(\"inferSchema\", infer_schema).load(filepath_user)\n",
    "# Display Spark dataframe to check its content\n",
    "df_pin.limit(5).display()\n",
    "df_geo.limit(5).display()\n",
    "df_user.limit(5).display()"
   ]
  },
  {
   "cell_type": "markdown",
   "metadata": {
    "application/vnd.databricks.v1+cell": {
     "cellMetadata": {},
     "inputWidgets": {},
     "nuid": "ac3326cf-3f0d-4b45-a10d-96da198b535d",
     "showTitle": false,
     "title": ""
    }
   },
   "source": [
    "### Data cleaning:"
   ]
  },
  {
   "cell_type": "markdown",
   "metadata": {
    "application/vnd.databricks.v1+cell": {
     "cellMetadata": {},
     "inputWidgets": {},
     "nuid": "0e30d899-61b8-4b6b-be43-969f676a03be",
     "showTitle": false,
     "title": ""
    }
   },
   "source": [
    "##### 1. Pinterest data cleaning"
   ]
  },
  {
   "cell_type": "code",
   "execution_count": 0,
   "metadata": {
    "application/vnd.databricks.v1+cell": {
     "cellMetadata": {
      "byteLimit": 2048000,
      "rowLimit": 10000
     },
     "inputWidgets": {},
     "nuid": "57334f58-307b-4276-a82f-a1746d132085",
     "showTitle": false,
     "title": ""
    }
   },
   "outputs": [
    {
     "output_type": "display_data",
     "data": {
      "text/html": [
       "<style scoped>\n",
       "  .ansiout {\n",
       "    display: block;\n",
       "    unicode-bidi: embed;\n",
       "    white-space: pre-wrap;\n",
       "    word-wrap: break-word;\n",
       "    word-break: break-all;\n",
       "    font-family: \"Menlo\", \"Monaco\", \"Consolas\", \"Ubuntu Mono\", \"Source Code Pro\", monospace;\n",
       "    font-size: 13px;\n",
       "    color: #555;\n",
       "    margin-left: 4px;\n",
       "    line-height: 19px;\n",
       "  }\n",
       "</style>\n",
       "<div class=\"ansiout\"></div>"
      ]
     },
     "metadata": {
      "application/vnd.databricks.v1+output": {
       "addedWidgets": {},
       "arguments": {},
       "data": "<div class=\"ansiout\"></div>",
       "datasetInfos": [],
       "metadata": {},
       "removedWidgets": [],
       "type": "html"
      }
     },
     "output_type": "display_data"
    }
   ],
   "source": [
    "# Replace empty entries and entries with no relevant data in each column with Nones\n",
    "\n",
    "df_pin_cleaned = df_pin.withColumn(\"category\", when(df_pin[\"category\"].isNull(), None).otherwise(df_pin[\"category\"]))\n",
    "df_pin_cleaned = df_pin.withColumn(\"description\", when(df_pin[\"description\"].isNull(), None).otherwise(df_pin[\"description\"]))\n",
    "df_pin_cleaned = df_pin.withColumn(\"downloaded\", when(df_pin[\"downloaded\"].isNull(), None).otherwise(df_pin[\"downloaded\"]))\n",
    "df_pin_cleaned = df_pin.withColumn(\"follower_count\", when(df_pin[\"follower_count\"].isNull(), None).otherwise(df_pin[\"follower_count\"]))\n",
    "\n",
    "# Perform the necessary transformations on the follower_count to ensure every entry is a number. Make sure the data type of this column is an int.\n",
    "\n",
    "df_pin_cleaned = df_pin_cleaned.withColumn(\"follower_count\", \n",
    "                                when(col(\"follower_count\").endswith(\"k\"), regexp_replace(col(\"follower_count\"), \"k\", \"\").cast(\"int\")*1000)\n",
    "                                .when(col(\"follower_count\").endswith(\"k\"), regexp_replace(col(\"follower_count\"), \"M\", \"\").cast(\"int\")*1000000)\n",
    "                                .otherwise(col(\"follower_count\").cast(\"int\"))\n",
    "                                )\n",
    "\n",
    "# Ensure that each column containing numeric data has a numeric data type\n",
    "\n",
    "df_pin_cleaned = df_pin_cleaned.withColumn(\"downloaded\",col(\"downloaded\").cast(\"int\"))\n",
    "df_pin_cleaned = df_pin_cleaned.withColumn(\"follower_count\",col(\"follower_count\").cast(\"int\"))\n",
    "\n",
    "# Clean the data in the save_location column to include only the save location path\n",
    "\n",
    "df_pin_cleaned = df_pin_cleaned.withColumn(\"save_location\", regexp_replace(col(\"save_location\"), \"^Local save in \", \"\"))\n",
    "\n",
    "# Rename the index column to ind\n",
    "\n",
    "df_pin_cleaned = df_pin_cleaned.withColumnRenamed(\"index\", \"ind\")\n",
    "df_pin_cleaned = df_pin_cleaned.withColumn(\"ind\", col(\"ind\").cast(\"int\"))\n",
    "\n",
    "# Reorder the DataFrame columns\n",
    "\n",
    "pin_columns_reorder = [ \"ind\",\n",
    "                        \"unique_id\",\n",
    "                        \"title\",\n",
    "                        \"description\",\n",
    "                        \"follower_count\",\n",
    "                        \"poster_name\",\n",
    "                        \"tag_list\",\n",
    "                        \"is_image_or_video\",\n",
    "                        \"image_src\",\n",
    "                        \"save_location\",\n",
    "                        \"category\"\n",
    "                    ]\n",
    "\n",
    "df_pin_cleaned = df_pin_cleaned.select(pin_columns_reorder)"
   ]
  },
  {
   "cell_type": "markdown",
   "metadata": {
    "application/vnd.databricks.v1+cell": {
     "cellMetadata": {},
     "inputWidgets": {},
     "nuid": "10b9cc25-7914-45e6-97de-34d65760ffb6",
     "showTitle": false,
     "title": ""
    }
   },
   "source": [
    "##### 2. Geolocation data cleaning"
   ]
  },
  {
   "cell_type": "code",
   "execution_count": 0,
   "metadata": {
    "application/vnd.databricks.v1+cell": {
     "cellMetadata": {
      "byteLimit": 2048000,
      "rowLimit": 10000
     },
     "inputWidgets": {},
     "nuid": "6c0ca237-ffd9-4650-9c68-af8f35daa3b9",
     "showTitle": false,
     "title": ""
    }
   },
   "outputs": [
    {
     "output_type": "display_data",
     "data": {
      "text/html": [
       "<style scoped>\n",
       "  .ansiout {\n",
       "    display: block;\n",
       "    unicode-bidi: embed;\n",
       "    white-space: pre-wrap;\n",
       "    word-wrap: break-word;\n",
       "    word-break: break-all;\n",
       "    font-family: \"Menlo\", \"Monaco\", \"Consolas\", \"Ubuntu Mono\", \"Source Code Pro\", monospace;\n",
       "    font-size: 13px;\n",
       "    color: #555;\n",
       "    margin-left: 4px;\n",
       "    line-height: 19px;\n",
       "  }\n",
       "</style>\n",
       "<div class=\"ansiout\"></div>"
      ]
     },
     "metadata": {
      "application/vnd.databricks.v1+output": {
       "addedWidgets": {},
       "arguments": {},
       "data": "<div class=\"ansiout\"></div>",
       "datasetInfos": [],
       "metadata": {},
       "removedWidgets": [],
       "type": "html"
      }
     },
     "output_type": "display_data"
    }
   ],
   "source": [
    "# Create a new column coordinates that contains an array based on the latitude and longitude columns\n",
    "\n",
    "df_geo_cleaned = df_geo.withColumn(\"coordinates\", array(col(\"latitude\"), col(\"longitude\")))\n",
    "\n",
    "# Drop the latitude and longitude columns from the DataFrame\n",
    "\n",
    "df_geo_cleaned = df_geo_cleaned.drop(\"latitude\", \"longitude\")\n",
    "\n",
    "# Convert the timestamp column from a string to a timestamp data type\n",
    "\n",
    "df_geo_cleaned = df_geo_cleaned.withColumn(\"timestamp\", to_timestamp(\"timestamp\"))\n",
    "\n",
    "# Reorder the DataFrame columns\n",
    "\n",
    "geo_columns_reorder = [ \"ind\",\n",
    "                        \"country\",\n",
    "                        \"coordinates\",\n",
    "                        \"timestamp\"\n",
    "                    ]\n",
    "\n",
    "df_geo_cleaned = df_geo_cleaned.select(geo_columns_reorder)"
   ]
  },
  {
   "cell_type": "markdown",
   "metadata": {
    "application/vnd.databricks.v1+cell": {
     "cellMetadata": {},
     "inputWidgets": {},
     "nuid": "38657892-b4bd-4f20-abcb-fcc37d415be1",
     "showTitle": false,
     "title": ""
    }
   },
   "source": [
    "##### 3. Users data cleaning"
   ]
  },
  {
   "cell_type": "code",
   "execution_count": 0,
   "metadata": {
    "application/vnd.databricks.v1+cell": {
     "cellMetadata": {
      "byteLimit": 2048000,
      "rowLimit": 10000
     },
     "inputWidgets": {},
     "nuid": "5efa9097-2dab-4ca9-bd18-89a68428a978",
     "showTitle": false,
     "title": ""
    }
   },
   "outputs": [
    {
     "output_type": "display_data",
     "data": {
      "text/html": [
       "<style scoped>\n",
       "  .ansiout {\n",
       "    display: block;\n",
       "    unicode-bidi: embed;\n",
       "    white-space: pre-wrap;\n",
       "    word-wrap: break-word;\n",
       "    word-break: break-all;\n",
       "    font-family: \"Menlo\", \"Monaco\", \"Consolas\", \"Ubuntu Mono\", \"Source Code Pro\", monospace;\n",
       "    font-size: 13px;\n",
       "    color: #555;\n",
       "    margin-left: 4px;\n",
       "    line-height: 19px;\n",
       "  }\n",
       "</style>\n",
       "<div class=\"ansiout\"></div>"
      ]
     },
     "metadata": {
      "application/vnd.databricks.v1+output": {
       "addedWidgets": {},
       "arguments": {},
       "data": "<div class=\"ansiout\"></div>",
       "datasetInfos": [],
       "metadata": {},
       "removedWidgets": [],
       "type": "html"
      }
     },
     "output_type": "display_data"
    }
   ],
   "source": [
    "# Create a new column user_name that concatenates the information found in the first_name and last_name columns\n",
    "\n",
    "df_user_cleaned = df_user.withColumn(\"user_name\", concat_ws(\" \", col(\"first_name\"), col(\"last_name\")))\n",
    "\n",
    "# Drop the first_name and last_name columns from the DataFrame\n",
    "\n",
    "df_user_cleaned = df_user_cleaned.drop(\"first_name\", \"last_name\")\n",
    "\n",
    "# Convert the date_joined column from a string to a timestamp data type\n",
    "\n",
    "df_user_cleaned = df_user_cleaned.withColumn(\"date_joined\", to_timestamp(\"date_joined\"))\n",
    "\n",
    "# Reorder the DataFrame columns\n",
    "\n",
    "user_columns_reorder = [ \"ind\",\n",
    "                        \"user_name\",\n",
    "                        \"age\",\n",
    "                        \"date_joined\"\n",
    "                    ]\n",
    "\n",
    "df_user_cleaned = df_user_cleaned.select(user_columns_reorder)"
   ]
  },
  {
   "cell_type": "code",
   "execution_count": 0,
   "metadata": {
    "application/vnd.databricks.v1+cell": {
     "cellMetadata": {
      "byteLimit": 2048000,
      "rowLimit": 10000
     },
     "inputWidgets": {},
     "nuid": "78192665-e4da-46fb-bdd6-313cd0790c4c",
     "showTitle": false,
     "title": ""
    }
   },
   "outputs": [
    {
     "output_type": "display_data",
     "data": {
      "text/html": [
       "<style scoped>\n",
       "  .table-result-container {\n",
       "    max-height: 300px;\n",
       "    overflow: auto;\n",
       "  }\n",
       "  table, th, td {\n",
       "    border: 1px solid black;\n",
       "    border-collapse: collapse;\n",
       "  }\n",
       "  th, td {\n",
       "    padding: 5px;\n",
       "  }\n",
       "  th {\n",
       "    text-align: left;\n",
       "  }\n",
       "</style><div class='table-result-container'><table class='table-result'><thead style='background-color: white'><tr><th>ind</th><th>unique_id</th><th>title</th><th>description</th><th>follower_count</th><th>poster_name</th><th>tag_list</th><th>is_image_or_video</th><th>image_src</th><th>save_location</th><th>category</th></tr></thead><tbody><tr><td>6717</td><td>bc5ab9ee-505e-44f6-92ba-677fe4fdf3e3</td><td>〚 Уютные шведские коттеджи от Carina Olander 〛 ◾ Фото ◾ Идеи ◾ Дизайн</td><td>Традиционные шведские коттеджи, обычно с красным фасадом — это настоящее воплощением идеального зимнего уюта. Они обычно оформлены очень просто и ✌PUFIK. Beautiful Interiors. On… </td><td>136000</td><td>PUFIK Interiors & Inspirations</td><td>Scandinavian Cottage,Swedish Cottage,Swedish Home Decor,Swedish Farmhouse,Swedish Style,Swedish Kitchen,Kitchen Black,Swedish House,Cozy Cottage</td><td>image</td><td>https://i.pinimg.com/originals/32/eb/72/32eb72e4fd8654c115a64528bd1f34b4.png</td><td>/data/home-decor</td><td>home-decor</td></tr><tr><td>6633</td><td>d136f6bc-840d-44f8-bbad-115eb7e6c51e</td><td>The Cottage Journal on Instagram: “Can you say color?! 😍😍😍 We are loving the cheery vibes that these aqua blue cabinets are giving. If you could paint your cabinets any…”</td><td>6,636 Likes, 141 Comments - The Cottage Journal (@thecottagejournal) on Instagram: “Can you say color?! 😍😍😍 We are loving the cheery vibes that these aqua blue cabinets are g… </td><td>394</td><td>Sarah Martin</td><td>Diy Kitchen Cabinets,Kitchen Redo,Home Decor Kitchen,New Kitchen,Home Kitchens,Kitchen Remodeling,Aqua Kitchen,Kitchen Counters,Kitchen Islands</td><td>image</td><td>https://i.pinimg.com/originals/8c/17/a2/8c17a257b70780480bb89c3699363144.jpg</td><td>/data/home-decor</td><td>home-decor</td></tr><tr><td>1706</td><td>b5c8a1b5-9e90-4522-9bec-2477b698d5b7</td><td>Standing Figurine Toys Xmas Santa Claus Snowman Reindeer Figure Plush Dolls Christmas Decorations Ornaments Home Indoor Table Ornaments Christmas Party Tree Hanging Decor Toys Gifts for Kids Friends…</td><td>Features: Material:Lint Size:48ｘ18cm Quantity:1 pc Shape:Santa Claus, snowman. Elk Occasion:Christmas Description: 1. Fashion design, high quality 2. Santa Claus, snowman. Elk C… </td><td>5000</td><td>Wear24-7</td><td>Merry Christmas To You,Christmas Toys,Great Christmas Gifts,Christmas Snowman,Christmas Ornaments,Holiday,Christmas Party Decorations,Christmas Themes,Decoration Party</td><td>image</td><td>https://i.pinimg.com/originals/b5/7f/21/b57f219fa89c1165b57525b8eae711da.jpg</td><td>/data/christmas</td><td>christmas</td></tr><tr><td>1676</td><td>3ed92c2d-9cca-4ccf-ac25-44a9d8bec919</td><td>PAUPOO™ Pre-lit Artificial Christmas Hanging Basket - Flocked with Mixed Decorations and White LED Lights - Frosted Berry BUY 5 GET 2 FREE(7PACKS)</td><td>❤️ ❤️ MERRY CHRISTMAS ❤️ ❤️ ❤️ ❤️ Early Christmas Special:Buy 3 Get 1 Free, Buy 5 Get 2 Free,Deadline November 25. Color:GreenMaterial:Polyvinyl ChlorideItem Dimensions:LxWxH 20… </td><td>784</td><td>paupoo</td><td>Christmas Hanging Baskets,Christmas Plants,Christmas Wreaths,Christmas Ornaments,Merry Christmas,Christmas Sale,Christmas Porch Ideas,Hanging Christmas Lights,Christmas Island</td><td>image</td><td>https://i.pinimg.com/originals/ef/40/7e/ef407e9568aa46fed4162bd1fd28786e.jpg</td><td>/data/christmas</td><td>christmas</td></tr><tr><td>2482</td><td>08604f20-fa17-4b9a-9949-781717eca6cd</td><td>FORNT PORCH CHRISTMAS DECORATING IDEAS</td><td>Christmas decorating ideas for porches. Beautiful holiday decor ideas for front porches both small and large. Outdoor decorations like sleds, lanterns, Christmas trees, wreaths,… </td><td>46000</td><td>Life on Summerhill | Home, Holiday Decor & DIY Website</td><td>Diy Christmas Decorations For Home,Farmhouse Christmas Decor,Christmas Home,Christmas Holidays,Christmas Front Porches,How To Decorate For Christmas,Christmas Porch Ideas,Christmas Decorating Ideas,Large Outdoor Christmas Decorations</td><td>video</td><td>https://i.pinimg.com/videos/thumbnails/originals/40/83/f5/4083f5b4971bf235f89a4784ab87271e.0000001.jpg</td><td>/data/christmas</td><td>christmas</td></tr></tbody></table></div>"
      ]
     },
     "metadata": {
      "application/vnd.databricks.v1+output": {
       "addedWidgets": {},
       "aggData": [],
       "aggError": "",
       "aggOverflow": false,
       "aggSchema": [],
       "aggSeriesLimitReached": false,
       "aggType": "",
       "arguments": {},
       "columnCustomDisplayInfos": {},
       "data": [
        [
         6717,
         "bc5ab9ee-505e-44f6-92ba-677fe4fdf3e3",
         "〚 Уютные шведские коттеджи от Carina Olander 〛 ◾ Фото ◾ Идеи ◾ Дизайн",
         "Традиционные шведские коттеджи, обычно с красным фасадом — это настоящее воплощением идеального зимнего уюта. Они обычно оформлены очень просто и ✌PUFIK. Beautiful Interiors. On… ",
         136000,
         "PUFIK Interiors & Inspirations",
         "Scandinavian Cottage,Swedish Cottage,Swedish Home Decor,Swedish Farmhouse,Swedish Style,Swedish Kitchen,Kitchen Black,Swedish House,Cozy Cottage",
         "image",
         "https://i.pinimg.com/originals/32/eb/72/32eb72e4fd8654c115a64528bd1f34b4.png",
         "/data/home-decor",
         "home-decor"
        ],
        [
         6633,
         "d136f6bc-840d-44f8-bbad-115eb7e6c51e",
         "The Cottage Journal on Instagram: “Can you say color?! 😍😍😍 We are loving the cheery vibes that these aqua blue cabinets are giving. If you could paint your cabinets any…”",
         "6,636 Likes, 141 Comments - The Cottage Journal (@thecottagejournal) on Instagram: “Can you say color?! 😍😍😍 We are loving the cheery vibes that these aqua blue cabinets are g… ",
         394,
         "Sarah Martin",
         "Diy Kitchen Cabinets,Kitchen Redo,Home Decor Kitchen,New Kitchen,Home Kitchens,Kitchen Remodeling,Aqua Kitchen,Kitchen Counters,Kitchen Islands",
         "image",
         "https://i.pinimg.com/originals/8c/17/a2/8c17a257b70780480bb89c3699363144.jpg",
         "/data/home-decor",
         "home-decor"
        ],
        [
         1706,
         "b5c8a1b5-9e90-4522-9bec-2477b698d5b7",
         "Standing Figurine Toys Xmas Santa Claus Snowman Reindeer Figure Plush Dolls Christmas Decorations Ornaments Home Indoor Table Ornaments Christmas Party Tree Hanging Decor Toys Gifts for Kids Friends…",
         "Features: Material:Lint Size:48ｘ18cm Quantity:1 pc Shape:Santa Claus, snowman. Elk Occasion:Christmas Description: 1. Fashion design, high quality 2. Santa Claus, snowman. Elk C… ",
         5000,
         "Wear24-7",
         "Merry Christmas To You,Christmas Toys,Great Christmas Gifts,Christmas Snowman,Christmas Ornaments,Holiday,Christmas Party Decorations,Christmas Themes,Decoration Party",
         "image",
         "https://i.pinimg.com/originals/b5/7f/21/b57f219fa89c1165b57525b8eae711da.jpg",
         "/data/christmas",
         "christmas"
        ],
        [
         1676,
         "3ed92c2d-9cca-4ccf-ac25-44a9d8bec919",
         "PAUPOO™ Pre-lit Artificial Christmas Hanging Basket - Flocked with Mixed Decorations and White LED Lights - Frosted Berry BUY 5 GET 2 FREE(7PACKS)",
         "❤️ ❤️ MERRY CHRISTMAS ❤️ ❤️ ❤️ ❤️ Early Christmas Special:Buy 3 Get 1 Free, Buy 5 Get 2 Free,Deadline November 25. Color:GreenMaterial:Polyvinyl ChlorideItem Dimensions:LxWxH 20… ",
         784,
         "paupoo",
         "Christmas Hanging Baskets,Christmas Plants,Christmas Wreaths,Christmas Ornaments,Merry Christmas,Christmas Sale,Christmas Porch Ideas,Hanging Christmas Lights,Christmas Island",
         "image",
         "https://i.pinimg.com/originals/ef/40/7e/ef407e9568aa46fed4162bd1fd28786e.jpg",
         "/data/christmas",
         "christmas"
        ],
        [
         2482,
         "08604f20-fa17-4b9a-9949-781717eca6cd",
         "FORNT PORCH CHRISTMAS DECORATING IDEAS",
         "Christmas decorating ideas for porches. Beautiful holiday decor ideas for front porches both small and large. Outdoor decorations like sleds, lanterns, Christmas trees, wreaths,… ",
         46000,
         "Life on Summerhill | Home, Holiday Decor & DIY Website",
         "Diy Christmas Decorations For Home,Farmhouse Christmas Decor,Christmas Home,Christmas Holidays,Christmas Front Porches,How To Decorate For Christmas,Christmas Porch Ideas,Christmas Decorating Ideas,Large Outdoor Christmas Decorations",
         "video",
         "https://i.pinimg.com/videos/thumbnails/originals/40/83/f5/4083f5b4971bf235f89a4784ab87271e.0000001.jpg",
         "/data/christmas",
         "christmas"
        ]
       ],
       "datasetInfos": [],
       "dbfsResultPath": null,
       "isJsonSchema": true,
       "metadata": {},
       "overflow": false,
       "plotOptions": {
        "customPlotOptions": {},
        "displayType": "table",
        "pivotAggregation": null,
        "pivotColumns": null,
        "xColumns": null,
        "yColumns": null
       },
       "removedWidgets": [],
       "schema": [
        {
         "metadata": "{}",
         "name": "ind",
         "type": "\"integer\""
        },
        {
         "metadata": "{}",
         "name": "unique_id",
         "type": "\"string\""
        },
        {
         "metadata": "{}",
         "name": "title",
         "type": "\"string\""
        },
        {
         "metadata": "{}",
         "name": "description",
         "type": "\"string\""
        },
        {
         "metadata": "{}",
         "name": "follower_count",
         "type": "\"integer\""
        },
        {
         "metadata": "{}",
         "name": "poster_name",
         "type": "\"string\""
        },
        {
         "metadata": "{}",
         "name": "tag_list",
         "type": "\"string\""
        },
        {
         "metadata": "{}",
         "name": "is_image_or_video",
         "type": "\"string\""
        },
        {
         "metadata": "{}",
         "name": "image_src",
         "type": "\"string\""
        },
        {
         "metadata": "{}",
         "name": "save_location",
         "type": "\"string\""
        },
        {
         "metadata": "{}",
         "name": "category",
         "type": "\"string\""
        }
       ],
       "type": "table"
      }
     },
     "output_type": "display_data"
    },
    {
     "output_type": "display_data",
     "data": {
      "text/html": [
       "<style scoped>\n",
       "  .table-result-container {\n",
       "    max-height: 300px;\n",
       "    overflow: auto;\n",
       "  }\n",
       "  table, th, td {\n",
       "    border: 1px solid black;\n",
       "    border-collapse: collapse;\n",
       "  }\n",
       "  th, td {\n",
       "    padding: 5px;\n",
       "  }\n",
       "  th {\n",
       "    text-align: left;\n",
       "  }\n",
       "</style><div class='table-result-container'><table class='table-result'><thead style='background-color: white'><tr><th>ind</th><th>country</th><th>coordinates</th><th>timestamp</th></tr></thead><tbody><tr><td>9455</td><td>British Indian Ocean Territory (Chagos Archipelago)</td><td>List(-82.9272, -150.346)</td><td>2022-03-15T01:46:32.000+0000</td></tr><tr><td>6814</td><td>British Indian Ocean Territory (Chagos Archipelago)</td><td>List(-86.5675, -149.565)</td><td>2022-09-02T11:34:28.000+0000</td></tr><tr><td>5111</td><td>British Indian Ocean Territory (Chagos Archipelago)</td><td>List(-83.7472, 8.65953)</td><td>2021-04-01T00:56:57.000+0000</td></tr><tr><td>10073</td><td>Antarctica (the territory South of 60 deg S)</td><td>List(-32.8885, -170.295)</td><td>2021-06-29T19:56:04.000+0000</td></tr><tr><td>2418</td><td>Antarctica (the territory South of 60 deg S)</td><td>List(-88.4642, -171.061)</td><td>2022-05-27T11:30:59.000+0000</td></tr></tbody></table></div>"
      ]
     },
     "metadata": {
      "application/vnd.databricks.v1+output": {
       "addedWidgets": {},
       "aggData": [],
       "aggError": "",
       "aggOverflow": false,
       "aggSchema": [],
       "aggSeriesLimitReached": false,
       "aggType": "",
       "arguments": {},
       "columnCustomDisplayInfos": {},
       "data": [
        [
         9455,
         "British Indian Ocean Territory (Chagos Archipelago)",
         [
          -82.9272,
          -150.346
         ],
         "2022-03-15T01:46:32.000+0000"
        ],
        [
         6814,
         "British Indian Ocean Territory (Chagos Archipelago)",
         [
          -86.5675,
          -149.565
         ],
         "2022-09-02T11:34:28.000+0000"
        ],
        [
         5111,
         "British Indian Ocean Territory (Chagos Archipelago)",
         [
          -83.7472,
          8.65953
         ],
         "2021-04-01T00:56:57.000+0000"
        ],
        [
         10073,
         "Antarctica (the territory South of 60 deg S)",
         [
          -32.8885,
          -170.295
         ],
         "2021-06-29T19:56:04.000+0000"
        ],
        [
         2418,
         "Antarctica (the territory South of 60 deg S)",
         [
          -88.4642,
          -171.061
         ],
         "2022-05-27T11:30:59.000+0000"
        ]
       ],
       "datasetInfos": [],
       "dbfsResultPath": null,
       "isJsonSchema": true,
       "metadata": {},
       "overflow": false,
       "plotOptions": {
        "customPlotOptions": {},
        "displayType": "table",
        "pivotAggregation": null,
        "pivotColumns": null,
        "xColumns": null,
        "yColumns": null
       },
       "removedWidgets": [],
       "schema": [
        {
         "metadata": "{}",
         "name": "ind",
         "type": "\"long\""
        },
        {
         "metadata": "{}",
         "name": "country",
         "type": "\"string\""
        },
        {
         "metadata": "{}",
         "name": "coordinates",
         "type": "{\"type\":\"array\",\"elementType\":\"double\",\"containsNull\":true}"
        },
        {
         "metadata": "{}",
         "name": "timestamp",
         "type": "\"timestamp\""
        }
       ],
       "type": "table"
      }
     },
     "output_type": "display_data"
    },
    {
     "output_type": "display_data",
     "data": {
      "text/html": [
       "<style scoped>\n",
       "  .table-result-container {\n",
       "    max-height: 300px;\n",
       "    overflow: auto;\n",
       "  }\n",
       "  table, th, td {\n",
       "    border: 1px solid black;\n",
       "    border-collapse: collapse;\n",
       "  }\n",
       "  th, td {\n",
       "    padding: 5px;\n",
       "  }\n",
       "  th {\n",
       "    text-align: left;\n",
       "  }\n",
       "</style><div class='table-result-container'><table class='table-result'><thead style='background-color: white'><tr><th>ind</th><th>user_name</th><th>age</th><th>date_joined</th></tr></thead><tbody><tr><td>2015</td><td>Christopher Bradshaw</td><td>27</td><td>2016-03-08T13:38:37.000+0000</td></tr><tr><td>10673</td><td>Alexander Cervantes</td><td>59</td><td>2017-05-12T21:22:17.000+0000</td></tr><tr><td>1857</td><td>Christopher Hamilton</td><td>48</td><td>2016-02-27T16:57:44.000+0000</td></tr><tr><td>10020</td><td>Christopher Hawkins</td><td>45</td><td>2016-09-15T06:02:53.000+0000</td></tr><tr><td>2041</td><td>Christopher Campbell</td><td>35</td><td>2015-10-22T22:42:23.000+0000</td></tr><tr><td>7031</td><td>Christopher Anderson</td><td>48</td><td>2016-06-13T17:09:14.000+0000</td></tr><tr><td>6398</td><td>Christina Davenport</td><td>39</td><td>2016-06-29T20:43:59.000+0000</td></tr><tr><td>3599</td><td>Alexandria Alvarado</td><td>20</td><td>2015-10-23T04:13:23.000+0000</td></tr><tr><td>4256</td><td>Alexandria Alvarado</td><td>20</td><td>2015-10-23T04:13:23.000+0000</td></tr><tr><td>1901</td><td>Michelle Richardson</td><td>44</td><td>2016-12-18T16:05:39.000+0000</td></tr></tbody></table></div>"
      ]
     },
     "metadata": {
      "application/vnd.databricks.v1+output": {
       "addedWidgets": {},
       "aggData": [],
       "aggError": "",
       "aggOverflow": false,
       "aggSchema": [],
       "aggSeriesLimitReached": false,
       "aggType": "",
       "arguments": {},
       "columnCustomDisplayInfos": {},
       "data": [
        [
         2015,
         "Christopher Bradshaw",
         27,
         "2016-03-08T13:38:37.000+0000"
        ],
        [
         10673,
         "Alexander Cervantes",
         59,
         "2017-05-12T21:22:17.000+0000"
        ],
        [
         1857,
         "Christopher Hamilton",
         48,
         "2016-02-27T16:57:44.000+0000"
        ],
        [
         10020,
         "Christopher Hawkins",
         45,
         "2016-09-15T06:02:53.000+0000"
        ],
        [
         2041,
         "Christopher Campbell",
         35,
         "2015-10-22T22:42:23.000+0000"
        ],
        [
         7031,
         "Christopher Anderson",
         48,
         "2016-06-13T17:09:14.000+0000"
        ],
        [
         6398,
         "Christina Davenport",
         39,
         "2016-06-29T20:43:59.000+0000"
        ],
        [
         3599,
         "Alexandria Alvarado",
         20,
         "2015-10-23T04:13:23.000+0000"
        ],
        [
         4256,
         "Alexandria Alvarado",
         20,
         "2015-10-23T04:13:23.000+0000"
        ],
        [
         1901,
         "Michelle Richardson",
         44,
         "2016-12-18T16:05:39.000+0000"
        ]
       ],
       "datasetInfos": [],
       "dbfsResultPath": null,
       "isJsonSchema": true,
       "metadata": {},
       "overflow": false,
       "plotOptions": {
        "customPlotOptions": {},
        "displayType": "table",
        "pivotAggregation": null,
        "pivotColumns": null,
        "xColumns": null,
        "yColumns": null
       },
       "removedWidgets": [],
       "schema": [
        {
         "metadata": "{}",
         "name": "ind",
         "type": "\"long\""
        },
        {
         "metadata": "{}",
         "name": "user_name",
         "type": "\"string\""
        },
        {
         "metadata": "{}",
         "name": "age",
         "type": "\"long\""
        },
        {
         "metadata": "{}",
         "name": "date_joined",
         "type": "\"timestamp\""
        }
       ],
       "type": "table"
      }
     },
     "output_type": "display_data"
    }
   ],
   "source": [
    "df_pin_cleaned.limit(5).display()\n",
    "df_geo_cleaned.limit(5).display()\n",
    "df_user_cleaned.limit(5).display()"
   ]
  },
  {
   "cell_type": "markdown",
   "metadata": {
    "application/vnd.databricks.v1+cell": {
     "cellMetadata": {},
     "inputWidgets": {},
     "nuid": "3c8ea3e3-0a94-4014-8bda-f74482e88586",
     "showTitle": false,
     "title": ""
    }
   },
   "source": [
    "### Data queries:"
   ]
  },
  {
   "cell_type": "markdown",
   "metadata": {
    "application/vnd.databricks.v1+cell": {
     "cellMetadata": {},
     "inputWidgets": {},
     "nuid": "dd41995c-57a1-4c67-ad7c-2938a0db10dd",
     "showTitle": false,
     "title": ""
    }
   },
   "source": [
    "##### 1. Find the most popular category in each country"
   ]
  },
  {
   "cell_type": "code",
   "execution_count": 0,
   "metadata": {
    "application/vnd.databricks.v1+cell": {
     "cellMetadata": {
      "byteLimit": 2048000,
      "rowLimit": 10000
     },
     "inputWidgets": {},
     "nuid": "429cf041-988d-4ba0-b2b0-73566c424a78",
     "showTitle": false,
     "title": ""
    },
    "jupyter": {
     "outputs_hidden": true
    }
   },
   "outputs": [
    {
     "output_type": "display_data",
     "data": {
      "text/html": [
       "<style scoped>\n",
       "  .ansiout {\n",
       "    display: block;\n",
       "    unicode-bidi: embed;\n",
       "    white-space: pre-wrap;\n",
       "    word-wrap: break-word;\n",
       "    word-break: break-all;\n",
       "    font-family: \"Menlo\", \"Monaco\", \"Consolas\", \"Ubuntu Mono\", \"Source Code Pro\", monospace;\n",
       "    font-size: 13px;\n",
       "    color: #555;\n",
       "    margin-left: 4px;\n",
       "    line-height: 19px;\n",
       "  }\n",
       "</style>\n",
       "<div class=\"ansiout\">+--------------------+--------------+--------------+\n",
       "             country|      category|category_count|\n",
       "+--------------------+--------------+--------------+\n",
       "         Afghanistan|     education|             7|\n",
       "             Albania|  mens-fashion|            20|\n",
       "             Algeria|        quotes|            16|\n",
       "      American Samoa|     education|             8|\n",
       "             Andorra|       tattoos|             7|\n",
       "              Angola|diy-and-crafts|             6|\n",
       "            Anguilla|    home-decor|             6|\n",
       "Antarctica (the t...|     christmas|             5|\n",
       " Antigua and Barbuda|     christmas|             6|\n",
       "           Argentina|       tattoos|            11|\n",
       "             Armenia|diy-and-crafts|            11|\n",
       "               Aruba|       tattoos|            14|\n",
       "           Australia|     christmas|             5|\n",
       "             Austria|        travel|             2|\n",
       "          Azerbaijan|event-planning|            11|\n",
       "             Bahamas|           art|             9|\n",
       "             Bahrain|        travel|             2|\n",
       "          Bangladesh|       finance|             4|\n",
       "            Barbados|        travel|             4|\n",
       "             Belarus|        travel|             2|\n",
       "+--------------------+--------------+--------------+\n",
       "only showing top 20 rows\n",
       "\n",
       "</div>"
      ]
     },
     "metadata": {
      "application/vnd.databricks.v1+output": {
       "addedWidgets": {},
       "arguments": {},
       "data": "<div class=\"ansiout\">+--------------------+--------------+--------------+\n|             country|      category|category_count|\n+--------------------+--------------+--------------+\n|         Afghanistan|     education|             7|\n|             Albania|  mens-fashion|            20|\n|             Algeria|        quotes|            16|\n|      American Samoa|     education|             8|\n|             Andorra|       tattoos|             7|\n|              Angola|diy-and-crafts|             6|\n|            Anguilla|    home-decor|             6|\n|Antarctica (the t...|     christmas|             5|\n| Antigua and Barbuda|     christmas|             6|\n|           Argentina|       tattoos|            11|\n|             Armenia|diy-and-crafts|            11|\n|               Aruba|       tattoos|            14|\n|           Australia|     christmas|             5|\n|             Austria|        travel|             2|\n|          Azerbaijan|event-planning|            11|\n|             Bahamas|           art|             9|\n|             Bahrain|        travel|             2|\n|          Bangladesh|       finance|             4|\n|            Barbados|        travel|             4|\n|             Belarus|        travel|             2|\n+--------------------+--------------+--------------+\nonly showing top 20 rows\n\n</div>",
       "datasetInfos": [],
       "metadata": {},
       "removedWidgets": [],
       "type": "html"
      }
     },
     "output_type": "display_data"
    }
   ],
   "source": [
    "df_1 = df_pin_cleaned   .join(df_geo_cleaned, 'ind') \\\n",
    "                        .groupBy('country', 'category') \\\n",
    "                        .agg(count('*').alias('count')) \\\n",
    "                        .groupBy('country') \\\n",
    "                        .agg(max(struct('count', 'category')).alias('max_count')) \\\n",
    "                        .select('country', 'max_count.category', 'max_count.count') \\\n",
    "                        .withColumnRenamed(\"count\", \"category_count\")\n",
    "\n",
    "df_1.show()\n",
    "     "
   ]
  },
  {
   "cell_type": "markdown",
   "metadata": {
    "application/vnd.databricks.v1+cell": {
     "cellMetadata": {},
     "inputWidgets": {},
     "nuid": "181ba543-8f62-4abf-8f8a-018f849527d2",
     "showTitle": false,
     "title": ""
    }
   },
   "source": [
    "##### 2. Find how many posts each category had between 2018 and 2022"
   ]
  },
  {
   "cell_type": "code",
   "execution_count": 0,
   "metadata": {
    "application/vnd.databricks.v1+cell": {
     "cellMetadata": {
      "byteLimit": 2048000,
      "rowLimit": 10000
     },
     "inputWidgets": {},
     "nuid": "53e3ab8b-071c-4d6c-96ad-d37175fd0e98",
     "showTitle": false,
     "title": ""
    },
    "jupyter": {
     "outputs_hidden": true
    }
   },
   "outputs": [
    {
     "output_type": "display_data",
     "data": {
      "text/html": [
       "<style scoped>\n",
       "  .ansiout {\n",
       "    display: block;\n",
       "    unicode-bidi: embed;\n",
       "    white-space: pre-wrap;\n",
       "    word-wrap: break-word;\n",
       "    word-break: break-all;\n",
       "    font-family: \"Menlo\", \"Monaco\", \"Consolas\", \"Ubuntu Mono\", \"Source Code Pro\", monospace;\n",
       "    font-size: 13px;\n",
       "    color: #555;\n",
       "    margin-left: 4px;\n",
       "    line-height: 19px;\n",
       "  }\n",
       "</style>\n",
       "<div class=\"ansiout\">+---------+--------------+--------------+\n",
       "post_year|category_count|      category|\n",
       "+---------+--------------+--------------+\n",
       "     2018|            25|diy-and-crafts|\n",
       "     2019|            25|diy-and-crafts|\n",
       "     2020|            35|  mens-fashion|\n",
       "     2021|            34|       finance|\n",
       "     2022|            27|     christmas|\n",
       "+---------+--------------+--------------+\n",
       "\n",
       "</div>"
      ]
     },
     "metadata": {
      "application/vnd.databricks.v1+output": {
       "addedWidgets": {},
       "arguments": {},
       "data": "<div class=\"ansiout\">+---------+--------------+--------------+\n|post_year|category_count|      category|\n+---------+--------------+--------------+\n|     2018|            25|diy-and-crafts|\n|     2019|            25|diy-and-crafts|\n|     2020|            35|  mens-fashion|\n|     2021|            34|       finance|\n|     2022|            27|     christmas|\n+---------+--------------+--------------+\n\n</div>",
       "datasetInfos": [],
       "metadata": {},
       "removedWidgets": [],
       "type": "html"
      }
     },
     "output_type": "display_data"
    }
   ],
   "source": [
    "df_2 = df_pin_cleaned   .join(df_geo_cleaned, 'ind') \\\n",
    "                        .filter((year('timestamp') >= 2018) & (year('timestamp') <=2022)) \\\n",
    "                        .groupBy(year('timestamp').alias('post_year'), 'category') \\\n",
    "                        .agg(count('*').alias('category_count')) \\\n",
    "                        .orderBy(['post_year', 'category_count'], ascending=[True, False]) \\\n",
    "                        .groupBy('post_year') \\\n",
    "                        .agg({'category': 'first', 'category_count': 'first'}) \\\n",
    "                        .withColumnRenamed('first(category)', 'category') \\\n",
    "                        .withColumnRenamed('first(category_count)', 'category_count')\n",
    "\n",
    "df_2.show()\n"
   ]
  },
  {
   "cell_type": "markdown",
   "metadata": {
    "application/vnd.databricks.v1+cell": {
     "cellMetadata": {},
     "inputWidgets": {},
     "nuid": "0cc799d8-e546-4cbe-84c6-b3c61665b7a9",
     "showTitle": false,
     "title": ""
    }
   },
   "source": [
    "##### 3. Find the user with the most followers in each country"
   ]
  },
  {
   "cell_type": "code",
   "execution_count": 0,
   "metadata": {
    "application/vnd.databricks.v1+cell": {
     "cellMetadata": {
      "byteLimit": 2048000,
      "rowLimit": 10000
     },
     "inputWidgets": {},
     "nuid": "2d0edb24-cdca-410f-96aa-f407ad18dcda",
     "showTitle": false,
     "title": ""
    }
   },
   "outputs": [
    {
     "output_type": "display_data",
     "data": {
      "text/html": [
       "<style scoped>\n",
       "  .ansiout {\n",
       "    display: block;\n",
       "    unicode-bidi: embed;\n",
       "    white-space: pre-wrap;\n",
       "    word-wrap: break-word;\n",
       "    word-break: break-all;\n",
       "    font-family: \"Menlo\", \"Monaco\", \"Consolas\", \"Ubuntu Mono\", \"Source Code Pro\", monospace;\n",
       "    font-size: 13px;\n",
       "    color: #555;\n",
       "    margin-left: 4px;\n",
       "    line-height: 19px;\n",
       "  }\n",
       "</style>\n",
       "<div class=\"ansiout\">+--------------------+--------------------+-------------+\n",
       "             country|         poster_name|max_followers|\n",
       "+--------------------+--------------------+-------------+\n",
       "             Hungary|             Pandora|          848|\n",
       "Central African R...|        Louy Magroos|          426|\n",
       "             Bahrain|    Decor Home Ideas|       144000|\n",
       "              Uganda|      Lauren McBride|        84000|\n",
       "Bouvet Island (Bo...|SelfMadeLadies | ...|        34000|\n",
       "        Burkina Faso|   Dare to Cultivate|         7000|\n",
       "Bouvet Island (Bo...|I Heart Crafty Th...|       276000|\n",
       "         Afghanistan|             Walmart|         null|\n",
       "              Latvia|STRAIGHT OUT OF T...|         1000|\n",
       "             Albania|The Budget Mom | ...|        97000|\n",
       "  Dominican Republic|     Petite in Paris|         3000|\n",
       "          Montserrat|Taming Little Mon...|         4000|\n",
       "          Mauritania|   The Literacy Nest|        22000|\n",
       "               Kenya|FOURLINE DESIGN |...|        26000|\n",
       "           Hong Kong|Miranda Schroeder...|        14000|\n",
       "           Argentina|The Practical Sav...|        60000|\n",
       "              Kuwait| Green Wedding Shoes|         null|\n",
       "              Guinea|Woodchuck&#39;s Fine ...|          320|\n",
       "United States of ...|    Alicia Greenwood|            0|\n",
       "             Liberia|Happy Hooligans -...|       550000|\n",
       "+--------------------+--------------------+-------------+\n",
       "only showing top 20 rows\n",
       "\n",
       "+--------------------+-------------+\n",
       "             country|folloer_count|\n",
       "+--------------------+-------------+\n",
       "                Chad|       226000|\n",
       "            Anguilla|        92000|\n",
       "            Paraguay|          392|\n",
       "               Macao|         3000|\n",
       "Heard Island and ...|       487000|\n",
       "               Yemen|         4000|\n",
       "              Sweden|        58000|\n",
       "             Tokelau|       384000|\n",
       "            Kiribati|         8000|\n",
       "French Southern T...|        59000|\n",
       "              Guyana|          394|\n",
       "         Philippines|         2000|\n",
       "            Djibouti|       275000|\n",
       "      Norfolk Island|         6000|\n",
       "               Tonga|            0|\n",
       "           Singapore|         3000|\n",
       "                Fiji|        41000|\n",
       "United States Vir...|        12000|\n",
       "              Turkey|         9000|\n",
       "              Malawi|        14000|\n",
       "+--------------------+-------------+\n",
       "only showing top 20 rows\n",
       "\n",
       "</div>"
      ]
     },
     "metadata": {
      "application/vnd.databricks.v1+output": {
       "addedWidgets": {},
       "arguments": {},
       "data": "<div class=\"ansiout\">+--------------------+--------------------+-------------+\n|             country|         poster_name|max_followers|\n+--------------------+--------------------+-------------+\n|             Hungary|             Pandora|          848|\n|Central African R...|        Louy Magroos|          426|\n|             Bahrain|    Decor Home Ideas|       144000|\n|              Uganda|      Lauren McBride|        84000|\n|Bouvet Island (Bo...|SelfMadeLadies | ...|        34000|\n|        Burkina Faso|   Dare to Cultivate|         7000|\n|Bouvet Island (Bo...|I Heart Crafty Th...|       276000|\n|         Afghanistan|             Walmart|         null|\n|              Latvia|STRAIGHT OUT OF T...|         1000|\n|             Albania|The Budget Mom | ...|        97000|\n|  Dominican Republic|     Petite in Paris|         3000|\n|          Montserrat|Taming Little Mon...|         4000|\n|          Mauritania|   The Literacy Nest|        22000|\n|               Kenya|FOURLINE DESIGN |...|        26000|\n|           Hong Kong|Miranda Schroeder...|        14000|\n|           Argentina|The Practical Sav...|        60000|\n|              Kuwait| Green Wedding Shoes|         null|\n|              Guinea|Woodchuck&#39;s Fine ...|          320|\n|United States of ...|    Alicia Greenwood|            0|\n|             Liberia|Happy Hooligans -...|       550000|\n+--------------------+--------------------+-------------+\nonly showing top 20 rows\n\n+--------------------+-------------+\n|             country|folloer_count|\n+--------------------+-------------+\n|                Chad|       226000|\n|            Anguilla|        92000|\n|            Paraguay|          392|\n|               Macao|         3000|\n|Heard Island and ...|       487000|\n|               Yemen|         4000|\n|              Sweden|        58000|\n|             Tokelau|       384000|\n|            Kiribati|         8000|\n|French Southern T...|        59000|\n|              Guyana|          394|\n|         Philippines|         2000|\n|            Djibouti|       275000|\n|      Norfolk Island|         6000|\n|               Tonga|            0|\n|           Singapore|         3000|\n|                Fiji|        41000|\n|United States Vir...|        12000|\n|              Turkey|         9000|\n|              Malawi|        14000|\n+--------------------+-------------+\nonly showing top 20 rows\n\n</div>",
       "datasetInfos": [],
       "metadata": {},
       "removedWidgets": [],
       "type": "html"
      }
     },
     "output_type": "display_data"
    }
   ],
   "source": [
    "df_3_most_followed_user = df_pin_cleaned.join(df_geo_cleaned, 'ind', 'inner') \\\n",
    "                                        .groupBy('country', 'poster_name') \\\n",
    "                                        .agg(max('follower_count').alias('max_followers'))\n",
    "\n",
    "df_3_most_followed_user.show()\n",
    "\n",
    "df_3_most_followed_country = df_3_most_followed_user.groupBy(\"country\") \\\n",
    "                                                    .agg(max(\"max_followers\").alias(\"folloer_count\"))\n",
    "\n",
    "df_3_most_followed_country.show()"
   ]
  },
  {
   "cell_type": "markdown",
   "metadata": {
    "application/vnd.databricks.v1+cell": {
     "cellMetadata": {},
     "inputWidgets": {},
     "nuid": "45714022-4010-417f-922d-09cb0dbcea1f",
     "showTitle": false,
     "title": ""
    }
   },
   "source": [
    "##### 4. Find the most popular category for different age groups\n",
    "18-24, 25-35, 36-50, 50+"
   ]
  },
  {
   "cell_type": "code",
   "execution_count": 0,
   "metadata": {
    "application/vnd.databricks.v1+cell": {
     "cellMetadata": {
      "byteLimit": 2048000,
      "rowLimit": 10000
     },
     "inputWidgets": {},
     "nuid": "50deb684-67d9-47cb-a884-a509e13e1705",
     "showTitle": false,
     "title": ""
    }
   },
   "outputs": [
    {
     "output_type": "display_data",
     "data": {
      "text/html": [
       "<style scoped>\n",
       "  .ansiout {\n",
       "    display: block;\n",
       "    unicode-bidi: embed;\n",
       "    white-space: pre-wrap;\n",
       "    word-wrap: break-word;\n",
       "    word-break: break-all;\n",
       "    font-family: \"Menlo\", \"Monaco\", \"Consolas\", \"Ubuntu Mono\", \"Source Code Pro\", monospace;\n",
       "    font-size: 13px;\n",
       "    color: #555;\n",
       "    margin-left: 4px;\n",
       "    line-height: 19px;\n",
       "  }\n",
       "</style>\n",
       "<div class=\"ansiout\">+---------+--------------+--------------+\n",
       "age_group|      category|category_count|\n",
       "+---------+--------------+--------------+\n",
       "    18-24|           art|            62|\n",
       "    25-35|diy-and-crafts|            33|\n",
       "    36-50|        travel|            22|\n",
       "      50+|  mens-fashion|            10|\n",
       "+---------+--------------+--------------+\n",
       "\n",
       "</div>"
      ]
     },
     "metadata": {
      "application/vnd.databricks.v1+output": {
       "addedWidgets": {},
       "arguments": {},
       "data": "<div class=\"ansiout\">+---------+--------------+--------------+\n|age_group|      category|category_count|\n+---------+--------------+--------------+\n|    18-24|           art|            62|\n|    25-35|diy-and-crafts|            33|\n|    36-50|        travel|            22|\n|      50+|  mens-fashion|            10|\n+---------+--------------+--------------+\n\n</div>",
       "datasetInfos": [],
       "metadata": {},
       "removedWidgets": [],
       "type": "html"
      }
     },
     "output_type": "display_data"
    }
   ],
   "source": [
    "df_4_agegroup = df_pin_cleaned  .join(df_user_cleaned, 'ind') \\\n",
    "                                .withColumn(\n",
    "                                    'age_group',\n",
    "                                     when((col('age') >= 18) & (col('age') <= 24), \"18-24\")\n",
    "                                    .when((col('age') >= 25) & (col('age') <= 35), \"25-35\")\n",
    "                                    .when((col('age') >= 36) & (col('age') <= 50), \"36-50\")\n",
    "                                    .when((col('age') > 50), \"50+\")\n",
    "                                    .otherwise('unknown')\n",
    "                                )\n",
    "\n",
    "df_4 = df_4_agegroup.groupBy('age_group', 'category') \\\n",
    "                    .agg(count('*').alias('category_count')) \\\n",
    "                    .groupBy('age_group') \\\n",
    "                    .agg(max(struct('category_count', 'category')).alias('max_count')) \\\n",
    "                    .select('age_group', 'max_count.category', 'max_count.category_count')\n",
    "\n",
    "df_4.show()"
   ]
  },
  {
   "cell_type": "markdown",
   "metadata": {
    "application/vnd.databricks.v1+cell": {
     "cellMetadata": {},
     "inputWidgets": {},
     "nuid": "0e8c6bb4-41cd-4370-aee9-c5a6bc8515b5",
     "showTitle": false,
     "title": ""
    }
   },
   "source": [
    "##### 5. Find the median follower count for different age groups\n",
    "18-24, 25-35, 36-50, 50+"
   ]
  },
  {
   "cell_type": "code",
   "execution_count": 0,
   "metadata": {
    "application/vnd.databricks.v1+cell": {
     "cellMetadata": {
      "byteLimit": 2048000,
      "rowLimit": 10000
     },
     "inputWidgets": {},
     "nuid": "ae888d1a-4e61-4751-8414-41a229b7cb05",
     "showTitle": false,
     "title": ""
    }
   },
   "outputs": [
    {
     "output_type": "display_data",
     "data": {
      "text/html": [
       "<style scoped>\n",
       "  .ansiout {\n",
       "    display: block;\n",
       "    unicode-bidi: embed;\n",
       "    white-space: pre-wrap;\n",
       "    word-wrap: break-word;\n",
       "    word-break: break-all;\n",
       "    font-family: \"Menlo\", \"Monaco\", \"Consolas\", \"Ubuntu Mono\", \"Source Code Pro\", monospace;\n",
       "    font-size: 13px;\n",
       "    color: #555;\n",
       "    margin-left: 4px;\n",
       "    line-height: 19px;\n",
       "  }\n",
       "</style>\n",
       "<div class=\"ansiout\">+---------+---------------------------------------------+\n",
       "age_group|percentile_approx(follower_count, 0.5, 10000)|\n",
       "+---------+---------------------------------------------+\n",
       "      50+|                                          777|\n",
       "    36-50|                                         6000|\n",
       "    18-24|                                        71000|\n",
       "    25-35|                                        26000|\n",
       "+---------+---------------------------------------------+\n",
       "\n",
       "</div>"
      ]
     },
     "metadata": {
      "application/vnd.databricks.v1+output": {
       "addedWidgets": {},
       "arguments": {},
       "data": "<div class=\"ansiout\">+---------+---------------------------------------------+\n|age_group|percentile_approx(follower_count, 0.5, 10000)|\n+---------+---------------------------------------------+\n|      50+|                                          777|\n|    36-50|                                         6000|\n|    18-24|                                        71000|\n|    25-35|                                        26000|\n+---------+---------------------------------------------+\n\n</div>",
       "datasetInfos": [],
       "metadata": {},
       "removedWidgets": [],
       "type": "html"
      }
     },
     "output_type": "display_data"
    }
   ],
   "source": [
    "df_5 = df_4_agegroup.groupBy('age_group') \\\n",
    "                    .agg(percentile_approx('follower_count', 0.5)).alias('median_count')\n",
    "\n",
    "df_5.show()"
   ]
  },
  {
   "cell_type": "markdown",
   "metadata": {
    "application/vnd.databricks.v1+cell": {
     "cellMetadata": {},
     "inputWidgets": {},
     "nuid": "1b8e582d-e923-4743-b8d5-532df09f7c60",
     "showTitle": false,
     "title": ""
    }
   },
   "source": [
    "##### 6. Find how many users have joined between 2015 and 2020"
   ]
  },
  {
   "cell_type": "code",
   "execution_count": 0,
   "metadata": {
    "application/vnd.databricks.v1+cell": {
     "cellMetadata": {
      "byteLimit": 2048000,
      "rowLimit": 10000
     },
     "inputWidgets": {},
     "nuid": "5e209038-4496-4376-96a3-a70e1e4d052d",
     "showTitle": false,
     "title": ""
    }
   },
   "outputs": [
    {
     "output_type": "display_data",
     "data": {
      "text/html": [
       "<style scoped>\n",
       "  .ansiout {\n",
       "    display: block;\n",
       "    unicode-bidi: embed;\n",
       "    white-space: pre-wrap;\n",
       "    word-wrap: break-word;\n",
       "    word-break: break-all;\n",
       "    font-family: \"Menlo\", \"Monaco\", \"Consolas\", \"Ubuntu Mono\", \"Source Code Pro\", monospace;\n",
       "    font-size: 13px;\n",
       "    color: #555;\n",
       "    margin-left: 4px;\n",
       "    line-height: 19px;\n",
       "  }\n",
       "</style>\n",
       "<div class=\"ansiout\">+---------+-------------------+\n",
       "join_year|number_users_joined|\n",
       "+---------+-------------------+\n",
       "     2015|                375|\n",
       "     2016|                411|\n",
       "     2017|                145|\n",
       "+---------+-------------------+\n",
       "\n",
       "</div>"
      ]
     },
     "metadata": {
      "application/vnd.databricks.v1+output": {
       "addedWidgets": {},
       "arguments": {},
       "data": "<div class=\"ansiout\">+---------+-------------------+\n|join_year|number_users_joined|\n+---------+-------------------+\n|     2015|                375|\n|     2016|                411|\n|     2017|                145|\n+---------+-------------------+\n\n</div>",
       "datasetInfos": [],
       "metadata": {},
       "removedWidgets": [],
       "type": "html"
      }
     },
     "output_type": "display_data"
    }
   ],
   "source": [
    "df_6 = df_user_cleaned  .withColumn('join_year', year('date_joined')) \\\n",
    "                        .filter((col('join_year') >= 2015) & (col('join_year') <= 2020)) \\\n",
    "                        .groupBy('join_year') \\\n",
    "                        .count() \\\n",
    "                        .withColumnRenamed('count', 'number_users_joined')\n",
    "\n",
    "df_6.show()"
   ]
  },
  {
   "cell_type": "markdown",
   "metadata": {
    "application/vnd.databricks.v1+cell": {
     "cellMetadata": {},
     "inputWidgets": {},
     "nuid": "07542b2f-3084-4168-89df-03c515679d1b",
     "showTitle": false,
     "title": ""
    }
   },
   "source": [
    "##### 7. Find the median follower count of users have joined between 2015 and 2020"
   ]
  },
  {
   "cell_type": "code",
   "execution_count": 0,
   "metadata": {
    "application/vnd.databricks.v1+cell": {
     "cellMetadata": {
      "byteLimit": 2048000,
      "rowLimit": 10000
     },
     "inputWidgets": {},
     "nuid": "9136c950-13b8-4ac1-b832-5bad53a2c60d",
     "showTitle": false,
     "title": ""
    }
   },
   "outputs": [
    {
     "output_type": "display_data",
     "data": {
      "text/html": [
       "<style scoped>\n",
       "  .ansiout {\n",
       "    display: block;\n",
       "    unicode-bidi: embed;\n",
       "    white-space: pre-wrap;\n",
       "    word-wrap: break-word;\n",
       "    word-break: break-all;\n",
       "    font-family: \"Menlo\", \"Monaco\", \"Consolas\", \"Ubuntu Mono\", \"Source Code Pro\", monospace;\n",
       "    font-size: 13px;\n",
       "    color: #555;\n",
       "    margin-left: 4px;\n",
       "    line-height: 19px;\n",
       "  }\n",
       "</style>\n",
       "<div class=\"ansiout\">+---------+---------------------+\n",
       "join_year|median_follower_count|\n",
       "+---------+---------------------+\n",
       "     2015|                71000|\n",
       "     2016|                19000|\n",
       "     2017|                 2000|\n",
       "+---------+---------------------+\n",
       "\n",
       "</div>"
      ]
     },
     "metadata": {
      "application/vnd.databricks.v1+output": {
       "addedWidgets": {},
       "arguments": {},
       "data": "<div class=\"ansiout\">+---------+---------------------+\n|join_year|median_follower_count|\n+---------+---------------------+\n|     2015|                71000|\n|     2016|                19000|\n|     2017|                 2000|\n+---------+---------------------+\n\n</div>",
       "datasetInfos": [],
       "metadata": {},
       "removedWidgets": [],
       "type": "html"
      }
     },
     "output_type": "display_data"
    }
   ],
   "source": [
    "df_7 = df_user_cleaned  .join(df_pin_cleaned, 'ind') \\\n",
    "                        .withColumn('join_year', year('date_joined')) \\\n",
    "                        .filter((col('join_year') >= 2015) & (col('join_year') <= 2020)) \\\n",
    "                        .groupBy('join_year') \\\n",
    "                        .agg(expr(\"percentile_approx(follower_count, 0.5)\").alias(\"median_follower_count\"))\n",
    "\n",
    "df_7.show()"
   ]
  },
  {
   "cell_type": "markdown",
   "metadata": {
    "application/vnd.databricks.v1+cell": {
     "cellMetadata": {},
     "inputWidgets": {},
     "nuid": "2048bdbb-18bb-4d91-af65-8a103229a453",
     "showTitle": false,
     "title": ""
    }
   },
   "source": [
    "##### 8. Find the median follower count of users that have joined between 2015 and 2020, based on which age group they are part of"
   ]
  },
  {
   "cell_type": "code",
   "execution_count": 0,
   "metadata": {
    "application/vnd.databricks.v1+cell": {
     "cellMetadata": {
      "byteLimit": 2048000,
      "rowLimit": 10000
     },
     "inputWidgets": {},
     "nuid": "d6ce6845-629e-466a-8386-ec1c2fe38adf",
     "showTitle": false,
     "title": ""
    }
   },
   "outputs": [
    {
     "output_type": "display_data",
     "data": {
      "text/html": [
       "<style scoped>\n",
       "  .ansiout {\n",
       "    display: block;\n",
       "    unicode-bidi: embed;\n",
       "    white-space: pre-wrap;\n",
       "    word-wrap: break-word;\n",
       "    word-break: break-all;\n",
       "    font-family: \"Menlo\", \"Monaco\", \"Consolas\", \"Ubuntu Mono\", \"Source Code Pro\", monospace;\n",
       "    font-size: 13px;\n",
       "    color: #555;\n",
       "    margin-left: 4px;\n",
       "    line-height: 19px;\n",
       "  }\n",
       "</style>\n",
       "<div class=\"ansiout\">+---------+---------+---------------------+\n",
       "age_group|join_year|median_follower_count|\n",
       "+---------+---------+---------------------+\n",
       "    25-35|     2017|                 1000|\n",
       "      50+|     2017|                  517|\n",
       "    18-24|     2016|                36000|\n",
       "    18-24|     2015|               190000|\n",
       "    25-35|     2016|                24000|\n",
       "    36-50|     2017|                 3000|\n",
       "    36-50|     2016|                 8000|\n",
       "      50+|     2016|                  777|\n",
       "    36-50|     2015|                 8000|\n",
       "    18-24|     2017|                11000|\n",
       "    25-35|     2015|                42000|\n",
       "      50+|     2015|                 1000|\n",
       "+---------+---------+---------------------+\n",
       "\n",
       "</div>"
      ]
     },
     "metadata": {
      "application/vnd.databricks.v1+output": {
       "addedWidgets": {},
       "arguments": {},
       "data": "<div class=\"ansiout\">+---------+---------+---------------------+\n|age_group|join_year|median_follower_count|\n+---------+---------+---------------------+\n|    25-35|     2017|                 1000|\n|      50+|     2017|                  517|\n|    18-24|     2016|                36000|\n|    18-24|     2015|               190000|\n|    25-35|     2016|                24000|\n|    36-50|     2017|                 3000|\n|    36-50|     2016|                 8000|\n|      50+|     2016|                  777|\n|    36-50|     2015|                 8000|\n|    18-24|     2017|                11000|\n|    25-35|     2015|                42000|\n|      50+|     2015|                 1000|\n+---------+---------+---------------------+\n\n</div>",
       "datasetInfos": [],
       "metadata": {},
       "removedWidgets": [],
       "type": "html"
      }
     },
     "output_type": "display_data"
    }
   ],
   "source": [
    "df_8 = df_4_agegroup.withColumn('join_year', year('date_joined')) \\\n",
    "                    .filter((col('join_year') >= 2015) & (col('join_year') <= 2020)) \\\n",
    "                    .groupBy(\"age_group\", \"join_year\") \\\n",
    "                    .agg(expr(\"percentile_approx(follower_count, 0.5)\").alias(\"median_follower_count\"))\n",
    "\n",
    "df_8.show()"
   ]
  }
 ],
 "metadata": {
  "application/vnd.databricks.v1+notebook": {
   "dashboards": [],
   "language": "python",
   "notebookMetadata": {
    "pythonIndentUnit": 4
   },
   "notebookName": "batch-data_kafka_read-transform-query",
   "widgets": {}
  }
 },
 "nbformat": 4,
 "nbformat_minor": 0
}
