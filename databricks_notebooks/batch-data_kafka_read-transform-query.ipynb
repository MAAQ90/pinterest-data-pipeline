{
 "cells": [
  {
   "cell_type": "markdown",
   "metadata": {
    "application/vnd.databricks.v1+cell": {
     "cellMetadata": {},
     "inputWidgets": {},
     "nuid": "76dff04c-8207-456e-b943-cefaa828846a",
     "showTitle": false,
     "title": ""
    }
   },
   "source": [
    "### Import contents of S3 and generate dataframes:"
   ]
  },
  {
   "cell_type": "code",
   "execution_count": 0,
   "metadata": {
    "application/vnd.databricks.v1+cell": {
     "cellMetadata": {
      "byteLimit": 2048000,
      "rowLimit": 10000
     },
     "inputWidgets": {},
     "nuid": "0741c7cd-329f-4b0f-80a3-daa32271a7bc",
     "showTitle": false,
     "title": ""
    }
   },
   "outputs": [
    {
     "output_type": "display_data",
     "data": {
      "text/html": [
       "<style scoped>\n",
       "  .ansiout {\n",
       "    display: block;\n",
       "    unicode-bidi: embed;\n",
       "    white-space: pre-wrap;\n",
       "    word-wrap: break-word;\n",
       "    word-break: break-all;\n",
       "    font-family: \"Menlo\", \"Monaco\", \"Consolas\", \"Ubuntu Mono\", \"Source Code Pro\", monospace;\n",
       "    font-size: 13px;\n",
       "    color: #555;\n",
       "    margin-left: 4px;\n",
       "    line-height: 19px;\n",
       "  }\n",
       "</style>\n",
       "<div class=\"ansiout\"></div>"
      ]
     },
     "metadata": {
      "application/vnd.databricks.v1+output": {
       "addedWidgets": {},
       "arguments": {},
       "data": "<div class=\"ansiout\"></div>",
       "datasetInfos": [],
       "metadata": {},
       "removedWidgets": [],
       "type": "html"
      }
     },
     "output_type": "display_data"
    }
   ],
   "source": [
    "from pyspark.sql.functions import *\n",
    "from pyspark.sql.types import IntegerType, ArrayType, DoubleType\n",
    "from pyspark.sql.window import Window\n",
    "import urllib"
   ]
  },
  {
   "cell_type": "code",
   "execution_count": 0,
   "metadata": {
    "application/vnd.databricks.v1+cell": {
     "cellMetadata": {
      "byteLimit": 2048000,
      "rowLimit": 10000
     },
     "inputWidgets": {},
     "nuid": "9defb544-eb10-47c8-bcb8-6ee94151bd09",
     "showTitle": false,
     "title": ""
    }
   },
   "outputs": [
    {
     "output_type": "display_data",
     "data": {
      "text/html": [
       "<style scoped>\n",
       "  .table-result-container {\n",
       "    max-height: 300px;\n",
       "    overflow: auto;\n",
       "  }\n",
       "  table, th, td {\n",
       "    border: 1px solid black;\n",
       "    border-collapse: collapse;\n",
       "  }\n",
       "  th, td {\n",
       "    padding: 5px;\n",
       "  }\n",
       "  th {\n",
       "    text-align: left;\n",
       "  }\n",
       "</style><div class='table-result-container'><table class='table-result'><thead style='background-color: white'><tr><th>path</th><th>name</th><th>size</th><th>modificationTime</th></tr></thead><tbody><tr><td>dbfs:/mnt/user-0a3c6c045333-bucket/topics/0a3c6c045333.geo/</td><td>0a3c6c045333.geo/</td><td>0</td><td>1704383977755</td></tr><tr><td>dbfs:/mnt/user-0a3c6c045333-bucket/topics/0a3c6c045333.pin/</td><td>0a3c6c045333.pin/</td><td>0</td><td>1704383977755</td></tr><tr><td>dbfs:/mnt/user-0a3c6c045333-bucket/topics/0a3c6c045333.user/</td><td>0a3c6c045333.user/</td><td>0</td><td>1704383977755</td></tr></tbody></table></div>"
      ]
     },
     "metadata": {
      "application/vnd.databricks.v1+output": {
       "addedWidgets": {},
       "aggData": [],
       "aggError": "",
       "aggOverflow": false,
       "aggSchema": [],
       "aggSeriesLimitReached": false,
       "aggType": "",
       "arguments": {},
       "columnCustomDisplayInfos": {},
       "data": [
        [
         "dbfs:/mnt/user-0a3c6c045333-bucket/topics/0a3c6c045333.geo/",
         "0a3c6c045333.geo/",
         0,
         1704383977755
        ],
        [
         "dbfs:/mnt/user-0a3c6c045333-bucket/topics/0a3c6c045333.pin/",
         "0a3c6c045333.pin/",
         0,
         1704383977755
        ],
        [
         "dbfs:/mnt/user-0a3c6c045333-bucket/topics/0a3c6c045333.user/",
         "0a3c6c045333.user/",
         0,
         1704383977755
        ]
       ],
       "datasetInfos": [],
       "dbfsResultPath": null,
       "isJsonSchema": true,
       "metadata": {},
       "overflow": false,
       "plotOptions": {
        "customPlotOptions": {},
        "displayType": "table",
        "pivotAggregation": null,
        "pivotColumns": null,
        "xColumns": null,
        "yColumns": null
       },
       "removedWidgets": [],
       "schema": [
        {
         "metadata": "{}",
         "name": "path",
         "type": "\"string\""
        },
        {
         "metadata": "{}",
         "name": "name",
         "type": "\"string\""
        },
        {
         "metadata": "{}",
         "name": "size",
         "type": "\"long\""
        },
        {
         "metadata": "{}",
         "name": "modificationTime",
         "type": "\"long\""
        }
       ],
       "type": "table"
      }
     },
     "output_type": "display_data"
    }
   ],
   "source": [
    "display(dbutils.fs.ls(\"/mnt/user-0a3c6c045333-bucket/topics\"))"
   ]
  },
  {
   "cell_type": "code",
   "execution_count": 0,
   "metadata": {
    "application/vnd.databricks.v1+cell": {
     "cellMetadata": {
      "byteLimit": 2048000,
      "rowLimit": 10000
     },
     "inputWidgets": {},
     "nuid": "cd683c55-79ce-4953-9342-d0afc87788e9",
     "showTitle": false,
     "title": ""
    }
   },
   "outputs": [
    {
     "output_type": "display_data",
     "data": {
      "text/html": [
       "<style scoped>\n",
       "  .table-result-container {\n",
       "    max-height: 300px;\n",
       "    overflow: auto;\n",
       "  }\n",
       "  table, th, td {\n",
       "    border: 1px solid black;\n",
       "    border-collapse: collapse;\n",
       "  }\n",
       "  th, td {\n",
       "    padding: 5px;\n",
       "  }\n",
       "  th {\n",
       "    text-align: left;\n",
       "  }\n",
       "</style><div class='table-result-container'><table class='table-result'><thead style='background-color: white'><tr><th>category</th><th>description</th><th>downloaded</th><th>follower_count</th><th>image_src</th><th>index</th><th>is_image_or_video</th><th>poster_name</th><th>save_location</th><th>tag_list</th><th>title</th><th>unique_id</th></tr></thead><tbody><tr><td>home-decor</td><td>Традиционные шведские коттеджи, обычно с красным фасадом — это настоящее воплощением идеального зимнего уюта. Они обычно оформлены очень просто и ✌PUFIK. Beautiful Interiors. On… </td><td>1</td><td>136k</td><td>https://i.pinimg.com/originals/32/eb/72/32eb72e4fd8654c115a64528bd1f34b4.png</td><td>6717</td><td>image</td><td>PUFIK Interiors & Inspirations</td><td>Local save in /data/home-decor</td><td>Scandinavian Cottage,Swedish Cottage,Swedish Home Decor,Swedish Farmhouse,Swedish Style,Swedish Kitchen,Kitchen Black,Swedish House,Cozy Cottage</td><td>〚 Уютные шведские коттеджи от Carina Olander 〛 ◾ Фото ◾ Идеи ◾ Дизайн</td><td>bc5ab9ee-505e-44f6-92ba-677fe4fdf3e3</td></tr><tr><td>home-decor</td><td>6,636 Likes, 141 Comments - The Cottage Journal (@thecottagejournal) on Instagram: “Can you say color?! 😍😍😍 We are loving the cheery vibes that these aqua blue cabinets are g… </td><td>1</td><td>394</td><td>https://i.pinimg.com/originals/8c/17/a2/8c17a257b70780480bb89c3699363144.jpg</td><td>6633</td><td>image</td><td>Sarah Martin</td><td>Local save in /data/home-decor</td><td>Diy Kitchen Cabinets,Kitchen Redo,Home Decor Kitchen,New Kitchen,Home Kitchens,Kitchen Remodeling,Aqua Kitchen,Kitchen Counters,Kitchen Islands</td><td>The Cottage Journal on Instagram: “Can you say color?! 😍😍😍 We are loving the cheery vibes that these aqua blue cabinets are giving. If you could paint your cabinets any…”</td><td>d136f6bc-840d-44f8-bbad-115eb7e6c51e</td></tr><tr><td>christmas</td><td>Features: Material:Lint Size:48ｘ18cm Quantity:1 pc Shape:Santa Claus, snowman. Elk Occasion:Christmas Description: 1. Fashion design, high quality 2. Santa Claus, snowman. Elk C… </td><td>1</td><td>5k</td><td>https://i.pinimg.com/originals/b5/7f/21/b57f219fa89c1165b57525b8eae711da.jpg</td><td>1706</td><td>image</td><td>Wear24-7</td><td>Local save in /data/christmas</td><td>Merry Christmas To You,Christmas Toys,Great Christmas Gifts,Christmas Snowman,Christmas Ornaments,Holiday,Christmas Party Decorations,Christmas Themes,Decoration Party</td><td>Standing Figurine Toys Xmas Santa Claus Snowman Reindeer Figure Plush Dolls Christmas Decorations Ornaments Home Indoor Table Ornaments Christmas Party Tree Hanging Decor Toys Gifts for Kids Friends…</td><td>b5c8a1b5-9e90-4522-9bec-2477b698d5b7</td></tr><tr><td>christmas</td><td>❤️ ❤️ MERRY CHRISTMAS ❤️ ❤️ ❤️ ❤️ Early Christmas Special:Buy 3 Get 1 Free, Buy 5 Get 2 Free,Deadline November 25. Color:GreenMaterial:Polyvinyl ChlorideItem Dimensions:LxWxH 20… </td><td>1</td><td>784</td><td>https://i.pinimg.com/originals/ef/40/7e/ef407e9568aa46fed4162bd1fd28786e.jpg</td><td>1676</td><td>image</td><td>paupoo</td><td>Local save in /data/christmas</td><td>Christmas Hanging Baskets,Christmas Plants,Christmas Wreaths,Christmas Ornaments,Merry Christmas,Christmas Sale,Christmas Porch Ideas,Hanging Christmas Lights,Christmas Island</td><td>PAUPOO™ Pre-lit Artificial Christmas Hanging Basket - Flocked with Mixed Decorations and White LED Lights - Frosted Berry BUY 5 GET 2 FREE(7PACKS)</td><td>3ed92c2d-9cca-4ccf-ac25-44a9d8bec919</td></tr><tr><td>christmas</td><td>Christmas decorating ideas for porches. Beautiful holiday decor ideas for front porches both small and large. Outdoor decorations like sleds, lanterns, Christmas trees, wreaths,… </td><td>1</td><td>46k</td><td>https://i.pinimg.com/videos/thumbnails/originals/40/83/f5/4083f5b4971bf235f89a4784ab87271e.0000001.jpg</td><td>2482</td><td>video</td><td>Life on Summerhill | Home, Holiday Decor & DIY Website</td><td>Local save in /data/christmas</td><td>Diy Christmas Decorations For Home,Farmhouse Christmas Decor,Christmas Home,Christmas Holidays,Christmas Front Porches,How To Decorate For Christmas,Christmas Porch Ideas,Christmas Decorating Ideas,Large Outdoor Christmas Decorations</td><td>FORNT PORCH CHRISTMAS DECORATING IDEAS</td><td>08604f20-fa17-4b9a-9949-781717eca6cd</td></tr></tbody></table></div>"
      ]
     },
     "metadata": {
      "application/vnd.databricks.v1+output": {
       "addedWidgets": {},
       "aggData": [],
       "aggError": "",
       "aggOverflow": false,
       "aggSchema": [],
       "aggSeriesLimitReached": false,
       "aggType": "",
       "arguments": {},
       "columnCustomDisplayInfos": {},
       "data": [
        [
         "home-decor",
         "Традиционные шведские коттеджи, обычно с красным фасадом — это настоящее воплощением идеального зимнего уюта. Они обычно оформлены очень просто и ✌PUFIK. Beautiful Interiors. On… ",
         1,
         "136k",
         "https://i.pinimg.com/originals/32/eb/72/32eb72e4fd8654c115a64528bd1f34b4.png",
         6717,
         "image",
         "PUFIK Interiors & Inspirations",
         "Local save in /data/home-decor",
         "Scandinavian Cottage,Swedish Cottage,Swedish Home Decor,Swedish Farmhouse,Swedish Style,Swedish Kitchen,Kitchen Black,Swedish House,Cozy Cottage",
         "〚 Уютные шведские коттеджи от Carina Olander 〛 ◾ Фото ◾ Идеи ◾ Дизайн",
         "bc5ab9ee-505e-44f6-92ba-677fe4fdf3e3"
        ],
        [
         "home-decor",
         "6,636 Likes, 141 Comments - The Cottage Journal (@thecottagejournal) on Instagram: “Can you say color?! 😍😍😍 We are loving the cheery vibes that these aqua blue cabinets are g… ",
         1,
         "394",
         "https://i.pinimg.com/originals/8c/17/a2/8c17a257b70780480bb89c3699363144.jpg",
         6633,
         "image",
         "Sarah Martin",
         "Local save in /data/home-decor",
         "Diy Kitchen Cabinets,Kitchen Redo,Home Decor Kitchen,New Kitchen,Home Kitchens,Kitchen Remodeling,Aqua Kitchen,Kitchen Counters,Kitchen Islands",
         "The Cottage Journal on Instagram: “Can you say color?! 😍😍😍 We are loving the cheery vibes that these aqua blue cabinets are giving. If you could paint your cabinets any…”",
         "d136f6bc-840d-44f8-bbad-115eb7e6c51e"
        ],
        [
         "christmas",
         "Features: Material:Lint Size:48ｘ18cm Quantity:1 pc Shape:Santa Claus, snowman. Elk Occasion:Christmas Description: 1. Fashion design, high quality 2. Santa Claus, snowman. Elk C… ",
         1,
         "5k",
         "https://i.pinimg.com/originals/b5/7f/21/b57f219fa89c1165b57525b8eae711da.jpg",
         1706,
         "image",
         "Wear24-7",
         "Local save in /data/christmas",
         "Merry Christmas To You,Christmas Toys,Great Christmas Gifts,Christmas Snowman,Christmas Ornaments,Holiday,Christmas Party Decorations,Christmas Themes,Decoration Party",
         "Standing Figurine Toys Xmas Santa Claus Snowman Reindeer Figure Plush Dolls Christmas Decorations Ornaments Home Indoor Table Ornaments Christmas Party Tree Hanging Decor Toys Gifts for Kids Friends…",
         "b5c8a1b5-9e90-4522-9bec-2477b698d5b7"
        ],
        [
         "christmas",
         "❤️ ❤️ MERRY CHRISTMAS ❤️ ❤️ ❤️ ❤️ Early Christmas Special:Buy 3 Get 1 Free, Buy 5 Get 2 Free,Deadline November 25. Color:GreenMaterial:Polyvinyl ChlorideItem Dimensions:LxWxH 20… ",
         1,
         "784",
         "https://i.pinimg.com/originals/ef/40/7e/ef407e9568aa46fed4162bd1fd28786e.jpg",
         1676,
         "image",
         "paupoo",
         "Local save in /data/christmas",
         "Christmas Hanging Baskets,Christmas Plants,Christmas Wreaths,Christmas Ornaments,Merry Christmas,Christmas Sale,Christmas Porch Ideas,Hanging Christmas Lights,Christmas Island",
         "PAUPOO™ Pre-lit Artificial Christmas Hanging Basket - Flocked with Mixed Decorations and White LED Lights - Frosted Berry BUY 5 GET 2 FREE(7PACKS)",
         "3ed92c2d-9cca-4ccf-ac25-44a9d8bec919"
        ],
        [
         "christmas",
         "Christmas decorating ideas for porches. Beautiful holiday decor ideas for front porches both small and large. Outdoor decorations like sleds, lanterns, Christmas trees, wreaths,… ",
         1,
         "46k",
         "https://i.pinimg.com/videos/thumbnails/originals/40/83/f5/4083f5b4971bf235f89a4784ab87271e.0000001.jpg",
         2482,
         "video",
         "Life on Summerhill | Home, Holiday Decor & DIY Website",
         "Local save in /data/christmas",
         "Diy Christmas Decorations For Home,Farmhouse Christmas Decor,Christmas Home,Christmas Holidays,Christmas Front Porches,How To Decorate For Christmas,Christmas Porch Ideas,Christmas Decorating Ideas,Large Outdoor Christmas Decorations",
         "FORNT PORCH CHRISTMAS DECORATING IDEAS",
         "08604f20-fa17-4b9a-9949-781717eca6cd"
        ]
       ],
       "datasetInfos": [],
       "dbfsResultPath": null,
       "isJsonSchema": true,
       "metadata": {},
       "overflow": false,
       "plotOptions": {
        "customPlotOptions": {},
        "displayType": "table",
        "pivotAggregation": null,
        "pivotColumns": null,
        "xColumns": null,
        "yColumns": null
       },
       "removedWidgets": [],
       "schema": [
        {
         "metadata": "{}",
         "name": "category",
         "type": "\"string\""
        },
        {
         "metadata": "{}",
         "name": "description",
         "type": "\"string\""
        },
        {
         "metadata": "{}",
         "name": "downloaded",
         "type": "\"long\""
        },
        {
         "metadata": "{}",
         "name": "follower_count",
         "type": "\"string\""
        },
        {
         "metadata": "{}",
         "name": "image_src",
         "type": "\"string\""
        },
        {
         "metadata": "{}",
         "name": "index",
         "type": "\"long\""
        },
        {
         "metadata": "{}",
         "name": "is_image_or_video",
         "type": "\"string\""
        },
        {
         "metadata": "{}",
         "name": "poster_name",
         "type": "\"string\""
        },
        {
         "metadata": "{}",
         "name": "save_location",
         "type": "\"string\""
        },
        {
         "metadata": "{}",
         "name": "tag_list",
         "type": "\"string\""
        },
        {
         "metadata": "{}",
         "name": "title",
         "type": "\"string\""
        },
        {
         "metadata": "{}",
         "name": "unique_id",
         "type": "\"string\""
        }
       ],
       "type": "table"
      }
     },
     "output_type": "display_data"
    },
    {
     "output_type": "display_data",
     "data": {
      "text/html": [
       "<style scoped>\n",
       "  .table-result-container {\n",
       "    max-height: 300px;\n",
       "    overflow: auto;\n",
       "  }\n",
       "  table, th, td {\n",
       "    border: 1px solid black;\n",
       "    border-collapse: collapse;\n",
       "  }\n",
       "  th, td {\n",
       "    padding: 5px;\n",
       "  }\n",
       "  th {\n",
       "    text-align: left;\n",
       "  }\n",
       "</style><div class='table-result-container'><table class='table-result'><thead style='background-color: white'><tr><th>country</th><th>ind</th><th>latitude</th><th>longitude</th><th>timestamp</th></tr></thead><tbody><tr><td>British Indian Ocean Territory (Chagos Archipelago)</td><td>9455</td><td>-82.9272</td><td>-150.346</td><td>2022-03-15T01:46:32</td></tr><tr><td>British Indian Ocean Territory (Chagos Archipelago)</td><td>6814</td><td>-86.5675</td><td>-149.565</td><td>2022-09-02T11:34:28</td></tr><tr><td>British Indian Ocean Territory (Chagos Archipelago)</td><td>5111</td><td>-83.7472</td><td>8.65953</td><td>2021-04-01T00:56:57</td></tr><tr><td>Antarctica (the territory South of 60 deg S)</td><td>10073</td><td>-32.8885</td><td>-170.295</td><td>2021-06-29T19:56:04</td></tr><tr><td>Antarctica (the territory South of 60 deg S)</td><td>2418</td><td>-88.4642</td><td>-171.061</td><td>2022-05-27T11:30:59</td></tr></tbody></table></div>"
      ]
     },
     "metadata": {
      "application/vnd.databricks.v1+output": {
       "addedWidgets": {},
       "aggData": [],
       "aggError": "",
       "aggOverflow": false,
       "aggSchema": [],
       "aggSeriesLimitReached": false,
       "aggType": "",
       "arguments": {},
       "columnCustomDisplayInfos": {},
       "data": [
        [
         "British Indian Ocean Territory (Chagos Archipelago)",
         9455,
         -82.9272,
         -150.346,
         "2022-03-15T01:46:32"
        ],
        [
         "British Indian Ocean Territory (Chagos Archipelago)",
         6814,
         -86.5675,
         -149.565,
         "2022-09-02T11:34:28"
        ],
        [
         "British Indian Ocean Territory (Chagos Archipelago)",
         5111,
         -83.7472,
         8.65953,
         "2021-04-01T00:56:57"
        ],
        [
         "Antarctica (the territory South of 60 deg S)",
         10073,
         -32.8885,
         -170.295,
         "2021-06-29T19:56:04"
        ],
        [
         "Antarctica (the territory South of 60 deg S)",
         2418,
         -88.4642,
         -171.061,
         "2022-05-27T11:30:59"
        ]
       ],
       "datasetInfos": [],
       "dbfsResultPath": null,
       "isJsonSchema": true,
       "metadata": {},
       "overflow": false,
       "plotOptions": {
        "customPlotOptions": {},
        "displayType": "table",
        "pivotAggregation": null,
        "pivotColumns": null,
        "xColumns": null,
        "yColumns": null
       },
       "removedWidgets": [],
       "schema": [
        {
         "metadata": "{}",
         "name": "country",
         "type": "\"string\""
        },
        {
         "metadata": "{}",
         "name": "ind",
         "type": "\"long\""
        },
        {
         "metadata": "{}",
         "name": "latitude",
         "type": "\"double\""
        },
        {
         "metadata": "{}",
         "name": "longitude",
         "type": "\"double\""
        },
        {
         "metadata": "{}",
         "name": "timestamp",
         "type": "\"string\""
        }
       ],
       "type": "table"
      }
     },
     "output_type": "display_data"
    },
    {
     "output_type": "display_data",
     "data": {
      "text/html": [
       "<style scoped>\n",
       "  .table-result-container {\n",
       "    max-height: 300px;\n",
       "    overflow: auto;\n",
       "  }\n",
       "  table, th, td {\n",
       "    border: 1px solid black;\n",
       "    border-collapse: collapse;\n",
       "  }\n",
       "  th, td {\n",
       "    padding: 5px;\n",
       "  }\n",
       "  th {\n",
       "    text-align: left;\n",
       "  }\n",
       "</style><div class='table-result-container'><table class='table-result'><thead style='background-color: white'><tr><th>age</th><th>date_joined</th><th>first_name</th><th>ind</th><th>last_name</th></tr></thead><tbody><tr><td>27</td><td>2016-03-08T13:38:37</td><td>Christopher</td><td>2015</td><td>Bradshaw</td></tr><tr><td>59</td><td>2017-05-12T21:22:17</td><td>Alexander</td><td>10673</td><td>Cervantes</td></tr><tr><td>48</td><td>2016-02-27T16:57:44</td><td>Christopher</td><td>1857</td><td>Hamilton</td></tr><tr><td>45</td><td>2016-09-15T06:02:53</td><td>Christopher</td><td>10020</td><td>Hawkins</td></tr><tr><td>35</td><td>2015-10-22T22:42:23</td><td>Christopher</td><td>2041</td><td>Campbell</td></tr></tbody></table></div>"
      ]
     },
     "metadata": {
      "application/vnd.databricks.v1+output": {
       "addedWidgets": {},
       "aggData": [],
       "aggError": "",
       "aggOverflow": false,
       "aggSchema": [],
       "aggSeriesLimitReached": false,
       "aggType": "",
       "arguments": {},
       "columnCustomDisplayInfos": {},
       "data": [
        [
         27,
         "2016-03-08T13:38:37",
         "Christopher",
         2015,
         "Bradshaw"
        ],
        [
         59,
         "2017-05-12T21:22:17",
         "Alexander",
         10673,
         "Cervantes"
        ],
        [
         48,
         "2016-02-27T16:57:44",
         "Christopher",
         1857,
         "Hamilton"
        ],
        [
         45,
         "2016-09-15T06:02:53",
         "Christopher",
         10020,
         "Hawkins"
        ],
        [
         35,
         "2015-10-22T22:42:23",
         "Christopher",
         2041,
         "Campbell"
        ]
       ],
       "datasetInfos": [],
       "dbfsResultPath": null,
       "isJsonSchema": true,
       "metadata": {},
       "overflow": false,
       "plotOptions": {
        "customPlotOptions": {},
        "displayType": "table",
        "pivotAggregation": null,
        "pivotColumns": null,
        "xColumns": null,
        "yColumns": null
       },
       "removedWidgets": [],
       "schema": [
        {
         "metadata": "{}",
         "name": "age",
         "type": "\"long\""
        },
        {
         "metadata": "{}",
         "name": "date_joined",
         "type": "\"string\""
        },
        {
         "metadata": "{}",
         "name": "first_name",
         "type": "\"string\""
        },
        {
         "metadata": "{}",
         "name": "ind",
         "type": "\"long\""
        },
        {
         "metadata": "{}",
         "name": "last_name",
         "type": "\"string\""
        }
       ],
       "type": "table"
      }
     },
     "output_type": "display_data"
    }
   ],
   "source": [
    "# File location and type\n",
    "# Asterisk(*) indicates reading all the content of the specified file that have .json extension\n",
    "filepath_pin =  \"/mnt/user-0a3c6c045333-bucket/topics/0a3c6c045333.pin/partition=0/*.json\"\n",
    "filepath_geo =  \"/mnt/user-0a3c6c045333-bucket/topics/0a3c6c045333.geo/partition=0/*.json\"\n",
    "filepath_user = \"/mnt/user-0a3c6c045333-bucket/topics/0a3c6c045333.user/partition=0/*.json\"\n",
    "file_type = \"json\"\n",
    "# Ask Spark to infer the schema\n",
    "infer_schema = \"true\"\n",
    "# Read in JSONs from mounted S3 bucket\n",
    "df_pin = spark.read.format(file_type).option(\"inferSchema\", infer_schema).load(filepath_pin)\n",
    "df_geo = spark.read.format(file_type).option(\"inferSchema\", infer_schema).load(filepath_geo)\n",
    "df_user = spark.read.format(file_type).option(\"inferSchema\", infer_schema).load(filepath_user)\n",
    "# Display Spark dataframe to check its content\n",
    "df_pin.limit(5).display()\n",
    "df_geo.limit(5).display()\n",
    "df_user.limit(5).display()"
   ]
  },
  {
   "cell_type": "markdown",
   "metadata": {
    "application/vnd.databricks.v1+cell": {
     "cellMetadata": {},
     "inputWidgets": {},
     "nuid": "ac3326cf-3f0d-4b45-a10d-96da198b535d",
     "showTitle": false,
     "title": ""
    }
   },
   "source": [
    "### Data cleaning:"
   ]
  },
  {
   "cell_type": "markdown",
   "metadata": {
    "application/vnd.databricks.v1+cell": {
     "cellMetadata": {},
     "inputWidgets": {},
     "nuid": "0e30d899-61b8-4b6b-be43-969f676a03be",
     "showTitle": false,
     "title": ""
    }
   },
   "source": [
    "##### 1. Pinterest data cleaning"
   ]
  },
  {
   "cell_type": "code",
   "execution_count": 0,
   "metadata": {
    "application/vnd.databricks.v1+cell": {
     "cellMetadata": {
      "byteLimit": 2048000,
      "rowLimit": 10000
     },
     "inputWidgets": {},
     "nuid": "57334f58-307b-4276-a82f-a1746d132085",
     "showTitle": false,
     "title": ""
    }
   },
   "outputs": [
    {
     "output_type": "display_data",
     "data": {
      "text/html": [
       "<style scoped>\n",
       "  .ansiout {\n",
       "    display: block;\n",
       "    unicode-bidi: embed;\n",
       "    white-space: pre-wrap;\n",
       "    word-wrap: break-word;\n",
       "    word-break: break-all;\n",
       "    font-family: \"Menlo\", \"Monaco\", \"Consolas\", \"Ubuntu Mono\", \"Source Code Pro\", monospace;\n",
       "    font-size: 13px;\n",
       "    color: #555;\n",
       "    margin-left: 4px;\n",
       "    line-height: 19px;\n",
       "  }\n",
       "</style>\n",
       "<div class=\"ansiout\"></div>"
      ]
     },
     "metadata": {
      "application/vnd.databricks.v1+output": {
       "addedWidgets": {},
       "arguments": {},
       "data": "<div class=\"ansiout\"></div>",
       "datasetInfos": [],
       "metadata": {},
       "removedWidgets": [],
       "type": "html"
      }
     },
     "output_type": "display_data"
    }
   ],
   "source": [
    "# Replace empty entries and entries with no relevant data in each column with Nones\n",
    "\n",
    "df_pin_cleaned = df_pin.withColumn(\"category\", when(df_pin[\"category\"].isNull(), None).otherwise(df_pin[\"category\"]))\n",
    "df_pin_cleaned = df_pin.withColumn(\"description\", when(df_pin[\"description\"].isNull(), None).otherwise(df_pin[\"description\"]))\n",
    "df_pin_cleaned = df_pin.withColumn(\"downloaded\", when(df_pin[\"downloaded\"].isNull(), None).otherwise(df_pin[\"downloaded\"]))\n",
    "df_pin_cleaned = df_pin.withColumn(\"follower_count\", when(df_pin[\"follower_count\"].isNull(), None).otherwise(df_pin[\"follower_count\"]))\n",
    "\n",
    "# Perform the necessary transformations on the follower_count to ensure every entry is a number. Make sure the data type of this column is an int.\n",
    "\n",
    "df_pin_cleaned = df_pin_cleaned.withColumn(\"follower_count\", \n",
    "                                when(col(\"follower_count\").endswith(\"k\"), regexp_replace(col(\"follower_count\"), \"k\", \"\").cast(\"int\")*1000)\n",
    "                                .when(col(\"follower_count\").endswith(\"k\"), regexp_replace(col(\"follower_count\"), \"M\", \"\").cast(\"int\")*1000000)\n",
    "                                .otherwise(col(\"follower_count\").cast(\"int\"))\n",
    "                                )\n",
    "\n",
    "# Ensure that each column containing numeric data has a numeric data type\n",
    "\n",
    "df_pin_cleaned = df_pin_cleaned.withColumn(\"downloaded\",col(\"downloaded\").cast(\"int\"))\n",
    "df_pin_cleaned = df_pin_cleaned.withColumn(\"follower_count\",col(\"follower_count\").cast(\"int\"))\n",
    "\n",
    "# Clean the data in the save_location column to include only the save location path\n",
    "\n",
    "df_pin_cleaned = df_pin_cleaned.withColumn(\"save_location\", regexp_replace(col(\"save_location\"), \"^Local save in \", \"\"))\n",
    "\n",
    "# Rename the index column to ind\n",
    "\n",
    "df_pin_cleaned = df_pin_cleaned.withColumnRenamed(\"index\", \"ind\")\n",
    "df_pin_cleaned = df_pin_cleaned.withColumn(\"ind\", col(\"ind\").cast(\"int\"))\n",
    "\n",
    "# Reorder the DataFrame columns\n",
    "\n",
    "pin_columns_reorder = [ \"ind\",\n",
    "                        \"unique_id\",\n",
    "                        \"title\",\n",
    "                        \"description\",\n",
    "                        \"follower_count\",\n",
    "                        \"poster_name\",\n",
    "                        \"tag_list\",\n",
    "                        \"is_image_or_video\",\n",
    "                        \"image_src\",\n",
    "                        \"save_location\",\n",
    "                        \"category\"\n",
    "                    ]\n",
    "\n",
    "df_pin_cleaned = df_pin_cleaned.select(pin_columns_reorder)"
   ]
  },
  {
   "cell_type": "markdown",
   "metadata": {
    "application/vnd.databricks.v1+cell": {
     "cellMetadata": {},
     "inputWidgets": {},
     "nuid": "10b9cc25-7914-45e6-97de-34d65760ffb6",
     "showTitle": false,
     "title": ""
    }
   },
   "source": [
    "##### 2. Geolocation data cleaning"
   ]
  },
  {
   "cell_type": "code",
   "execution_count": 0,
   "metadata": {
    "application/vnd.databricks.v1+cell": {
     "cellMetadata": {
      "byteLimit": 2048000,
      "rowLimit": 10000
     },
     "inputWidgets": {},
     "nuid": "6c0ca237-ffd9-4650-9c68-af8f35daa3b9",
     "showTitle": false,
     "title": ""
    }
   },
   "outputs": [
    {
     "output_type": "display_data",
     "data": {
      "text/html": [
       "<style scoped>\n",
       "  .ansiout {\n",
       "    display: block;\n",
       "    unicode-bidi: embed;\n",
       "    white-space: pre-wrap;\n",
       "    word-wrap: break-word;\n",
       "    word-break: break-all;\n",
       "    font-family: \"Menlo\", \"Monaco\", \"Consolas\", \"Ubuntu Mono\", \"Source Code Pro\", monospace;\n",
       "    font-size: 13px;\n",
       "    color: #555;\n",
       "    margin-left: 4px;\n",
       "    line-height: 19px;\n",
       "  }\n",
       "</style>\n",
       "<div class=\"ansiout\"></div>"
      ]
     },
     "metadata": {
      "application/vnd.databricks.v1+output": {
       "addedWidgets": {},
       "arguments": {},
       "data": "<div class=\"ansiout\"></div>",
       "datasetInfos": [],
       "metadata": {},
       "removedWidgets": [],
       "type": "html"
      }
     },
     "output_type": "display_data"
    }
   ],
   "source": [
    "# Create a new column coordinates that contains an array based on the latitude and longitude columns\n",
    "\n",
    "df_geo_cleaned = df_geo.withColumn(\"coordinates\", array(col(\"latitude\"), col(\"longitude\")))\n",
    "\n",
    "# Drop the latitude and longitude columns from the DataFrame\n",
    "\n",
    "df_geo_cleaned = df_geo_cleaned.drop(\"latitude\", \"longitude\")\n",
    "\n",
    "# Convert the timestamp column from a string to a timestamp data type\n",
    "\n",
    "df_geo_cleaned = df_geo_cleaned.withColumn(\"timestamp\", to_timestamp(\"timestamp\"))\n",
    "\n",
    "# Reorder the DataFrame columns\n",
    "\n",
    "geo_columns_reorder = [ \"ind\",\n",
    "                        \"country\",\n",
    "                        \"coordinates\",\n",
    "                        \"timestamp\"\n",
    "                    ]\n",
    "\n",
    "df_geo_cleaned = df_geo_cleaned.select(geo_columns_reorder)"
   ]
  },
  {
   "cell_type": "markdown",
   "metadata": {
    "application/vnd.databricks.v1+cell": {
     "cellMetadata": {},
     "inputWidgets": {},
     "nuid": "38657892-b4bd-4f20-abcb-fcc37d415be1",
     "showTitle": false,
     "title": ""
    }
   },
   "source": [
    "##### 3. Users data cleaning"
   ]
  },
  {
   "cell_type": "code",
   "execution_count": 0,
   "metadata": {
    "application/vnd.databricks.v1+cell": {
     "cellMetadata": {
      "byteLimit": 2048000,
      "rowLimit": 10000
     },
     "inputWidgets": {},
     "nuid": "5efa9097-2dab-4ca9-bd18-89a68428a978",
     "showTitle": false,
     "title": ""
    }
   },
   "outputs": [
    {
     "output_type": "display_data",
     "data": {
      "text/html": [
       "<style scoped>\n",
       "  .ansiout {\n",
       "    display: block;\n",
       "    unicode-bidi: embed;\n",
       "    white-space: pre-wrap;\n",
       "    word-wrap: break-word;\n",
       "    word-break: break-all;\n",
       "    font-family: \"Menlo\", \"Monaco\", \"Consolas\", \"Ubuntu Mono\", \"Source Code Pro\", monospace;\n",
       "    font-size: 13px;\n",
       "    color: #555;\n",
       "    margin-left: 4px;\n",
       "    line-height: 19px;\n",
       "  }\n",
       "</style>\n",
       "<div class=\"ansiout\"></div>"
      ]
     },
     "metadata": {
      "application/vnd.databricks.v1+output": {
       "addedWidgets": {},
       "arguments": {},
       "data": "<div class=\"ansiout\"></div>",
       "datasetInfos": [],
       "metadata": {},
       "removedWidgets": [],
       "type": "html"
      }
     },
     "output_type": "display_data"
    }
   ],
   "source": [
    "# Create a new column user_name that concatenates the information found in the first_name and last_name columns\n",
    "\n",
    "df_user_cleaned = df_user.withColumn(\"user_name\", concat_ws(\" \", col(\"first_name\"), col(\"last_name\")))\n",
    "\n",
    "# Drop the first_name and last_name columns from the DataFrame\n",
    "\n",
    "df_user_cleaned = df_user_cleaned.drop(\"first_name\", \"last_name\")\n",
    "\n",
    "# Convert the date_joined column from a string to a timestamp data type\n",
    "\n",
    "df_user_cleaned = df_user_cleaned.withColumn(\"date_joined\", to_timestamp(\"date_joined\"))\n",
    "\n",
    "# Reorder the DataFrame columns\n",
    "\n",
    "user_columns_reorder = [ \"ind\",\n",
    "                        \"user_name\",\n",
    "                        \"age\",\n",
    "                        \"date_joined\"\n",
    "                    ]\n",
    "\n",
    "df_user_cleaned = df_user_cleaned.select(user_columns_reorder)"
   ]
  },
  {
   "cell_type": "code",
   "execution_count": 0,
   "metadata": {
    "application/vnd.databricks.v1+cell": {
     "cellMetadata": {
      "byteLimit": 2048000,
      "rowLimit": 10000
     },
     "inputWidgets": {},
     "nuid": "78192665-e4da-46fb-bdd6-313cd0790c4c",
     "showTitle": false,
     "title": ""
    }
   },
   "outputs": [
    {
     "output_type": "display_data",
     "data": {
      "text/html": [
       "<style scoped>\n",
       "  .table-result-container {\n",
       "    max-height: 300px;\n",
       "    overflow: auto;\n",
       "  }\n",
       "  table, th, td {\n",
       "    border: 1px solid black;\n",
       "    border-collapse: collapse;\n",
       "  }\n",
       "  th, td {\n",
       "    padding: 5px;\n",
       "  }\n",
       "  th {\n",
       "    text-align: left;\n",
       "  }\n",
       "</style><div class='table-result-container'><table class='table-result'><thead style='background-color: white'><tr><th>ind</th><th>unique_id</th><th>title</th><th>description</th><th>follower_count</th><th>poster_name</th><th>tag_list</th><th>is_image_or_video</th><th>image_src</th><th>save_location</th><th>category</th></tr></thead><tbody><tr><td>6717</td><td>bc5ab9ee-505e-44f6-92ba-677fe4fdf3e3</td><td>〚 Уютные шведские коттеджи от Carina Olander 〛 ◾ Фото ◾ Идеи ◾ Дизайн</td><td>Традиционные шведские коттеджи, обычно с красным фасадом — это настоящее воплощением идеального зимнего уюта. Они обычно оформлены очень просто и ✌PUFIK. Beautiful Interiors. On… </td><td>136000</td><td>PUFIK Interiors & Inspirations</td><td>Scandinavian Cottage,Swedish Cottage,Swedish Home Decor,Swedish Farmhouse,Swedish Style,Swedish Kitchen,Kitchen Black,Swedish House,Cozy Cottage</td><td>image</td><td>https://i.pinimg.com/originals/32/eb/72/32eb72e4fd8654c115a64528bd1f34b4.png</td><td>/data/home-decor</td><td>home-decor</td></tr><tr><td>6633</td><td>d136f6bc-840d-44f8-bbad-115eb7e6c51e</td><td>The Cottage Journal on Instagram: “Can you say color?! 😍😍😍 We are loving the cheery vibes that these aqua blue cabinets are giving. If you could paint your cabinets any…”</td><td>6,636 Likes, 141 Comments - The Cottage Journal (@thecottagejournal) on Instagram: “Can you say color?! 😍😍😍 We are loving the cheery vibes that these aqua blue cabinets are g… </td><td>394</td><td>Sarah Martin</td><td>Diy Kitchen Cabinets,Kitchen Redo,Home Decor Kitchen,New Kitchen,Home Kitchens,Kitchen Remodeling,Aqua Kitchen,Kitchen Counters,Kitchen Islands</td><td>image</td><td>https://i.pinimg.com/originals/8c/17/a2/8c17a257b70780480bb89c3699363144.jpg</td><td>/data/home-decor</td><td>home-decor</td></tr><tr><td>1706</td><td>b5c8a1b5-9e90-4522-9bec-2477b698d5b7</td><td>Standing Figurine Toys Xmas Santa Claus Snowman Reindeer Figure Plush Dolls Christmas Decorations Ornaments Home Indoor Table Ornaments Christmas Party Tree Hanging Decor Toys Gifts for Kids Friends…</td><td>Features: Material:Lint Size:48ｘ18cm Quantity:1 pc Shape:Santa Claus, snowman. Elk Occasion:Christmas Description: 1. Fashion design, high quality 2. Santa Claus, snowman. Elk C… </td><td>5000</td><td>Wear24-7</td><td>Merry Christmas To You,Christmas Toys,Great Christmas Gifts,Christmas Snowman,Christmas Ornaments,Holiday,Christmas Party Decorations,Christmas Themes,Decoration Party</td><td>image</td><td>https://i.pinimg.com/originals/b5/7f/21/b57f219fa89c1165b57525b8eae711da.jpg</td><td>/data/christmas</td><td>christmas</td></tr><tr><td>1676</td><td>3ed92c2d-9cca-4ccf-ac25-44a9d8bec919</td><td>PAUPOO™ Pre-lit Artificial Christmas Hanging Basket - Flocked with Mixed Decorations and White LED Lights - Frosted Berry BUY 5 GET 2 FREE(7PACKS)</td><td>❤️ ❤️ MERRY CHRISTMAS ❤️ ❤️ ❤️ ❤️ Early Christmas Special:Buy 3 Get 1 Free, Buy 5 Get 2 Free,Deadline November 25. Color:GreenMaterial:Polyvinyl ChlorideItem Dimensions:LxWxH 20… </td><td>784</td><td>paupoo</td><td>Christmas Hanging Baskets,Christmas Plants,Christmas Wreaths,Christmas Ornaments,Merry Christmas,Christmas Sale,Christmas Porch Ideas,Hanging Christmas Lights,Christmas Island</td><td>image</td><td>https://i.pinimg.com/originals/ef/40/7e/ef407e9568aa46fed4162bd1fd28786e.jpg</td><td>/data/christmas</td><td>christmas</td></tr><tr><td>2482</td><td>08604f20-fa17-4b9a-9949-781717eca6cd</td><td>FORNT PORCH CHRISTMAS DECORATING IDEAS</td><td>Christmas decorating ideas for porches. Beautiful holiday decor ideas for front porches both small and large. Outdoor decorations like sleds, lanterns, Christmas trees, wreaths,… </td><td>46000</td><td>Life on Summerhill | Home, Holiday Decor & DIY Website</td><td>Diy Christmas Decorations For Home,Farmhouse Christmas Decor,Christmas Home,Christmas Holidays,Christmas Front Porches,How To Decorate For Christmas,Christmas Porch Ideas,Christmas Decorating Ideas,Large Outdoor Christmas Decorations</td><td>video</td><td>https://i.pinimg.com/videos/thumbnails/originals/40/83/f5/4083f5b4971bf235f89a4784ab87271e.0000001.jpg</td><td>/data/christmas</td><td>christmas</td></tr></tbody></table></div>"
      ]
     },
     "metadata": {
      "application/vnd.databricks.v1+output": {
       "addedWidgets": {},
       "aggData": [],
       "aggError": "",
       "aggOverflow": false,
       "aggSchema": [],
       "aggSeriesLimitReached": false,
       "aggType": "",
       "arguments": {},
       "columnCustomDisplayInfos": {},
       "data": [
        [
         6717,
         "bc5ab9ee-505e-44f6-92ba-677fe4fdf3e3",
         "〚 Уютные шведские коттеджи от Carina Olander 〛 ◾ Фото ◾ Идеи ◾ Дизайн",
         "Традиционные шведские коттеджи, обычно с красным фасадом — это настоящее воплощением идеального зимнего уюта. Они обычно оформлены очень просто и ✌PUFIK. Beautiful Interiors. On… ",
         136000,
         "PUFIK Interiors & Inspirations",
         "Scandinavian Cottage,Swedish Cottage,Swedish Home Decor,Swedish Farmhouse,Swedish Style,Swedish Kitchen,Kitchen Black,Swedish House,Cozy Cottage",
         "image",
         "https://i.pinimg.com/originals/32/eb/72/32eb72e4fd8654c115a64528bd1f34b4.png",
         "/data/home-decor",
         "home-decor"
        ],
        [
         6633,
         "d136f6bc-840d-44f8-bbad-115eb7e6c51e",
         "The Cottage Journal on Instagram: “Can you say color?! 😍😍😍 We are loving the cheery vibes that these aqua blue cabinets are giving. If you could paint your cabinets any…”",
         "6,636 Likes, 141 Comments - The Cottage Journal (@thecottagejournal) on Instagram: “Can you say color?! 😍😍😍 We are loving the cheery vibes that these aqua blue cabinets are g… ",
         394,
         "Sarah Martin",
         "Diy Kitchen Cabinets,Kitchen Redo,Home Decor Kitchen,New Kitchen,Home Kitchens,Kitchen Remodeling,Aqua Kitchen,Kitchen Counters,Kitchen Islands",
         "image",
         "https://i.pinimg.com/originals/8c/17/a2/8c17a257b70780480bb89c3699363144.jpg",
         "/data/home-decor",
         "home-decor"
        ],
        [
         1706,
         "b5c8a1b5-9e90-4522-9bec-2477b698d5b7",
         "Standing Figurine Toys Xmas Santa Claus Snowman Reindeer Figure Plush Dolls Christmas Decorations Ornaments Home Indoor Table Ornaments Christmas Party Tree Hanging Decor Toys Gifts for Kids Friends…",
         "Features: Material:Lint Size:48ｘ18cm Quantity:1 pc Shape:Santa Claus, snowman. Elk Occasion:Christmas Description: 1. Fashion design, high quality 2. Santa Claus, snowman. Elk C… ",
         5000,
         "Wear24-7",
         "Merry Christmas To You,Christmas Toys,Great Christmas Gifts,Christmas Snowman,Christmas Ornaments,Holiday,Christmas Party Decorations,Christmas Themes,Decoration Party",
         "image",
         "https://i.pinimg.com/originals/b5/7f/21/b57f219fa89c1165b57525b8eae711da.jpg",
         "/data/christmas",
         "christmas"
        ],
        [
         1676,
         "3ed92c2d-9cca-4ccf-ac25-44a9d8bec919",
         "PAUPOO™ Pre-lit Artificial Christmas Hanging Basket - Flocked with Mixed Decorations and White LED Lights - Frosted Berry BUY 5 GET 2 FREE(7PACKS)",
         "❤️ ❤️ MERRY CHRISTMAS ❤️ ❤️ ❤️ ❤️ Early Christmas Special:Buy 3 Get 1 Free, Buy 5 Get 2 Free,Deadline November 25. Color:GreenMaterial:Polyvinyl ChlorideItem Dimensions:LxWxH 20… ",
         784,
         "paupoo",
         "Christmas Hanging Baskets,Christmas Plants,Christmas Wreaths,Christmas Ornaments,Merry Christmas,Christmas Sale,Christmas Porch Ideas,Hanging Christmas Lights,Christmas Island",
         "image",
         "https://i.pinimg.com/originals/ef/40/7e/ef407e9568aa46fed4162bd1fd28786e.jpg",
         "/data/christmas",
         "christmas"
        ],
        [
         2482,
         "08604f20-fa17-4b9a-9949-781717eca6cd",
         "FORNT PORCH CHRISTMAS DECORATING IDEAS",
         "Christmas decorating ideas for porches. Beautiful holiday decor ideas for front porches both small and large. Outdoor decorations like sleds, lanterns, Christmas trees, wreaths,… ",
         46000,
         "Life on Summerhill | Home, Holiday Decor & DIY Website",
         "Diy Christmas Decorations For Home,Farmhouse Christmas Decor,Christmas Home,Christmas Holidays,Christmas Front Porches,How To Decorate For Christmas,Christmas Porch Ideas,Christmas Decorating Ideas,Large Outdoor Christmas Decorations",
         "video",
         "https://i.pinimg.com/videos/thumbnails/originals/40/83/f5/4083f5b4971bf235f89a4784ab87271e.0000001.jpg",
         "/data/christmas",
         "christmas"
        ]
       ],
       "datasetInfos": [],
       "dbfsResultPath": null,
       "isJsonSchema": true,
       "metadata": {},
       "overflow": false,
       "plotOptions": {
        "customPlotOptions": {},
        "displayType": "table",
        "pivotAggregation": null,
        "pivotColumns": null,
        "xColumns": null,
        "yColumns": null
       },
       "removedWidgets": [],
       "schema": [
        {
         "metadata": "{}",
         "name": "ind",
         "type": "\"integer\""
        },
        {
         "metadata": "{}",
         "name": "unique_id",
         "type": "\"string\""
        },
        {
         "metadata": "{}",
         "name": "title",
         "type": "\"string\""
        },
        {
         "metadata": "{}",
         "name": "description",
         "type": "\"string\""
        },
        {
         "metadata": "{}",
         "name": "follower_count",
         "type": "\"integer\""
        },
        {
         "metadata": "{}",
         "name": "poster_name",
         "type": "\"string\""
        },
        {
         "metadata": "{}",
         "name": "tag_list",
         "type": "\"string\""
        },
        {
         "metadata": "{}",
         "name": "is_image_or_video",
         "type": "\"string\""
        },
        {
         "metadata": "{}",
         "name": "image_src",
         "type": "\"string\""
        },
        {
         "metadata": "{}",
         "name": "save_location",
         "type": "\"string\""
        },
        {
         "metadata": "{}",
         "name": "category",
         "type": "\"string\""
        }
       ],
       "type": "table"
      }
     },
     "output_type": "display_data"
    },
    {
     "output_type": "display_data",
     "data": {
      "text/html": [
       "<style scoped>\n",
       "  .table-result-container {\n",
       "    max-height: 300px;\n",
       "    overflow: auto;\n",
       "  }\n",
       "  table, th, td {\n",
       "    border: 1px solid black;\n",
       "    border-collapse: collapse;\n",
       "  }\n",
       "  th, td {\n",
       "    padding: 5px;\n",
       "  }\n",
       "  th {\n",
       "    text-align: left;\n",
       "  }\n",
       "</style><div class='table-result-container'><table class='table-result'><thead style='background-color: white'><tr><th>ind</th><th>country</th><th>coordinates</th><th>timestamp</th></tr></thead><tbody><tr><td>9455</td><td>British Indian Ocean Territory (Chagos Archipelago)</td><td>List(-82.9272, -150.346)</td><td>2022-03-15T01:46:32.000+0000</td></tr><tr><td>6814</td><td>British Indian Ocean Territory (Chagos Archipelago)</td><td>List(-86.5675, -149.565)</td><td>2022-09-02T11:34:28.000+0000</td></tr><tr><td>5111</td><td>British Indian Ocean Territory (Chagos Archipelago)</td><td>List(-83.7472, 8.65953)</td><td>2021-04-01T00:56:57.000+0000</td></tr><tr><td>10073</td><td>Antarctica (the territory South of 60 deg S)</td><td>List(-32.8885, -170.295)</td><td>2021-06-29T19:56:04.000+0000</td></tr><tr><td>2418</td><td>Antarctica (the territory South of 60 deg S)</td><td>List(-88.4642, -171.061)</td><td>2022-05-27T11:30:59.000+0000</td></tr></tbody></table></div>"
      ]
     },
     "metadata": {
      "application/vnd.databricks.v1+output": {
       "addedWidgets": {},
       "aggData": [],
       "aggError": "",
       "aggOverflow": false,
       "aggSchema": [],
       "aggSeriesLimitReached": false,
       "aggType": "",
       "arguments": {},
       "columnCustomDisplayInfos": {},
       "data": [
        [
         9455,
         "British Indian Ocean Territory (Chagos Archipelago)",
         [
          -82.9272,
          -150.346
         ],
         "2022-03-15T01:46:32.000+0000"
        ],
        [
         6814,
         "British Indian Ocean Territory (Chagos Archipelago)",
         [
          -86.5675,
          -149.565
         ],
         "2022-09-02T11:34:28.000+0000"
        ],
        [
         5111,
         "British Indian Ocean Territory (Chagos Archipelago)",
         [
          -83.7472,
          8.65953
         ],
         "2021-04-01T00:56:57.000+0000"
        ],
        [
         10073,
         "Antarctica (the territory South of 60 deg S)",
         [
          -32.8885,
          -170.295
         ],
         "2021-06-29T19:56:04.000+0000"
        ],
        [
         2418,
         "Antarctica (the territory South of 60 deg S)",
         [
          -88.4642,
          -171.061
         ],
         "2022-05-27T11:30:59.000+0000"
        ]
       ],
       "datasetInfos": [],
       "dbfsResultPath": null,
       "isJsonSchema": true,
       "metadata": {},
       "overflow": false,
       "plotOptions": {
        "customPlotOptions": {},
        "displayType": "table",
        "pivotAggregation": null,
        "pivotColumns": null,
        "xColumns": null,
        "yColumns": null
       },
       "removedWidgets": [],
       "schema": [
        {
         "metadata": "{}",
         "name": "ind",
         "type": "\"long\""
        },
        {
         "metadata": "{}",
         "name": "country",
         "type": "\"string\""
        },
        {
         "metadata": "{}",
         "name": "coordinates",
         "type": "{\"type\":\"array\",\"elementType\":\"double\",\"containsNull\":true}"
        },
        {
         "metadata": "{}",
         "name": "timestamp",
         "type": "\"timestamp\""
        }
       ],
       "type": "table"
      }
     },
     "output_type": "display_data"
    },
    {
     "output_type": "display_data",
     "data": {
      "text/html": [
       "<style scoped>\n",
       "  .table-result-container {\n",
       "    max-height: 300px;\n",
       "    overflow: auto;\n",
       "  }\n",
       "  table, th, td {\n",
       "    border: 1px solid black;\n",
       "    border-collapse: collapse;\n",
       "  }\n",
       "  th, td {\n",
       "    padding: 5px;\n",
       "  }\n",
       "  th {\n",
       "    text-align: left;\n",
       "  }\n",
       "</style><div class='table-result-container'><table class='table-result'><thead style='background-color: white'><tr><th>ind</th><th>user_name</th><th>age</th><th>date_joined</th></tr></thead><tbody><tr><td>2015</td><td>Christopher Bradshaw</td><td>27</td><td>2016-03-08T13:38:37.000+0000</td></tr><tr><td>10673</td><td>Alexander Cervantes</td><td>59</td><td>2017-05-12T21:22:17.000+0000</td></tr><tr><td>1857</td><td>Christopher Hamilton</td><td>48</td><td>2016-02-27T16:57:44.000+0000</td></tr><tr><td>10020</td><td>Christopher Hawkins</td><td>45</td><td>2016-09-15T06:02:53.000+0000</td></tr><tr><td>2041</td><td>Christopher Campbell</td><td>35</td><td>2015-10-22T22:42:23.000+0000</td></tr><tr><td>7031</td><td>Christopher Anderson</td><td>48</td><td>2016-06-13T17:09:14.000+0000</td></tr><tr><td>6398</td><td>Christina Davenport</td><td>39</td><td>2016-06-29T20:43:59.000+0000</td></tr><tr><td>3599</td><td>Alexandria Alvarado</td><td>20</td><td>2015-10-23T04:13:23.000+0000</td></tr><tr><td>4256</td><td>Alexandria Alvarado</td><td>20</td><td>2015-10-23T04:13:23.000+0000</td></tr><tr><td>1901</td><td>Michelle Richardson</td><td>44</td><td>2016-12-18T16:05:39.000+0000</td></tr></tbody></table></div>"
      ]
     },
     "metadata": {
      "application/vnd.databricks.v1+output": {
       "addedWidgets": {},
       "aggData": [],
       "aggError": "",
       "aggOverflow": false,
       "aggSchema": [],
       "aggSeriesLimitReached": false,
       "aggType": "",
       "arguments": {},
       "columnCustomDisplayInfos": {},
       "data": [
        [
         2015,
         "Christopher Bradshaw",
         27,
         "2016-03-08T13:38:37.000+0000"
        ],
        [
         10673,
         "Alexander Cervantes",
         59,
         "2017-05-12T21:22:17.000+0000"
        ],
        [
         1857,
         "Christopher Hamilton",
         48,
         "2016-02-27T16:57:44.000+0000"
        ],
        [
         10020,
         "Christopher Hawkins",
         45,
         "2016-09-15T06:02:53.000+0000"
        ],
        [
         2041,
         "Christopher Campbell",
         35,
         "2015-10-22T22:42:23.000+0000"
        ],
        [
         7031,
         "Christopher Anderson",
         48,
         "2016-06-13T17:09:14.000+0000"
        ],
        [
         6398,
         "Christina Davenport",
         39,
         "2016-06-29T20:43:59.000+0000"
        ],
        [
         3599,
         "Alexandria Alvarado",
         20,
         "2015-10-23T04:13:23.000+0000"
        ],
        [
         4256,
         "Alexandria Alvarado",
         20,
         "2015-10-23T04:13:23.000+0000"
        ],
        [
         1901,
         "Michelle Richardson",
         44,
         "2016-12-18T16:05:39.000+0000"
        ]
       ],
       "datasetInfos": [],
       "dbfsResultPath": null,
       "isJsonSchema": true,
       "metadata": {},
       "overflow": false,
       "plotOptions": {
        "customPlotOptions": {},
        "displayType": "table",
        "pivotAggregation": null,
        "pivotColumns": null,
        "xColumns": null,
        "yColumns": null
       },
       "removedWidgets": [],
       "schema": [
        {
         "metadata": "{}",
         "name": "ind",
         "type": "\"long\""
        },
        {
         "metadata": "{}",
         "name": "user_name",
         "type": "\"string\""
        },
        {
         "metadata": "{}",
         "name": "age",
         "type": "\"long\""
        },
        {
         "metadata": "{}",
         "name": "date_joined",
         "type": "\"timestamp\""
        }
       ],
       "type": "table"
      }
     },
     "output_type": "display_data"
    }
   ],
   "source": [
    "df_pin_cleaned.limit(5).display()\n",
    "df_geo_cleaned.limit(5).display()\n",
    "df_user_cleaned.limit(5).display()"
   ]
  },
  {
   "cell_type": "markdown",
   "metadata": {
    "application/vnd.databricks.v1+cell": {
     "cellMetadata": {},
     "inputWidgets": {},
     "nuid": "3c8ea3e3-0a94-4014-8bda-f74482e88586",
     "showTitle": false,
     "title": ""
    }
   },
   "source": [
    "### Data queries:"
   ]
  },
  {
   "cell_type": "markdown",
   "metadata": {
    "application/vnd.databricks.v1+cell": {
     "cellMetadata": {},
     "inputWidgets": {},
     "nuid": "dd41995c-57a1-4c67-ad7c-2938a0db10dd",
     "showTitle": false,
     "title": ""
    }
   },
   "source": [
    "##### 1. Find the most popular category in each country"
   ]
  },
  {
   "cell_type": "code",
   "execution_count": 0,
   "metadata": {
    "application/vnd.databricks.v1+cell": {
     "cellMetadata": {
      "byteLimit": 2048000,
      "rowLimit": 10000
     },
     "inputWidgets": {},
     "nuid": "429cf041-988d-4ba0-b2b0-73566c424a78",
     "showTitle": false,
     "title": ""
    },
    "jupyter": {
     "outputs_hidden": true
    }
   },
   "outputs": [
    {
     "output_type": "display_data",
     "data": {
      "text/html": [
       "<style scoped>\n",
       "  .table-result-container {\n",
       "    max-height: 300px;\n",
       "    overflow: auto;\n",
       "  }\n",
       "  table, th, td {\n",
       "    border: 1px solid black;\n",
       "    border-collapse: collapse;\n",
       "  }\n",
       "  th, td {\n",
       "    padding: 5px;\n",
       "  }\n",
       "  th {\n",
       "    text-align: left;\n",
       "  }\n",
       "</style><div class='table-result-container'><table class='table-result'><thead style='background-color: white'><tr><th>country</th><th>category</th><th>category_count</th></tr></thead><tbody><tr><td>Afghanistan</td><td>education</td><td>7</td></tr><tr><td>Albania</td><td>mens-fashion</td><td>20</td></tr><tr><td>Algeria</td><td>quotes</td><td>16</td></tr><tr><td>American Samoa</td><td>education</td><td>8</td></tr><tr><td>Andorra</td><td>tattoos</td><td>7</td></tr><tr><td>Angola</td><td>diy-and-crafts</td><td>6</td></tr><tr><td>Anguilla</td><td>home-decor</td><td>6</td></tr><tr><td>Antarctica (the territory South of 60 deg S)</td><td>christmas</td><td>5</td></tr><tr><td>Antigua and Barbuda</td><td>christmas</td><td>6</td></tr><tr><td>Argentina</td><td>tattoos</td><td>11</td></tr><tr><td>Armenia</td><td>diy-and-crafts</td><td>11</td></tr><tr><td>Aruba</td><td>tattoos</td><td>14</td></tr><tr><td>Australia</td><td>christmas</td><td>5</td></tr><tr><td>Austria</td><td>travel</td><td>2</td></tr><tr><td>Azerbaijan</td><td>event-planning</td><td>11</td></tr><tr><td>Bahamas</td><td>art</td><td>9</td></tr><tr><td>Bahrain</td><td>travel</td><td>2</td></tr><tr><td>Bangladesh</td><td>finance</td><td>4</td></tr><tr><td>Barbados</td><td>travel</td><td>4</td></tr><tr><td>Belarus</td><td>travel</td><td>2</td></tr><tr><td>Belgium</td><td>christmas</td><td>2</td></tr><tr><td>Belize</td><td>diy-and-crafts</td><td>3</td></tr><tr><td>Benin</td><td>travel</td><td>2</td></tr><tr><td>Bermuda</td><td>christmas</td><td>2</td></tr><tr><td>Bhutan</td><td>event-planning</td><td>2</td></tr><tr><td>Bolivia</td><td>diy-and-crafts</td><td>4</td></tr><tr><td>Bosnia and Herzegovina</td><td>christmas</td><td>2</td></tr><tr><td>Botswana</td><td>tattoos</td><td>2</td></tr><tr><td>Bouvet Island (Bouvetoya)</td><td>tattoos</td><td>2</td></tr><tr><td>Brazil</td><td>finance</td><td>1</td></tr><tr><td>British Indian Ocean Territory (Chagos Archipelago)</td><td>tattoos</td><td>1</td></tr><tr><td>British Virgin Islands</td><td>christmas</td><td>3</td></tr><tr><td>Brunei Darussalam</td><td>finance</td><td>1</td></tr><tr><td>Bulgaria</td><td>finance</td><td>9</td></tr><tr><td>Burkina Faso</td><td>quotes</td><td>2</td></tr><tr><td>Burundi</td><td>mens-fashion</td><td>1</td></tr><tr><td>Cambodia</td><td>diy-and-crafts</td><td>4</td></tr><tr><td>Cameroon</td><td>travel</td><td>1</td></tr><tr><td>Canada</td><td>travel</td><td>1</td></tr><tr><td>Cape Verde</td><td>diy-and-crafts</td><td>2</td></tr><tr><td>Cayman Islands</td><td>travel</td><td>1</td></tr><tr><td>Central African Republic</td><td>mens-fashion</td><td>3</td></tr><tr><td>Chad</td><td>finance</td><td>1</td></tr><tr><td>Chile</td><td>travel</td><td>1</td></tr><tr><td>China</td><td>beauty</td><td>1</td></tr><tr><td>Christmas Island</td><td>travel</td><td>5</td></tr><tr><td>Cocos (Keeling) Islands</td><td>vehicles</td><td>9</td></tr><tr><td>Colombia</td><td>finance</td><td>10</td></tr><tr><td>Comoros</td><td>quotes</td><td>1</td></tr><tr><td>Congo</td><td>art</td><td>4</td></tr><tr><td>Cook Islands</td><td>travel</td><td>1</td></tr><tr><td>Costa Rica</td><td>home-decor</td><td>2</td></tr><tr><td>Cote d'Ivoire</td><td>education</td><td>9</td></tr><tr><td>Croatia</td><td>finance</td><td>3</td></tr><tr><td>Cuba</td><td>vehicles</td><td>1</td></tr><tr><td>Cyprus</td><td>travel</td><td>1</td></tr><tr><td>Czech Republic</td><td>finance</td><td>2</td></tr><tr><td>Denmark</td><td>beauty</td><td>4</td></tr><tr><td>Djibouti</td><td>mens-fashion</td><td>1</td></tr><tr><td>Dominica</td><td>event-planning</td><td>2</td></tr><tr><td>Dominican Republic</td><td>home-decor</td><td>5</td></tr><tr><td>Ecuador</td><td>mens-fashion</td><td>2</td></tr><tr><td>Egypt</td><td>finance</td><td>4</td></tr><tr><td>El Salvador</td><td>quotes</td><td>1</td></tr><tr><td>Equatorial Guinea</td><td>travel</td><td>1</td></tr><tr><td>Estonia</td><td>vehicles</td><td>1</td></tr><tr><td>Ethiopia</td><td>travel</td><td>1</td></tr><tr><td>Falkland Islands (Malvinas)</td><td>education</td><td>1</td></tr><tr><td>Faroe Islands</td><td>event-planning</td><td>2</td></tr><tr><td>Fiji</td><td>mens-fashion</td><td>2</td></tr><tr><td>Finland</td><td>beauty</td><td>2</td></tr><tr><td>France</td><td>beauty</td><td>2</td></tr><tr><td>French Guiana</td><td>quotes</td><td>9</td></tr><tr><td>French Polynesia</td><td>diy-and-crafts</td><td>4</td></tr><tr><td>French Southern Territories</td><td>home-decor</td><td>1</td></tr><tr><td>Gabon</td><td>travel</td><td>1</td></tr><tr><td>Georgia</td><td>education</td><td>2</td></tr><tr><td>Germany</td><td>finance</td><td>1</td></tr><tr><td>Ghana</td><td>beauty</td><td>1</td></tr><tr><td>Gibraltar</td><td>vehicles</td><td>1</td></tr><tr><td>Greece</td><td>mens-fashion</td><td>4</td></tr><tr><td>Greenland</td><td>education</td><td>1</td></tr><tr><td>Grenada</td><td>vehicles</td><td>1</td></tr><tr><td>Guadeloupe</td><td>christmas</td><td>2</td></tr><tr><td>Guam</td><td>travel</td><td>1</td></tr><tr><td>Guatemala</td><td>mens-fashion</td><td>1</td></tr><tr><td>Guernsey</td><td>tattoos</td><td>1</td></tr><tr><td>Guinea</td><td>vehicles</td><td>1</td></tr><tr><td>Guinea-Bissau</td><td>travel</td><td>1</td></tr><tr><td>Guyana</td><td>tattoos</td><td>1</td></tr><tr><td>Haiti</td><td>home-decor</td><td>1</td></tr><tr><td>Heard Island and McDonald Islands</td><td>quotes</td><td>1</td></tr><tr><td>Holy See (Vatican City State)</td><td>mens-fashion</td><td>1</td></tr><tr><td>Honduras</td><td>event-planning</td><td>1</td></tr><tr><td>Hong Kong</td><td>home-decor</td><td>1</td></tr><tr><td>Hungary</td><td>vehicles</td><td>1</td></tr><tr><td>Iceland</td><td>diy-and-crafts</td><td>1</td></tr><tr><td>India</td><td>diy-and-crafts</td><td>4</td></tr><tr><td>Indonesia</td><td>finance</td><td>5</td></tr><tr><td>Iran</td><td>tattoos</td><td>1</td></tr><tr><td>Ireland</td><td>tattoos</td><td>1</td></tr><tr><td>Isle of Man</td><td>art</td><td>2</td></tr><tr><td>Israel</td><td>quotes</td><td>1</td></tr><tr><td>Italy</td><td>beauty</td><td>1</td></tr><tr><td>Jamaica</td><td>vehicles</td><td>4</td></tr><tr><td>Japan</td><td>mens-fashion</td><td>1</td></tr><tr><td>Kenya</td><td>mens-fashion</td><td>1</td></tr><tr><td>Kiribati</td><td>christmas</td><td>1</td></tr><tr><td>Korea</td><td>travel</td><td>1</td></tr><tr><td>Kuwait</td><td>quotes</td><td>1</td></tr><tr><td>Kyrgyz Republic</td><td>vehicles</td><td>1</td></tr><tr><td>Lao People's Democratic Republic</td><td>quotes</td><td>1</td></tr><tr><td>Latvia</td><td>mens-fashion</td><td>4</td></tr><tr><td>Lebanon</td><td>quotes</td><td>2</td></tr><tr><td>Lesotho</td><td>art</td><td>9</td></tr><tr><td>Liberia</td><td>christmas</td><td>1</td></tr><tr><td>Libyan Arab Jamahiriya</td><td>christmas</td><td>1</td></tr><tr><td>Liechtenstein</td><td>mens-fashion</td><td>2</td></tr><tr><td>Lithuania</td><td>tattoos</td><td>1</td></tr><tr><td>Luxembourg</td><td>education</td><td>1</td></tr><tr><td>Macao</td><td>vehicles</td><td>4</td></tr><tr><td>Macedonia</td><td>tattoos</td><td>1</td></tr><tr><td>Madagascar</td><td>quotes</td><td>1</td></tr><tr><td>Malawi</td><td>travel</td><td>1</td></tr><tr><td>Maldives</td><td>beauty</td><td>9</td></tr><tr><td>Mali</td><td>christmas</td><td>1</td></tr><tr><td>Malta</td><td>christmas</td><td>1</td></tr><tr><td>Marshall Islands</td><td>travel</td><td>1</td></tr><tr><td>Martinique</td><td>quotes</td><td>1</td></tr><tr><td>Mauritania</td><td>education</td><td>1</td></tr><tr><td>Mauritius</td><td>mens-fashion</td><td>1</td></tr><tr><td>Mayotte</td><td>christmas</td><td>4</td></tr><tr><td>Mexico</td><td>vehicles</td><td>1</td></tr><tr><td>Micronesia</td><td>travel</td><td>1</td></tr><tr><td>Moldova</td><td>home-decor</td><td>1</td></tr><tr><td>Monaco</td><td>art</td><td>2</td></tr><tr><td>Mongolia</td><td>tattoos</td><td>1</td></tr><tr><td>Montserrat</td><td>tattoos</td><td>1</td></tr><tr><td>Morocco</td><td>quotes</td><td>1</td></tr><tr><td>Mozambique</td><td>home-decor</td><td>4</td></tr><tr><td>Namibia</td><td>vehicles</td><td>1</td></tr><tr><td>Nauru</td><td>travel</td><td>1</td></tr><tr><td>Netherlands</td><td>home-decor</td><td>1</td></tr><tr><td>Netherlands Antilles</td><td>beauty</td><td>1</td></tr><tr><td>New Caledonia</td><td>mens-fashion</td><td>1</td></tr><tr><td>New Zealand</td><td>tattoos</td><td>1</td></tr><tr><td>Nicaragua</td><td>mens-fashion</td><td>2</td></tr><tr><td>Niger</td><td>education</td><td>1</td></tr><tr><td>Nigeria</td><td>mens-fashion</td><td>1</td></tr><tr><td>Niue</td><td>quotes</td><td>2</td></tr><tr><td>Norfolk Island</td><td>mens-fashion</td><td>1</td></tr><tr><td>Norway</td><td>travel</td><td>1</td></tr><tr><td>Oman</td><td>beauty</td><td>1</td></tr><tr><td>Palestinian Territory</td><td>vehicles</td><td>1</td></tr><tr><td>Panama</td><td>travel</td><td>4</td></tr><tr><td>Papua New Guinea</td><td>quotes</td><td>1</td></tr><tr><td>Paraguay</td><td>vehicles</td><td>1</td></tr><tr><td>Peru</td><td>vehicles</td><td>1</td></tr><tr><td>Philippines</td><td>vehicles</td><td>1</td></tr><tr><td>Pitcairn Islands</td><td>diy-and-crafts</td><td>1</td></tr><tr><td>Poland</td><td>event-planning</td><td>1</td></tr><tr><td>Portugal</td><td>diy-and-crafts</td><td>1</td></tr><tr><td>Puerto Rico</td><td>event-planning</td><td>1</td></tr><tr><td>Qatar</td><td>finance</td><td>1</td></tr><tr><td>Romania</td><td>vehicles</td><td>1</td></tr><tr><td>Rwanda</td><td>travel</td><td>1</td></tr><tr><td>Saint Barthelemy</td><td>mens-fashion</td><td>1</td></tr><tr><td>Saint Helena</td><td>beauty</td><td>1</td></tr><tr><td>Saint Kitts and Nevis</td><td>vehicles</td><td>1</td></tr><tr><td>Saint Martin</td><td>quotes</td><td>1</td></tr><tr><td>Saint Pierre and Miquelon</td><td>mens-fashion</td><td>2</td></tr><tr><td>Saint Vincent and the Grenadines</td><td>quotes</td><td>1</td></tr><tr><td>Samoa</td><td>vehicles</td><td>1</td></tr><tr><td>Sao Tome and Principe</td><td>tattoos</td><td>1</td></tr><tr><td>Saudi Arabia</td><td>finance</td><td>1</td></tr><tr><td>Serbia</td><td>travel</td><td>1</td></tr><tr><td>Seychelles</td><td>tattoos</td><td>1</td></tr><tr><td>Singapore</td><td>vehicles</td><td>1</td></tr><tr><td>Slovakia (Slovak Republic)</td><td>vehicles</td><td>1</td></tr><tr><td>Slovenia</td><td>beauty</td><td>1</td></tr><tr><td>Solomon Islands</td><td>vehicles</td><td>1</td></tr><tr><td>Somalia</td><td>travel</td><td>1</td></tr><tr><td>South Africa</td><td>vehicles</td><td>1</td></tr><tr><td>South Georgia and the South Sandwich Islands</td><td>vehicles</td><td>1</td></tr><tr><td>Sudan</td><td>mens-fashion</td><td>4</td></tr><tr><td>Svalbard & Jan Mayen Islands</td><td>travel</td><td>4</td></tr><tr><td>Swaziland</td><td>travel</td><td>1</td></tr><tr><td>Sweden</td><td>mens-fashion</td><td>1</td></tr><tr><td>Switzerland</td><td>quotes</td><td>1</td></tr><tr><td>Tajikistan</td><td>beauty</td><td>1</td></tr><tr><td>Tanzania</td><td>art</td><td>1</td></tr><tr><td>Togo</td><td>christmas</td><td>1</td></tr><tr><td>Tokelau</td><td>beauty</td><td>1</td></tr><tr><td>Tonga</td><td>beauty</td><td>1</td></tr><tr><td>Trinidad and Tobago</td><td>christmas</td><td>1</td></tr><tr><td>Tunisia</td><td>travel</td><td>1</td></tr><tr><td>Turkey</td><td>education</td><td>1</td></tr><tr><td>Turkmenistan</td><td>travel</td><td>1</td></tr><tr><td>Turks and Caicos Islands</td><td>tattoos</td><td>1</td></tr><tr><td>Tuvalu</td><td>tattoos</td><td>1</td></tr><tr><td>Uganda</td><td>christmas</td><td>2</td></tr><tr><td>United States Virgin Islands</td><td>quotes</td><td>2</td></tr><tr><td>United States of America</td><td>tattoos</td><td>1</td></tr><tr><td>Venezuela</td><td>quotes</td><td>1</td></tr><tr><td>Vietnam</td><td>quotes</td><td>1</td></tr><tr><td>Wallis and Futuna</td><td>home-decor</td><td>1</td></tr><tr><td>Yemen</td><td>home-decor</td><td>1</td></tr></tbody></table></div>"
      ]
     },
     "metadata": {
      "application/vnd.databricks.v1+output": {
       "addedWidgets": {},
       "aggData": [],
       "aggError": "",
       "aggOverflow": false,
       "aggSchema": [],
       "aggSeriesLimitReached": false,
       "aggType": "",
       "arguments": {},
       "columnCustomDisplayInfos": {},
       "data": [
        [
         "Afghanistan",
         "education",
         7
        ],
        [
         "Albania",
         "mens-fashion",
         20
        ],
        [
         "Algeria",
         "quotes",
         16
        ],
        [
         "American Samoa",
         "education",
         8
        ],
        [
         "Andorra",
         "tattoos",
         7
        ],
        [
         "Angola",
         "diy-and-crafts",
         6
        ],
        [
         "Anguilla",
         "home-decor",
         6
        ],
        [
         "Antarctica (the territory South of 60 deg S)",
         "christmas",
         5
        ],
        [
         "Antigua and Barbuda",
         "christmas",
         6
        ],
        [
         "Argentina",
         "tattoos",
         11
        ],
        [
         "Armenia",
         "diy-and-crafts",
         11
        ],
        [
         "Aruba",
         "tattoos",
         14
        ],
        [
         "Australia",
         "christmas",
         5
        ],
        [
         "Austria",
         "travel",
         2
        ],
        [
         "Azerbaijan",
         "event-planning",
         11
        ],
        [
         "Bahamas",
         "art",
         9
        ],
        [
         "Bahrain",
         "travel",
         2
        ],
        [
         "Bangladesh",
         "finance",
         4
        ],
        [
         "Barbados",
         "travel",
         4
        ],
        [
         "Belarus",
         "travel",
         2
        ],
        [
         "Belgium",
         "christmas",
         2
        ],
        [
         "Belize",
         "diy-and-crafts",
         3
        ],
        [
         "Benin",
         "travel",
         2
        ],
        [
         "Bermuda",
         "christmas",
         2
        ],
        [
         "Bhutan",
         "event-planning",
         2
        ],
        [
         "Bolivia",
         "diy-and-crafts",
         4
        ],
        [
         "Bosnia and Herzegovina",
         "christmas",
         2
        ],
        [
         "Botswana",
         "tattoos",
         2
        ],
        [
         "Bouvet Island (Bouvetoya)",
         "tattoos",
         2
        ],
        [
         "Brazil",
         "finance",
         1
        ],
        [
         "British Indian Ocean Territory (Chagos Archipelago)",
         "tattoos",
         1
        ],
        [
         "British Virgin Islands",
         "christmas",
         3
        ],
        [
         "Brunei Darussalam",
         "finance",
         1
        ],
        [
         "Bulgaria",
         "finance",
         9
        ],
        [
         "Burkina Faso",
         "quotes",
         2
        ],
        [
         "Burundi",
         "mens-fashion",
         1
        ],
        [
         "Cambodia",
         "diy-and-crafts",
         4
        ],
        [
         "Cameroon",
         "travel",
         1
        ],
        [
         "Canada",
         "travel",
         1
        ],
        [
         "Cape Verde",
         "diy-and-crafts",
         2
        ],
        [
         "Cayman Islands",
         "travel",
         1
        ],
        [
         "Central African Republic",
         "mens-fashion",
         3
        ],
        [
         "Chad",
         "finance",
         1
        ],
        [
         "Chile",
         "travel",
         1
        ],
        [
         "China",
         "beauty",
         1
        ],
        [
         "Christmas Island",
         "travel",
         5
        ],
        [
         "Cocos (Keeling) Islands",
         "vehicles",
         9
        ],
        [
         "Colombia",
         "finance",
         10
        ],
        [
         "Comoros",
         "quotes",
         1
        ],
        [
         "Congo",
         "art",
         4
        ],
        [
         "Cook Islands",
         "travel",
         1
        ],
        [
         "Costa Rica",
         "home-decor",
         2
        ],
        [
         "Cote d'Ivoire",
         "education",
         9
        ],
        [
         "Croatia",
         "finance",
         3
        ],
        [
         "Cuba",
         "vehicles",
         1
        ],
        [
         "Cyprus",
         "travel",
         1
        ],
        [
         "Czech Republic",
         "finance",
         2
        ],
        [
         "Denmark",
         "beauty",
         4
        ],
        [
         "Djibouti",
         "mens-fashion",
         1
        ],
        [
         "Dominica",
         "event-planning",
         2
        ],
        [
         "Dominican Republic",
         "home-decor",
         5
        ],
        [
         "Ecuador",
         "mens-fashion",
         2
        ],
        [
         "Egypt",
         "finance",
         4
        ],
        [
         "El Salvador",
         "quotes",
         1
        ],
        [
         "Equatorial Guinea",
         "travel",
         1
        ],
        [
         "Estonia",
         "vehicles",
         1
        ],
        [
         "Ethiopia",
         "travel",
         1
        ],
        [
         "Falkland Islands (Malvinas)",
         "education",
         1
        ],
        [
         "Faroe Islands",
         "event-planning",
         2
        ],
        [
         "Fiji",
         "mens-fashion",
         2
        ],
        [
         "Finland",
         "beauty",
         2
        ],
        [
         "France",
         "beauty",
         2
        ],
        [
         "French Guiana",
         "quotes",
         9
        ],
        [
         "French Polynesia",
         "diy-and-crafts",
         4
        ],
        [
         "French Southern Territories",
         "home-decor",
         1
        ],
        [
         "Gabon",
         "travel",
         1
        ],
        [
         "Georgia",
         "education",
         2
        ],
        [
         "Germany",
         "finance",
         1
        ],
        [
         "Ghana",
         "beauty",
         1
        ],
        [
         "Gibraltar",
         "vehicles",
         1
        ],
        [
         "Greece",
         "mens-fashion",
         4
        ],
        [
         "Greenland",
         "education",
         1
        ],
        [
         "Grenada",
         "vehicles",
         1
        ],
        [
         "Guadeloupe",
         "christmas",
         2
        ],
        [
         "Guam",
         "travel",
         1
        ],
        [
         "Guatemala",
         "mens-fashion",
         1
        ],
        [
         "Guernsey",
         "tattoos",
         1
        ],
        [
         "Guinea",
         "vehicles",
         1
        ],
        [
         "Guinea-Bissau",
         "travel",
         1
        ],
        [
         "Guyana",
         "tattoos",
         1
        ],
        [
         "Haiti",
         "home-decor",
         1
        ],
        [
         "Heard Island and McDonald Islands",
         "quotes",
         1
        ],
        [
         "Holy See (Vatican City State)",
         "mens-fashion",
         1
        ],
        [
         "Honduras",
         "event-planning",
         1
        ],
        [
         "Hong Kong",
         "home-decor",
         1
        ],
        [
         "Hungary",
         "vehicles",
         1
        ],
        [
         "Iceland",
         "diy-and-crafts",
         1
        ],
        [
         "India",
         "diy-and-crafts",
         4
        ],
        [
         "Indonesia",
         "finance",
         5
        ],
        [
         "Iran",
         "tattoos",
         1
        ],
        [
         "Ireland",
         "tattoos",
         1
        ],
        [
         "Isle of Man",
         "art",
         2
        ],
        [
         "Israel",
         "quotes",
         1
        ],
        [
         "Italy",
         "beauty",
         1
        ],
        [
         "Jamaica",
         "vehicles",
         4
        ],
        [
         "Japan",
         "mens-fashion",
         1
        ],
        [
         "Kenya",
         "mens-fashion",
         1
        ],
        [
         "Kiribati",
         "christmas",
         1
        ],
        [
         "Korea",
         "travel",
         1
        ],
        [
         "Kuwait",
         "quotes",
         1
        ],
        [
         "Kyrgyz Republic",
         "vehicles",
         1
        ],
        [
         "Lao People's Democratic Republic",
         "quotes",
         1
        ],
        [
         "Latvia",
         "mens-fashion",
         4
        ],
        [
         "Lebanon",
         "quotes",
         2
        ],
        [
         "Lesotho",
         "art",
         9
        ],
        [
         "Liberia",
         "christmas",
         1
        ],
        [
         "Libyan Arab Jamahiriya",
         "christmas",
         1
        ],
        [
         "Liechtenstein",
         "mens-fashion",
         2
        ],
        [
         "Lithuania",
         "tattoos",
         1
        ],
        [
         "Luxembourg",
         "education",
         1
        ],
        [
         "Macao",
         "vehicles",
         4
        ],
        [
         "Macedonia",
         "tattoos",
         1
        ],
        [
         "Madagascar",
         "quotes",
         1
        ],
        [
         "Malawi",
         "travel",
         1
        ],
        [
         "Maldives",
         "beauty",
         9
        ],
        [
         "Mali",
         "christmas",
         1
        ],
        [
         "Malta",
         "christmas",
         1
        ],
        [
         "Marshall Islands",
         "travel",
         1
        ],
        [
         "Martinique",
         "quotes",
         1
        ],
        [
         "Mauritania",
         "education",
         1
        ],
        [
         "Mauritius",
         "mens-fashion",
         1
        ],
        [
         "Mayotte",
         "christmas",
         4
        ],
        [
         "Mexico",
         "vehicles",
         1
        ],
        [
         "Micronesia",
         "travel",
         1
        ],
        [
         "Moldova",
         "home-decor",
         1
        ],
        [
         "Monaco",
         "art",
         2
        ],
        [
         "Mongolia",
         "tattoos",
         1
        ],
        [
         "Montserrat",
         "tattoos",
         1
        ],
        [
         "Morocco",
         "quotes",
         1
        ],
        [
         "Mozambique",
         "home-decor",
         4
        ],
        [
         "Namibia",
         "vehicles",
         1
        ],
        [
         "Nauru",
         "travel",
         1
        ],
        [
         "Netherlands",
         "home-decor",
         1
        ],
        [
         "Netherlands Antilles",
         "beauty",
         1
        ],
        [
         "New Caledonia",
         "mens-fashion",
         1
        ],
        [
         "New Zealand",
         "tattoos",
         1
        ],
        [
         "Nicaragua",
         "mens-fashion",
         2
        ],
        [
         "Niger",
         "education",
         1
        ],
        [
         "Nigeria",
         "mens-fashion",
         1
        ],
        [
         "Niue",
         "quotes",
         2
        ],
        [
         "Norfolk Island",
         "mens-fashion",
         1
        ],
        [
         "Norway",
         "travel",
         1
        ],
        [
         "Oman",
         "beauty",
         1
        ],
        [
         "Palestinian Territory",
         "vehicles",
         1
        ],
        [
         "Panama",
         "travel",
         4
        ],
        [
         "Papua New Guinea",
         "quotes",
         1
        ],
        [
         "Paraguay",
         "vehicles",
         1
        ],
        [
         "Peru",
         "vehicles",
         1
        ],
        [
         "Philippines",
         "vehicles",
         1
        ],
        [
         "Pitcairn Islands",
         "diy-and-crafts",
         1
        ],
        [
         "Poland",
         "event-planning",
         1
        ],
        [
         "Portugal",
         "diy-and-crafts",
         1
        ],
        [
         "Puerto Rico",
         "event-planning",
         1
        ],
        [
         "Qatar",
         "finance",
         1
        ],
        [
         "Romania",
         "vehicles",
         1
        ],
        [
         "Rwanda",
         "travel",
         1
        ],
        [
         "Saint Barthelemy",
         "mens-fashion",
         1
        ],
        [
         "Saint Helena",
         "beauty",
         1
        ],
        [
         "Saint Kitts and Nevis",
         "vehicles",
         1
        ],
        [
         "Saint Martin",
         "quotes",
         1
        ],
        [
         "Saint Pierre and Miquelon",
         "mens-fashion",
         2
        ],
        [
         "Saint Vincent and the Grenadines",
         "quotes",
         1
        ],
        [
         "Samoa",
         "vehicles",
         1
        ],
        [
         "Sao Tome and Principe",
         "tattoos",
         1
        ],
        [
         "Saudi Arabia",
         "finance",
         1
        ],
        [
         "Serbia",
         "travel",
         1
        ],
        [
         "Seychelles",
         "tattoos",
         1
        ],
        [
         "Singapore",
         "vehicles",
         1
        ],
        [
         "Slovakia (Slovak Republic)",
         "vehicles",
         1
        ],
        [
         "Slovenia",
         "beauty",
         1
        ],
        [
         "Solomon Islands",
         "vehicles",
         1
        ],
        [
         "Somalia",
         "travel",
         1
        ],
        [
         "South Africa",
         "vehicles",
         1
        ],
        [
         "South Georgia and the South Sandwich Islands",
         "vehicles",
         1
        ],
        [
         "Sudan",
         "mens-fashion",
         4
        ],
        [
         "Svalbard & Jan Mayen Islands",
         "travel",
         4
        ],
        [
         "Swaziland",
         "travel",
         1
        ],
        [
         "Sweden",
         "mens-fashion",
         1
        ],
        [
         "Switzerland",
         "quotes",
         1
        ],
        [
         "Tajikistan",
         "beauty",
         1
        ],
        [
         "Tanzania",
         "art",
         1
        ],
        [
         "Togo",
         "christmas",
         1
        ],
        [
         "Tokelau",
         "beauty",
         1
        ],
        [
         "Tonga",
         "beauty",
         1
        ],
        [
         "Trinidad and Tobago",
         "christmas",
         1
        ],
        [
         "Tunisia",
         "travel",
         1
        ],
        [
         "Turkey",
         "education",
         1
        ],
        [
         "Turkmenistan",
         "travel",
         1
        ],
        [
         "Turks and Caicos Islands",
         "tattoos",
         1
        ],
        [
         "Tuvalu",
         "tattoos",
         1
        ],
        [
         "Uganda",
         "christmas",
         2
        ],
        [
         "United States Virgin Islands",
         "quotes",
         2
        ],
        [
         "United States of America",
         "tattoos",
         1
        ],
        [
         "Venezuela",
         "quotes",
         1
        ],
        [
         "Vietnam",
         "quotes",
         1
        ],
        [
         "Wallis and Futuna",
         "home-decor",
         1
        ],
        [
         "Yemen",
         "home-decor",
         1
        ]
       ],
       "datasetInfos": [],
       "dbfsResultPath": null,
       "isJsonSchema": true,
       "metadata": {},
       "overflow": false,
       "plotOptions": {
        "customPlotOptions": {},
        "displayType": "table",
        "pivotAggregation": null,
        "pivotColumns": null,
        "xColumns": null,
        "yColumns": null
       },
       "removedWidgets": [],
       "schema": [
        {
         "metadata": "{}",
         "name": "country",
         "type": "\"string\""
        },
        {
         "metadata": "{}",
         "name": "category",
         "type": "\"string\""
        },
        {
         "metadata": "{}",
         "name": "category_count",
         "type": "\"long\""
        }
       ],
       "type": "table"
      }
     },
     "output_type": "display_data"
    }
   ],
   "source": [
    "df_1 = df_pin_cleaned   .join(df_geo_cleaned, 'ind') \\\n",
    "                        .groupBy('country', 'category') \\\n",
    "                        .agg(count('*').alias('count')) \\\n",
    "                        .groupBy('country') \\\n",
    "                        .agg(max(struct('count', 'category')).alias('max_count')) \\\n",
    "                        .select('country', 'max_count.category', 'max_count.count') \\\n",
    "                        .withColumnRenamed(\"count\", \"category_count\")\n",
    "\n",
    "df_1.display()\n",
    "     "
   ]
  },
  {
   "cell_type": "markdown",
   "metadata": {
    "application/vnd.databricks.v1+cell": {
     "cellMetadata": {},
     "inputWidgets": {},
     "nuid": "181ba543-8f62-4abf-8f8a-018f849527d2",
     "showTitle": false,
     "title": ""
    }
   },
   "source": [
    "##### 2. Find how many posts each category had between 2018 and 2022"
   ]
  },
  {
   "cell_type": "code",
   "execution_count": 0,
   "metadata": {
    "application/vnd.databricks.v1+cell": {
     "cellMetadata": {
      "byteLimit": 2048000,
      "rowLimit": 10000
     },
     "inputWidgets": {},
     "nuid": "53e3ab8b-071c-4d6c-96ad-d37175fd0e98",
     "showTitle": false,
     "title": ""
    }
   },
   "outputs": [
    {
     "output_type": "display_data",
     "data": {
      "text/html": [
       "<style scoped>\n",
       "  .table-result-container {\n",
       "    max-height: 300px;\n",
       "    overflow: auto;\n",
       "  }\n",
       "  table, th, td {\n",
       "    border: 1px solid black;\n",
       "    border-collapse: collapse;\n",
       "  }\n",
       "  th, td {\n",
       "    padding: 5px;\n",
       "  }\n",
       "  th {\n",
       "    text-align: left;\n",
       "  }\n",
       "</style><div class='table-result-container'><table class='table-result'><thead style='background-color: white'><tr><th>post_year</th><th>category_count</th><th>category</th></tr></thead><tbody><tr><td>2018</td><td>25</td><td>diy-and-crafts</td></tr><tr><td>2019</td><td>25</td><td>diy-and-crafts</td></tr><tr><td>2020</td><td>35</td><td>mens-fashion</td></tr><tr><td>2021</td><td>34</td><td>finance</td></tr><tr><td>2022</td><td>27</td><td>christmas</td></tr></tbody></table></div>"
      ]
     },
     "metadata": {
      "application/vnd.databricks.v1+output": {
       "addedWidgets": {},
       "aggData": [],
       "aggError": "",
       "aggOverflow": false,
       "aggSchema": [],
       "aggSeriesLimitReached": false,
       "aggType": "",
       "arguments": {},
       "columnCustomDisplayInfos": {},
       "data": [
        [
         2018,
         25,
         "diy-and-crafts"
        ],
        [
         2019,
         25,
         "diy-and-crafts"
        ],
        [
         2020,
         35,
         "mens-fashion"
        ],
        [
         2021,
         34,
         "finance"
        ],
        [
         2022,
         27,
         "christmas"
        ]
       ],
       "datasetInfos": [],
       "dbfsResultPath": null,
       "isJsonSchema": true,
       "metadata": {},
       "overflow": false,
       "plotOptions": {
        "customPlotOptions": {},
        "displayType": "table",
        "pivotAggregation": null,
        "pivotColumns": null,
        "xColumns": null,
        "yColumns": null
       },
       "removedWidgets": [],
       "schema": [
        {
         "metadata": "{}",
         "name": "post_year",
         "type": "\"integer\""
        },
        {
         "metadata": "{}",
         "name": "category_count",
         "type": "\"long\""
        },
        {
         "metadata": "{}",
         "name": "category",
         "type": "\"string\""
        }
       ],
       "type": "table"
      }
     },
     "output_type": "display_data"
    }
   ],
   "source": [
    "df_2 = df_pin_cleaned   .join(df_geo_cleaned, 'ind') \\\n",
    "                        .filter((year('timestamp') >= 2018) & (year('timestamp') <=2022)) \\\n",
    "                        .groupBy(year('timestamp').alias('post_year'), 'category') \\\n",
    "                        .agg(count('*').alias('category_count')) \\\n",
    "                        .orderBy(['post_year', 'category_count'], ascending=[True, False]) \\\n",
    "                        .groupBy('post_year') \\\n",
    "                        .agg({'category': 'first', 'category_count': 'first'}) \\\n",
    "                        .withColumnRenamed('first(category)', 'category') \\\n",
    "                        .withColumnRenamed('first(category_count)', 'category_count')\n",
    "\n",
    "df_2.display()\n"
   ]
  },
  {
   "cell_type": "markdown",
   "metadata": {
    "application/vnd.databricks.v1+cell": {
     "cellMetadata": {},
     "inputWidgets": {},
     "nuid": "0cc799d8-e546-4cbe-84c6-b3c61665b7a9",
     "showTitle": false,
     "title": ""
    }
   },
   "source": [
    "##### 3. Find the user with the most followers in each country"
   ]
  },
  {
   "cell_type": "code",
   "execution_count": 0,
   "metadata": {
    "application/vnd.databricks.v1+cell": {
     "cellMetadata": {
      "byteLimit": 2048000,
      "rowLimit": 10000
     },
     "inputWidgets": {},
     "nuid": "2d0edb24-cdca-410f-96aa-f407ad18dcda",
     "showTitle": false,
     "title": ""
    }
   },
   "outputs": [
    {
     "output_type": "display_data",
     "data": {
      "text/html": [
       "<style scoped>\n",
       "  .table-result-container {\n",
       "    max-height: 300px;\n",
       "    overflow: auto;\n",
       "  }\n",
       "  table, th, td {\n",
       "    border: 1px solid black;\n",
       "    border-collapse: collapse;\n",
       "  }\n",
       "  th, td {\n",
       "    padding: 5px;\n",
       "  }\n",
       "  th {\n",
       "    text-align: left;\n",
       "  }\n",
       "</style><div class='table-result-container'><table class='table-result'><thead style='background-color: white'><tr><th>country</th><th>poster_name</th><th>max_followers</th></tr></thead><tbody><tr><td>Hungary</td><td>Pandora</td><td>848</td></tr><tr><td>Central African Republic</td><td>Louy Magroos</td><td>426</td></tr><tr><td>Bahrain</td><td>Decor Home Ideas</td><td>144000</td></tr><tr><td>Uganda</td><td>Lauren McBride</td><td>84000</td></tr><tr><td>Bouvet Island (Bouvetoya)</td><td>SelfMadeLadies | Law of Attraction, Manifestation & Money Mindset</td><td>34000</td></tr><tr><td>Burkina Faso</td><td>Dare to Cultivate</td><td>7000</td></tr><tr><td>Bouvet Island (Bouvetoya)</td><td>I Heart Crafty Things</td><td>276000</td></tr><tr><td>Afghanistan</td><td>Walmart</td><td>null</td></tr><tr><td>Latvia</td><td>STRAIGHT OUT OF THE PLAYGROUND</td><td>1000</td></tr><tr><td>Albania</td><td>The Budget Mom | Budget Tips, Save Money, Get out of Debt & More!</td><td>97000</td></tr><tr><td>Dominican Republic</td><td>Petite in Paris</td><td>3000</td></tr><tr><td>Montserrat</td><td>Taming Little Monsters - Fun Activities for Kids</td><td>4000</td></tr><tr><td>Mauritania</td><td>The Literacy Nest</td><td>22000</td></tr><tr><td>Kenya</td><td>FOURLINE DESIGN | Home Decor & Accessories</td><td>26000</td></tr><tr><td>Hong Kong</td><td>Miranda Schroeder // Thoughtfully Thrifted</td><td>14000</td></tr><tr><td>Argentina</td><td>The Practical Saver | Save Money</td><td>60000</td></tr><tr><td>Kuwait</td><td>Green Wedding Shoes</td><td>null</td></tr><tr><td>Guinea</td><td>Woodchuck's Fine Furniture and Decor</td><td>320</td></tr><tr><td>United States of America</td><td>Alicia Greenwood</td><td>0</td></tr><tr><td>Liberia</td><td>Happy Hooligans - Crafts and Activities for Kids</td><td>550000</td></tr><tr><td>Andorra</td><td>The Best Ideas for Kids</td><td>903000</td></tr><tr><td>Philippines</td><td>Life of Neon | Custom Neon Light Signs | Home Decor Wall Art</td><td>111</td></tr><tr><td>Saint Martin</td><td>Just Jamila</td><td>188</td></tr><tr><td>France</td><td>Sunshine Whispers</td><td>14000</td></tr><tr><td>Guadeloupe</td><td>Jess Abbott | The Sewing Rabbit</td><td>123000</td></tr><tr><td>Australia</td><td>Kristine Nannini</td><td>34000</td></tr><tr><td>Sweden</td><td>My Bored Toddler</td><td>58000</td></tr><tr><td>Brunei Darussalam</td><td>The Autism Vault</td><td>5000</td></tr><tr><td>Equatorial Guinea</td><td>MarQuai Romari</td><td>31</td></tr><tr><td>Turkmenistan</td><td>Dionne ❤️ Home & Life Organized</td><td>7000</td></tr><tr><td>Armenia</td><td>123 Homeschool 4 Me</td><td>176000</td></tr><tr><td>Saudi Arabia</td><td>Edwin | Cash The Checks | Find Your Perfect Side Hustle</td><td>223</td></tr><tr><td>Afghanistan</td><td>Love Lives On</td><td>28000</td></tr><tr><td>French Polynesia</td><td>The Printable Princess</td><td>52000</td></tr><tr><td>American Samoa</td><td>Thriving Home</td><td>56000</td></tr><tr><td>British Virgin Islands</td><td>Kitchen Fun With My 3 Sons</td><td>245000</td></tr><tr><td>Argentina</td><td>Boop Decals</td><td>7000</td></tr><tr><td>Bolivia</td><td>Kimberly West (a girl and a glue gun)</td><td>243000</td></tr><tr><td>Bangladesh</td><td>Suburban Men</td><td>383000</td></tr><tr><td>Fiji</td><td>Teach Create Motivate</td><td>41000</td></tr><tr><td>Luxembourg</td><td>Linda Kamp-Around The Kampfire</td><td>35000</td></tr><tr><td>Azerbaijan</td><td>SOCIETY19</td><td>null</td></tr><tr><td>Heard Island and McDonald Islands</td><td>Real Men Real Style</td><td>487000</td></tr><tr><td>Congo</td><td>Blogging For Beginners|Money Making Tips| Passive Income</td><td>4000</td></tr><tr><td>Chad</td><td>Glued To My Crafts</td><td>226000</td></tr><tr><td>Andorra</td><td>Teachers Pay Teachers</td><td>null</td></tr><tr><td>American Samoa</td><td>Homesthetics.net</td><td>556000</td></tr><tr><td>Antarctica (the territory South of 60 deg S)</td><td>This Mama Blogs -Work at Home Jobs |  Frugal Living | Make Money</td><td>46000</td></tr><tr><td>Estonia</td><td>Decorator's Warehouse</td><td>6000</td></tr><tr><td>French Southern Territories</td><td>Mary at Home is Where the Boat Is</td><td>59000</td></tr><tr><td>Sao Tome and Principe</td><td>Bookmarks Retail</td><td>793</td></tr><tr><td>Aruba</td><td>Jasmine | Feeling Nifty | Acrylic Painting Tutorials, Ideas &More</td><td>48000</td></tr><tr><td>American Samoa</td><td>TheFab20s | Travel+Food+DIY+Listicles</td><td>42000</td></tr><tr><td>Croatia</td><td>Art & Home</td><td>35000</td></tr><tr><td>Angola</td><td>CraftGossip.com</td><td>502000</td></tr><tr><td>French Guiana</td><td>Sweet Red Poppy Free Sewing Patterns, Cut Files & Craft Tutorials</td><td>241000</td></tr><tr><td>Azerbaijan</td><td>Saving Money with Frugality Magazine</td><td>31000</td></tr><tr><td>Australia</td><td>Inspirethemom</td><td>19000</td></tr><tr><td>United States Virgin Islands</td><td>Amanda Harris</td><td>240</td></tr><tr><td>Bahrain</td><td>RD's Obsessions</td><td>22000</td></tr><tr><td>Algeria</td><td>YourTango</td><td>942000</td></tr><tr><td>Cuba</td><td>Radana</td><td>13</td></tr><tr><td>Bangladesh</td><td>madaboutthehouse</td><td>242000</td></tr><tr><td>Switzerland</td><td>Kelley Rosney</td><td>45</td></tr><tr><td>Guinea-Bissau</td><td>IngridZenMoments</td><td>4000</td></tr><tr><td>Austria</td><td>EventMB</td><td>9000</td></tr><tr><td>Aruba</td><td>The Work at Home Woman</td><td>110000</td></tr><tr><td>Turkey</td><td>My Little Poppies (Cait Curley, MA/CAGS)</td><td>9000</td></tr><tr><td>Belarus</td><td>Salt in our Hair</td><td>29000</td></tr><tr><td>American Samoa</td><td>K&S Precision Metals</td><td>5</td></tr><tr><td>Armenia</td><td>ArchitectureArtDesigns</td><td>616000</td></tr><tr><td>Afghanistan</td><td>Fiverr</td><td>565000</td></tr><tr><td>Cuba</td><td>Decluttering Your Life</td><td>102000</td></tr><tr><td>Algeria</td><td>SheKnows</td><td>787000</td></tr><tr><td>American Samoa</td><td>aufeminin</td><td>494000</td></tr><tr><td>Singapore</td><td>Brooke Kissler</td><td>179</td></tr><tr><td>Bahamas</td><td>Erin Lee</td><td>22</td></tr><tr><td>Iran</td><td>Yourwillbearwitness</td><td>33000</td></tr><tr><td>Armenia</td><td>Craft-Mart</td><td>132000</td></tr><tr><td>Belize</td><td>OG Watches USA</td><td>38</td></tr><tr><td>Bulgaria</td><td>Giggles Galore</td><td>32000</td></tr><tr><td>Angola</td><td>faz</td><td>139</td></tr><tr><td>Nauru</td><td>Austen Tosone | NYC Blogger | Fashion + Beauty</td><td>23000</td></tr><tr><td>Monaco</td><td>Hum3D | Car 3D models</td><td>48000</td></tr><tr><td>Algeria</td><td>Iva A. Ursano Amazing Me Movement</td><td>228000</td></tr><tr><td>Andorra</td><td>Leah Newton Art</td><td>4000</td></tr><tr><td>Gabon</td><td>Expatolife</td><td>7000</td></tr><tr><td>Seychelles</td><td>Awesthetics by Amy Wong</td><td>18</td></tr><tr><td>Venezuela</td><td>Penny</td><td>28</td></tr><tr><td>Bahamas</td><td>Kippi at Home</td><td>73000</td></tr><tr><td>Bahrain</td><td>Alea Milham | Premeditated Leftovers</td><td>332000</td></tr><tr><td>Ethiopia</td><td>Sarah Wahl | Crestfox</td><td>17000</td></tr><tr><td>Lebanon</td><td>Your Positive Oasis | Motivation| Inspiration| Wellness</td><td>163000</td></tr><tr><td>El Salvador</td><td>Chloe Crabtree | Celebrate & Decorate</td><td>42000</td></tr><tr><td>Australia</td><td>LLEGANCE | Workwear Fashion Woman Advice For Driven Professionals</td><td>28000</td></tr><tr><td>Andorra</td><td>Our Mindful Life</td><td>190000</td></tr><tr><td>New Zealand</td><td>ZENIDEES</td><td>19000</td></tr><tr><td>El Salvador</td><td>Jessica Autumn Planners | Free Printables + Digital Planners</td><td>54000</td></tr><tr><td>Albania</td><td>Bored Panda</td><td>null</td></tr><tr><td>Afghanistan</td><td>DIY Joy - Crafts, Home Improvement, Decor & Recipes</td><td>985000</td></tr><tr><td>Panama</td><td>Abina♡</td><td>43</td></tr><tr><td>Solomon Islands</td><td>MORGAN.M</td><td>33</td></tr><tr><td>Botswana</td><td>My Baba</td><td>12000</td></tr><tr><td>Aruba</td><td>Traci Bender - The Bender Bunch</td><td>11000</td></tr><tr><td>Kyrgyz Republic</td><td>Chan Tommy</td><td>778</td></tr><tr><td>Faroe Islands</td><td>Veterans United Home Loans</td><td>11000</td></tr><tr><td>Montserrat</td><td>Liesl</td><td>1</td></tr><tr><td>Nigeria</td><td>Olexandr Starchuk</td><td>36</td></tr><tr><td>Grenada</td><td>p hump</td><td>314</td></tr><tr><td>Czech Republic</td><td>Todd | Financial Mentor</td><td>7000</td></tr><tr><td>Croatia</td><td>Jessi Fearon | Debt-Free Living</td><td>57000</td></tr><tr><td>Comoros</td><td>Simple Lionheart Life</td><td>31000</td></tr><tr><td>Austria</td><td>RACHEL JOY  |  DIY + HOME</td><td>37000</td></tr><tr><td>Argentina</td><td>Next Luxury</td><td>800000</td></tr><tr><td>Albania</td><td>Hairs Out of Place</td><td>44000</td></tr><tr><td>Saint Vincent and the Grenadines</td><td>Home Etc</td><td>13</td></tr><tr><td>Indonesia</td><td>Latoya | Life and a Budget</td><td>24000</td></tr><tr><td>Latvia</td><td>Royal Fashionist</td><td>188000</td></tr><tr><td>Algeria</td><td>Boss Babe Chronicles | Personal Development, Finances, Self Care</td><td>45000</td></tr><tr><td>Netherlands Antilles</td><td>Kim Cook-Thirteen Chairs-Slates Mugs And Tees</td><td>7000</td></tr><tr><td>Algeria</td><td>Shaunna @ Fantastic Fun and Learning</td><td>128000</td></tr><tr><td>Andorra</td><td>Isaac Yates</td><td>1</td></tr><tr><td>American Samoa</td><td>Mamas Uncut</td><td>null</td></tr><tr><td>Aruba</td><td>Jacqueline MB Designs</td><td>159</td></tr><tr><td>Singapore</td><td>CHRISTIAN CHÊNE</td><td>3000</td></tr><tr><td>British Indian Ocean Territory (Chagos Archipelago)</td><td>Design Rulz</td><td>248000</td></tr><tr><td>Christmas Island</td><td>Avenly Lane Travel blog | Travel Inspiration | Beautiful Places</td><td>91000</td></tr><tr><td>Bulgaria</td><td>Cool Material</td><td>36000</td></tr><tr><td>Maldives</td><td>Kat Sullivan | Marketing Solved | Entrepreneur</td><td>77000</td></tr><tr><td>Poland</td><td>BEIMER</td><td>265</td></tr><tr><td>Belgium</td><td>Twins Dish</td><td>67000</td></tr><tr><td>Armenia</td><td>Witching Hour Baby</td><td>262</td></tr><tr><td>American Samoa</td><td>It's Always Autumn</td><td>498000</td></tr><tr><td>Australia</td><td>Mujer de 10 </td><td>null</td></tr><tr><td>Slovenia</td><td>Vsnicholls</td><td>746</td></tr><tr><td>Tokelau</td><td>Budget Savvy Diva</td><td>384000</td></tr><tr><td>Antigua and Barbuda</td><td>Elements of the Art Room</td><td>13000</td></tr><tr><td>Croatia</td><td>Live Like You Are Rich | Finances, Pregnancy, Recipes & More</td><td>134000</td></tr><tr><td>Cocos (Keeling) Islands</td><td>How Does She</td><td>709000</td></tr><tr><td>Albania</td><td>MojisStyle</td><td>117000</td></tr><tr><td>Cambodia</td><td>Mixed Media Crafts</td><td>6000</td></tr><tr><td>Svalbard & Jan Mayen Islands</td><td>Merissa (Little House Living) | Simple Living + Frugal Living</td><td>152000</td></tr><tr><td>Aruba</td><td>Gathering Dreams | Do What You Love</td><td>71000</td></tr><tr><td>Anguilla</td><td>Amazingy</td><td>2000</td></tr><tr><td>Egypt</td><td>Autumn Shepardson</td><td>2000</td></tr><tr><td>Colombia</td><td>Consuelo Aguirre</td><td>0</td></tr><tr><td>Bulgaria</td><td>The Techie Teacher</td><td>59000</td></tr><tr><td>Saint Barthelemy</td><td>Alexandria Franko</td><td>517</td></tr><tr><td>Romania</td><td>Kay𖨆</td><td>301</td></tr><tr><td>Somalia</td><td>PutTheKettleOn | Self Care & Personal Growth For a Life You Love</td><td>27000</td></tr><tr><td>Togo</td><td>debra</td><td>4000</td></tr><tr><td>Finland</td><td>Mccready-romero</td><td>20</td></tr><tr><td>Bangladesh</td><td>The Christmas Ranch</td><td>184</td></tr><tr><td>Finland</td><td>Amee</td><td>79000</td></tr><tr><td>Antarctica (the territory South of 60 deg S)</td><td>HikenDip</td><td>501000</td></tr><tr><td>Afghanistan</td><td>It's me, JD | DIY, Crafts, Home & Organization</td><td>27000</td></tr><tr><td>Maldives</td><td>Passion For Savings</td><td>330000</td></tr><tr><td>Fiji</td><td>Vita Talie - Fashion Brand</td><td>101</td></tr><tr><td>Cote d'Ivoire</td><td>Sabi</td><td>15</td></tr><tr><td>Bhutan</td><td>Centered in Primary | Centers for the Elementary Classroom</td><td>323</td></tr><tr><td>Liechtenstein</td><td>Sophie's Way</td><td>10000</td></tr><tr><td>Libyan Arab Jamahiriya</td><td>miss coco</td><td>157000</td></tr><tr><td>Australia</td><td>Jess Wandering</td><td>22000</td></tr><tr><td>Cyprus</td><td>Lantern Lane Designs|Home Decor|DIY Projects|DIY Home Decor</td><td>25000</td></tr><tr><td>Antigua and Barbuda</td><td>Only In Your State</td><td>401000</td></tr><tr><td>Azerbaijan</td><td>Esavingsblog</td><td>14000</td></tr><tr><td>Aruba</td><td>TheTrendSpotter</td><td>211000</td></tr><tr><td>Madagascar</td><td>Mix and Match Mama</td><td>103000</td></tr><tr><td>Saudi Arabia</td><td>Jay Anna Fuentes</td><td>332</td></tr><tr><td>Faroe Islands</td><td>Finn Gratata</td><td>443</td></tr><tr><td>Costa Rica</td><td>Liz Marie</td><td>309000</td></tr><tr><td>Bahamas</td><td>The Rustic Roundup, LLC | Style Hacks | Self Love</td><td>293</td></tr><tr><td>Argentina</td><td>Jen | Save to Splurge</td><td>8000</td></tr><tr><td>Bahamas</td><td>War History Online</td><td>78000</td></tr><tr><td>Argentina</td><td>Tony</td><td>3000</td></tr><tr><td>Congo</td><td>The Cards We Drew</td><td>64000</td></tr><tr><td>Cambodia</td><td>Catch My Party</td><td>null</td></tr><tr><td>Aruba</td><td>Breezy Special Ed</td><td>31000</td></tr><tr><td>Burundi</td><td>The Keeper of the Cheerios</td><td>109000</td></tr><tr><td>France</td><td>Orange And Magnolia Dental Studio</td><td>1000</td></tr><tr><td>Guernsey</td><td>TattooMagz</td><td>32000</td></tr><tr><td>Serbia</td><td>VEM Designs</td><td>78</td></tr><tr><td>Romania</td><td>Joyce Flores</td><td>3000</td></tr><tr><td>Anguilla</td><td>Girl Crafts</td><td>60000</td></tr><tr><td>Andorra</td><td>Birch Event Design</td><td>6000</td></tr><tr><td>Antigua and Barbuda</td><td>Marisol Retana T.</td><td>722</td></tr><tr><td>Korea</td><td>Seasons Of My Home</td><td>35000</td></tr><tr><td>Samoa</td><td>Desiree Weitzenhoffer</td><td>196</td></tr><tr><td>Dominica</td><td>Green Willow Homestead</td><td>5000</td></tr><tr><td>Argentina</td><td>Relationship Rules</td><td>296000</td></tr><tr><td>United States Virgin Islands</td><td>Pamisva</td><td>33</td></tr><tr><td>Bulgaria</td><td>CarGurus</td><td>35000</td></tr><tr><td>Benin</td><td>Domnique Prencipe</td><td>91</td></tr><tr><td>Micronesia</td><td>Anna Kim | Cause-Based Travel + Online Coach - My Travelanthropy</td><td>1000</td></tr><tr><td>Bermuda</td><td>Bhavani's Creations</td><td>630</td></tr><tr><td>Angola</td><td>Pathway 2 Success</td><td>56000</td></tr><tr><td>British Virgin Islands</td><td>Sports Car Digest</td><td>6000</td></tr><tr><td>American Samoa</td><td>Epic Reads</td><td>77000</td></tr><tr><td>Guam</td><td>Amanda Green Bottoms @ kevinandamanda.com</td><td>219000</td></tr><tr><td>Benin</td><td>Prettyluhhazel</td><td>3000</td></tr><tr><td>Guyana</td><td>Sarah Martin</td><td>394</td></tr><tr><td>Algeria</td><td>The Portable Wife | Travel & Expat Life Blog</td><td>5000</td></tr><tr><td>Belarus</td><td>Ricky Lee</td><td>709</td></tr><tr><td>Belize</td><td>Easy Kids Crafts & Activities | Preschool & Kindergarten Ideas</td><td>267000</td></tr><tr><td>Azerbaijan</td><td>Early Learning Ideas</td><td>50000</td></tr><tr><td>Austria</td><td>Wanderlust Chloe ✈️ Travel guides, inspo and adventure travel ✈️</td><td>10000</td></tr><tr><td>Christmas Island</td><td>OUR NEXT ADVENTURE | family travel blog</td><td>9000</td></tr><tr><td>Aruba</td><td>ifyousayido</td><td>5000</td></tr><tr><td>Australia</td><td>Your Home, Reimagined LLC</td><td>137</td></tr><tr><td>Bermuda</td><td>Life on Summerhill | Home, Holiday Decor & DIY Website</td><td>46000</td></tr><tr><td>Bhutan</td><td>Yeetys Market</td><td>517</td></tr><tr><td>Aruba</td><td>Wear24-7</td><td>5000</td></tr><tr><td>Guinea-Bissau</td><td>The Inspiration Edit - Best Instant Pot Recipes And Kids Crafts</td><td>56000</td></tr><tr><td>Turks and Caicos Islands</td><td>I.A. Planning</td><td>7</td></tr><tr><td>Nigeria</td><td>eyelashdance</td><td>164</td></tr><tr><td>Australia</td><td>Ashley - Modern Glam</td><td>19000</td></tr><tr><td>Lithuania</td><td>The Bespoke ELA Classroom</td><td>10000</td></tr><tr><td>Benin</td><td>The Wanderlust Rose- Travel Jobs, Adventure & Travel Tips</td><td>3000</td></tr><tr><td>British Virgin Islands</td><td>Caffeine Queen Teacher</td><td>4000</td></tr><tr><td>Bahrain</td><td>Emilee Book</td><td>91</td></tr><tr><td>Antarctica (the territory South of 60 deg S)</td><td>Town & Country Magazine</td><td>189000</td></tr><tr><td>British Virgin Islands</td><td>DIVDepot – Geld sparen & verdienen | Mindset | Dividend Investing</td><td>3000</td></tr><tr><td>Bangladesh</td><td>Better Homes and Gardens</td><td>null</td></tr><tr><td>Bhutan</td><td>Kids Crafts & Free Preschool Printables- Sharing Our Experiences</td><td>3000</td></tr><tr><td>British Virgin Islands</td><td>Primary Playground</td><td>22000</td></tr><tr><td>Bangladesh</td><td>Crisp Collective</td><td>13000</td></tr><tr><td>Armenia</td><td>Michelle {CraftyMorning.com}</td><td>892000</td></tr><tr><td>Bouvet Island (Bouvetoya)</td><td>Etsy</td><td>null</td></tr><tr><td>Saint Kitts and Nevis</td><td>eFavormart | One-Stop Shop for Wedding, Party & Event Supplies!</td><td>68000</td></tr><tr><td>Antigua and Barbuda</td><td>Everyday Wholesome</td><td>31000</td></tr><tr><td>Benin</td><td>fashionchaser | nails,hairstyle,tattoo</td><td>23000</td></tr><tr><td>Ecuador</td><td>The Social Easel Online Paint Studio | Video Painting Tutorials</td><td>20000</td></tr><tr><td>Grenada</td><td>Young Adult Money</td><td>9000</td></tr><tr><td>Nicaragua</td><td>Mandy Renee</td><td>729</td></tr><tr><td>Algeria</td><td>Caroline|CarolineVencil.com | Saving & Making Money | Pro Blogger</td><td>42000</td></tr><tr><td>Anguilla</td><td>paupoo</td><td>784</td></tr><tr><td>Netherlands</td><td>PUFIK Interiors & Inspirations</td><td>136000</td></tr><tr><td>Aruba</td><td>Wall Canvas Mall</td><td>305</td></tr><tr><td>French Southern Territories</td><td>Salvaged Living</td><td>40000</td></tr><tr><td>Bolivia</td><td>Craftsy Hacks</td><td>76000</td></tr><tr><td>Czech Republic</td><td>xtrafly.myshopify.com</td><td>133</td></tr><tr><td>Bermuda</td><td>Jody-Ann Rowe | Marketing Coach for Wedding Professionals</td><td>884</td></tr><tr><td>Afghanistan</td><td>AllPosters</td><td>72000</td></tr><tr><td>Mongolia</td><td>NoitaDesigns</td><td>2000</td></tr><tr><td>Brazil</td><td>theunpopularmom</td><td>833</td></tr><tr><td>Bahamas</td><td>EventPlanning.com | Learn How To Become An Event Planner</td><td>4000</td></tr><tr><td>Korea</td><td>Fkjie</td><td>662</td></tr><tr><td>Afghanistan</td><td>Dividends Diversify: Money Matters So Build Wealth & Be Rich</td><td>28000</td></tr><tr><td>Botswana</td><td>Crafts and Activities for Kids with Fireflies and Mud Pies</td><td>119000</td></tr><tr><td>Anguilla</td><td>Kristen | Lifestyle, Mom Tips & Teacher Stuff Blog</td><td>92000</td></tr><tr><td>American Samoa</td><td>Homease</td><td>18000</td></tr><tr><td>Bulgaria</td><td>MensXP</td><td>8000</td></tr><tr><td>Albania</td><td>One Little Project</td><td>472000</td></tr><tr><td>Montserrat</td><td>Luci // Mums Make Lists - Family and mom lifestyle</td><td>20000</td></tr><tr><td>Azerbaijan</td><td>Style Me Pretty</td><td>null</td></tr><tr><td>Bahrain</td><td>Renee Roaming • Travel & Adventure</td><td>27000</td></tr><tr><td>Aruba</td><td>Mala Rock | Rock T-shirts</td><td>27</td></tr><tr><td>Iran</td><td>Astrid Lopez</td><td>56</td></tr><tr><td>Denmark</td><td>A Life Adjacent</td><td>36000</td></tr><tr><td>Isle of Man</td><td>Abbotts At Home</td><td>52000</td></tr><tr><td>American Samoa</td><td>Miss Mustard Seed | Minnesota Home Decor Blogger & Influencer</td><td>208000</td></tr><tr><td>Antigua and Barbuda</td><td>Sumcoco | Decor Ideas, Hairstyles, Nails Fashion Advice</td><td>306000</td></tr><tr><td>Czech Republic</td><td>Tatertots and Jello .com</td><td>398000</td></tr><tr><td>Kiribati</td><td>MOMtivational // Parenting + Pregnancy + More</td><td>8000</td></tr><tr><td>Azerbaijan</td><td>McKenzy Potter | Parenting Tips & Hacks  + Budgeting Tips</td><td>6000</td></tr><tr><td>Panama</td><td>Alanna | Periodic Adventures</td><td>1000</td></tr><tr><td>Bermuda</td><td>Dailylifewithmads|Chronic Illness Blogger </td><td>198</td></tr><tr><td>Turkmenistan</td><td>One World Wanderer | Travel Blogger</td><td>1000</td></tr><tr><td>Puerto Rico</td><td>Book More Brides</td><td>1000</td></tr><tr><td>Puerto Rico</td><td>GW</td><td>0</td></tr><tr><td>American Samoa</td><td>IdeasDonuts</td><td>47000</td></tr><tr><td>Christmas Island</td><td>Instructables</td><td>null</td></tr><tr><td>Singapore</td><td>Erin Waters | Elementary Education Activities & Resources</td><td>3000</td></tr><tr><td>Martinique</td><td>Heart Handmade UK | Craft Room Ideas, Craft Ideas For Adults</td><td>null</td></tr><tr><td>Egypt</td><td>South Lumina Style</td><td>9000</td></tr><tr><td>Falkland Islands (Malvinas)</td><td>Victoria Magazine</td><td>59000</td></tr><tr><td>India</td><td>Bella Botanicals - Naturally Beautiful Skincare with CBD</td><td>1000</td></tr><tr><td>American Samoa</td><td>Byrdie</td><td>538000</td></tr><tr><td>Czech Republic</td><td>Trip101.com | Unique stays. New experiences.</td><td>16000</td></tr><tr><td>Nauru</td><td>The Intrepid Guide | Language Learning for Travel</td><td>45000</td></tr><tr><td>Indonesia</td><td>Lifehacker</td><td>141000</td></tr><tr><td>Australia</td><td>Cultura Colectiva</td><td>null</td></tr><tr><td>Mozambique</td><td>Stylin by Aylin</td><td>83000</td></tr><tr><td>Belgium</td><td>The Krazy Coupon Lady</td><td>433000</td></tr><tr><td>Bosnia and Herzegovina</td><td>5-Minute Crafts Family</td><td>370000</td></tr><tr><td>Bahrain</td><td>Amira Rahim | Art & Painting</td><td>11000</td></tr><tr><td>Moldova</td><td>Upcycle My Stuff - DIY Projects | Repurposing | Upcycling</td><td>22000</td></tr><tr><td>Armenia</td><td>Yanko Design - Form Beyond Function</td><td>416000</td></tr><tr><td>Falkland Islands (Malvinas)</td><td>Autism Adventures</td><td>21000</td></tr><tr><td>Guadeloupe</td><td>Mommyhooding</td><td>13000</td></tr><tr><td>Cote d'Ivoire</td><td>Math Giraffe</td><td>25000</td></tr><tr><td>Japan</td><td>The Adult Man - Practical Men's Fashion & Lifestyle Advice</td><td>87000</td></tr><tr><td>Dominican Republic</td><td>Maria Louise Design</td><td>31000</td></tr><tr><td>Venezuela</td><td>My Poppet - A Craft, Travel & Food Blog for Colourful Living</td><td>100000</td></tr><tr><td>Cape Verde</td><td>RT Lifestyle Magazine | Travel, DIY, Recipes, Fitness & More</td><td>43000</td></tr><tr><td>Congo</td><td>Lindsay Ann Learning | High School English Activities </td><td>6000</td></tr><tr><td>Israel</td><td>Leonid Afremov</td><td>1000</td></tr><tr><td>Albania</td><td>ArtsyCraftsyMom | Art, Craft & DIY ideas</td><td>229000</td></tr><tr><td>Isle of Man</td><td>London x London -  Cool Things To Do + London Travel</td><td>376</td></tr><tr><td>Brunei Darussalam</td><td>Kids Craft Room</td><td>277000</td></tr><tr><td>Chile</td><td>Forever Lost In Travel - Travel and lifestyle blog</td><td>3000</td></tr><tr><td>Bangladesh</td><td>Jin Designs</td><td>1000</td></tr><tr><td>India</td><td>Happiness is Homemade | Crafts, Printables, Party Ideas, & More!</td><td>167000</td></tr><tr><td>Belize</td><td>Teaching Special Thinkers</td><td>21000</td></tr><tr><td>Yemen</td><td>T I F F A N Y</td><td>4000</td></tr><tr><td>Greece</td><td>Jennifer Gilbert DeLoach</td><td>2000</td></tr><tr><td>Brazil</td><td>Frozen Pennies | Sara Conklin (Coaching, Budgeting & Frugal Living)</td><td>5000</td></tr><tr><td>Austria</td><td>Beautyholo | Latest Hairstyles, Nail Design Ideas, Home Décor DIY, Women Fashion Ideas</td><td>54000</td></tr><tr><td>Georgia</td><td>Science of Curiosity</td><td>9000</td></tr><tr><td>Palestinian Territory</td><td>Onedio.com</td><td>561000</td></tr><tr><td>Guinea</td><td>Pam from Over the Big Moon</td><td>79000</td></tr><tr><td>Chile</td><td>Amber Strong - The Maker’s Map | DIY’s, Crafts & Home Decor</td><td>19000</td></tr><tr><td>Libyan Arab Jamahiriya</td><td>Fun-squared</td><td>40000</td></tr><tr><td>Bhutan</td><td>this heArt of mine / amy christie</td><td>22000</td></tr><tr><td>Afghanistan</td><td>Ethnic Earring</td><td>14000</td></tr><tr><td>Austria</td><td>Totschooling | Toddler & Preschool Printable Activities</td><td>161000</td></tr><tr><td>Antigua and Barbuda</td><td>Money Tamer | Budget Tips, Pay Off Debt, Save Money, Printables</td><td>2000</td></tr><tr><td>Faroe Islands</td><td>QC Event School</td><td>511</td></tr><tr><td>Bosnia and Herzegovina</td><td>A Wonderful Thought</td><td>37000</td></tr><tr><td>Bulgaria</td><td>Living Low Key | Save Money, Make Money, & Frugal Living</td><td>26000</td></tr><tr><td>Heard Island and McDonald Islands</td><td>myclickjournal | Online Business, College & Budget Travel Tips</td><td>13000</td></tr><tr><td>Uganda</td><td>Hair Accessories</td><td>22</td></tr><tr><td>Argentina</td><td>This Tiny  Blue House</td><td>108000</td></tr><tr><td>Ireland</td><td>Seeking Lavender Lane</td><td>49000</td></tr><tr><td>Portugal</td><td>Lindsey Blogs</td><td>29000</td></tr><tr><td>Malta</td><td>Habbie Beauty</td><td>4</td></tr><tr><td>Belize</td><td>Clary | IKEA hacks & DIY Project for home</td><td>67000</td></tr><tr><td>Argentina</td><td>JESSICA SARA MORRIS | HOME DECOR + DIY ON A BUDGET</td><td>36000</td></tr><tr><td>Barbados</td><td>Especially Education</td><td>38000</td></tr><tr><td>Kyrgyz Republic</td><td>ADDitude Magazine</td><td>87000</td></tr><tr><td>Ecuador</td><td>Midwest Jewelers & Estate Buyers</td><td>265</td></tr><tr><td>Algeria</td><td>Mens Fashion - LIFESTYLE BY PS </td><td>613000</td></tr><tr><td>Bahamas</td><td>Ashley</td><td>4</td></tr><tr><td>Madagascar</td><td>Ecole du Net</td><td>2000</td></tr><tr><td>Anguilla</td><td>Lady Decluttered | Decluttering, Organizing, & Simple Living Tips</td><td>88000</td></tr><tr><td>Guernsey</td><td>Quentin Weed</td><td>39</td></tr><tr><td>Georgia</td><td>Susie Allison | Busy Toddler</td><td>203000</td></tr><tr><td>Colombia</td><td>Renata’s Boutique</td><td>27</td></tr><tr><td>Nauru</td><td>Hivenmax</td><td>3000</td></tr><tr><td>Singapore</td><td>Lionel Leon</td><td>387</td></tr><tr><td>Malta</td><td>Luis Alberto Martinez</td><td>13</td></tr><tr><td>British Indian Ocean Territory (Chagos Archipelago)</td><td>joymanmall</td><td>31000</td></tr><tr><td>Hungary</td><td>BalsaCircle</td><td>2000</td></tr><tr><td>Comoros</td><td>PartySlate</td><td>12000</td></tr><tr><td>Bulgaria</td><td>A Piece of Rainbow</td><td>603000</td></tr><tr><td>Cameroon</td><td>Made to be a Momma</td><td>85000</td></tr><tr><td>Bahamas</td><td>The Kitchen Table Classroom</td><td>221000</td></tr><tr><td>Armenia</td><td>DIYnCrafts.Com</td><td>746000</td></tr><tr><td>Australia</td><td>Write Your Story | Budgeting, Healthy Lifestyle, Faith</td><td>5000</td></tr><tr><td>Benin</td><td>Learn in Color</td><td>21000</td></tr><tr><td>Equatorial Guinea</td><td>Whisper Wanderlust * Travel Blog</td><td>10000</td></tr><tr><td>Djibouti</td><td>Katepickle - picklebums - fun ideas for families</td><td>130000</td></tr><tr><td>India</td><td>Travel Mad Mum</td><td>7000</td></tr><tr><td>Antigua and Barbuda</td><td>A Cultivated Nest</td><td>578000</td></tr><tr><td>Belgium</td><td>Happy Toddler Playtime</td><td>73000</td></tr><tr><td>Turks and Caicos Islands</td><td>Let's Eat Cake</td><td>19000</td></tr><tr><td>Germany</td><td>Middle Class Dad</td><td>10000</td></tr><tr><td>Bahamas</td><td>Follow The Yellow Brick Home</td><td>79000</td></tr><tr><td>Uganda</td><td>Inspired by Charm</td><td>null</td></tr><tr><td>Albania</td><td>Projects with Kids</td><td>20000</td></tr><tr><td>Cape Verde</td><td>Sand and Sisal</td><td>178000</td></tr><tr><td>Swaziland</td><td>Laidback Trip</td><td>3000</td></tr><tr><td>Lebanon</td><td>Creative Home Keeper</td><td>28000</td></tr><tr><td>Bangladesh</td><td>Carolyn Dube</td><td>40000</td></tr><tr><td>Canada</td><td>Diana's Healthy Living | Luxury Adventure Travel Blog</td><td>7000</td></tr><tr><td>Korea</td><td>Sara {Mom Endeavors}</td><td>81000</td></tr><tr><td>Bouvet Island (Bouvetoya)</td><td>Bryce W.</td><td>1000</td></tr><tr><td>Cook Islands</td><td>The Spring Break Family - Family Travel</td><td>1000</td></tr><tr><td>Antigua and Barbuda</td><td>Trusted Travel Girl</td><td>3000</td></tr><tr><td>Saint Kitts and Nevis</td><td>The Rustic Pelican</td><td>4000</td></tr><tr><td>Monaco</td><td>E</td><td>167</td></tr><tr><td>Bahamas</td><td>Handmade Charlotte</td><td>948000</td></tr><tr><td>Bouvet Island (Bouvetoya)</td><td>POPSUGAR</td><td>null</td></tr><tr><td>Nicaragua</td><td>Lynn</td><td>316</td></tr><tr><td>Antarctica (the territory South of 60 deg S)</td><td>Refinery29</td><td>null</td></tr><tr><td>Ghana</td><td>jennifer</td><td>191</td></tr><tr><td>Algeria</td><td>Hand Luggage Only</td><td>459000</td></tr><tr><td>Romania</td><td>Shea Gordon</td><td>5</td></tr><tr><td>Maldives</td><td>Parents</td><td>416000</td></tr><tr><td>Albania</td><td>The Minds Journal</td><td>null</td></tr><tr><td>Antarctica (the territory South of 60 deg S)</td><td>Brittney Steel</td><td>198</td></tr><tr><td>Italy</td><td>GirlGetGlamorous</td><td>21000</td></tr><tr><td>Sudan</td><td>Literacy and Math Ideas</td><td>63000</td></tr><tr><td>Sudan</td><td>iElylike ..✿◕‿◕✿ஐ✿◕‿◕✿</td><td>940</td></tr><tr><td>Botswana</td><td>RapidLeaks</td><td>4000</td></tr><tr><td>Afghanistan</td><td>Blossom</td><td>null</td></tr><tr><td>Congo</td><td>The Painted Hinge</td><td>55000</td></tr><tr><td>Tajikistan</td><td>Achaisha Hudson</td><td>593</td></tr><tr><td>Finland</td><td>Ammmvishall navyatA</td><td>2000</td></tr><tr><td>Angola</td><td>Tastemade</td><td>null</td></tr><tr><td>Tunisia</td><td>El blog amarillo</td><td>66000</td></tr><tr><td>American Samoa</td><td>BuzzFeed</td><td>null</td></tr><tr><td>Albania</td><td>Beautiful Makeup Search</td><td>159000</td></tr><tr><td>Albania</td><td>WeAreTeachers</td><td>500000</td></tr><tr><td>Congo</td><td>GorgeChicOfficial</td><td>908</td></tr><tr><td>Morocco</td><td>Two Southern Sweeties | Life After 50 + Second Act Lifestyle</td><td>13000</td></tr><tr><td>Cote d'Ivoire</td><td>Journey Era | Fun Adventure</td><td>24000</td></tr><tr><td>American Samoa</td><td>wikiHow</td><td>null</td></tr><tr><td>Greece</td><td>Thirty Handmade Days</td><td>397000</td></tr><tr><td>Latvia</td><td>Olay</td><td>23000</td></tr><tr><td>Slovakia (Slovak Republic)</td><td>CollectorCarAds.com</td><td>11000</td></tr><tr><td>Dominican Republic</td><td>Wealthy Nickel | Make Money, Save Money, Passive Income, Invest</td><td>17000</td></tr><tr><td>Haiti</td><td>Fres Houz</td><td>100000</td></tr><tr><td>Finland</td><td>Melissa</td><td>4000</td></tr><tr><td>Malta</td><td>Iowa Girl Eats</td><td>219000</td></tr><tr><td>Aruba</td><td>GQ Magazine</td><td>874000</td></tr><tr><td>Solomon Islands</td><td>Sonet Cox</td><td>6</td></tr><tr><td>Gabon</td><td>Beth Gaugler</td><td>2000</td></tr><tr><td>Afghanistan</td><td>TheUnstitchd</td><td>723000</td></tr><tr><td>Cambodia</td><td>Blusher</td><td>583000</td></tr><tr><td>Kuwait</td><td>Vinyl Written</td><td>1000</td></tr><tr><td>Cameroon</td><td>From the Pond</td><td>51000</td></tr><tr><td>Egypt</td><td>Elizabeth Leigh</td><td>406</td></tr><tr><td>Norfolk Island</td><td>Lifestyle DIYW \"Live Life & Do IT Your Way\"</td><td>6000</td></tr><tr><td>Ecuador</td><td>Kelsey Bang</td><td>9000</td></tr><tr><td>Norway</td><td>DailyDose</td><td>189</td></tr><tr><td>Niger</td><td>Candice</td><td>293</td></tr><tr><td>Gibraltar</td><td>TheSuperBOO!</td><td>89000</td></tr><tr><td>Congo</td><td>Humiara Begum</td><td>1</td></tr><tr><td>Afghanistan</td><td>Women.com</td><td>166000</td></tr><tr><td>Costa Rica</td><td>Momentary Ink</td><td>27000</td></tr><tr><td>Bermuda</td><td>defensa.com</td><td>4000</td></tr><tr><td>Belgium</td><td>Rachel_thePondsFarmhouse</td><td>13000</td></tr><tr><td>Germany</td><td>QC Career School</td><td>5000</td></tr><tr><td>Bahamas</td><td>Her Packing List | Minimalist Travel Essentials & Tips for Women</td><td>41000</td></tr><tr><td>Canada</td><td>WOMAN</td><td>109000</td></tr><tr><td>Afghanistan</td><td>Offroadium.com - Offroad, Lifted Trucks & 4x4</td><td>25000</td></tr><tr><td>Guadeloupe</td><td>Kathy Schmitz</td><td>5000</td></tr><tr><td>Croatia</td><td>Budgets Made Easy</td><td>17000</td></tr><tr><td>Malawi</td><td>Avenly Lane | Beauty, Fashion & Travel Inspiration</td><td>14000</td></tr><tr><td>Dominica</td><td>Monique - Living Life and Learning</td><td>67000</td></tr><tr><td>Belgium</td><td>Bon Traveler | Travel + Design Tips</td><td>24000</td></tr><tr><td>Honduras</td><td>The Boss Depot</td><td>319</td></tr><tr><td>Brunei Darussalam</td><td>Financial Flamingo | Money Management + Blogging + Productivity</td><td>2000</td></tr><tr><td>Austria</td><td>The Pinterested Parent</td><td>60000</td></tr><tr><td>Monaco</td><td>Tanya Yero Teaching</td><td>8000</td></tr><tr><td>Andorra</td><td>Little Yellow Wheelbarrow</td><td>41000</td></tr><tr><td>Anguilla</td><td>Carly Keller | Wedding DIYs</td><td>9000</td></tr><tr><td>United States Virgin Islands</td><td>Ugly Duckling House | DIY, Home, Woodworking, Crafts & Recipes</td><td>null</td></tr><tr><td>Ecuador</td><td>The Mandagies (Pacific Northwest Travel + Photo)</td><td>32000</td></tr><tr><td>Albania</td><td>Mathilda Marrow</td><td>6000</td></tr><tr><td>Dominican Republic</td><td>Mrs. P's Specialties- Educational Resources</td><td>20000</td></tr><tr><td>Austria</td><td>Joli Joli Design</td><td>19000</td></tr><tr><td>Guinea-Bissau</td><td>Livitrevisani</td><td>0</td></tr><tr><td>Botswana</td><td>Lipgloss & Crayons / Parenting Tips, Mommy and Me Style, Casual Outfit Posts, and Toddler Life</td><td>34000</td></tr><tr><td>Bosnia and Herzegovina</td><td>My Diamond Paintings</td><td>3000</td></tr><tr><td>Lesotho</td><td>Mary Bentz Gilkerson: Artist+Teacher</td><td>34000</td></tr><tr><td>Belize</td><td>Confetti Saturday</td><td>1000</td></tr><tr><td>Christmas Island</td><td>eHow</td><td>null</td></tr><tr><td>Central African Republic</td><td>Maria Braga</td><td>40000</td></tr><tr><td>Austria</td><td>Master The Event</td><td>3000</td></tr><tr><td>Lesotho</td><td>The Guardian</td><td>908000</td></tr><tr><td>Niger</td><td>The Edvocate</td><td>4000</td></tr><tr><td>Congo</td><td>Virginia | Fynes Designs : Home Decor, Easy DIY’s, Lifestyle</td><td>410000</td></tr><tr><td>Cocos (Keeling) Islands</td><td>Rachelle DeBoue</td><td>19</td></tr><tr><td>Marshall Islands</td><td>The Wanderful Me • Vegan Travel & Sustainable Living</td><td>5000</td></tr><tr><td>Chad</td><td>Personal Finance for Beginners</td><td>3000</td></tr><tr><td>Sweden</td><td>I. Sánchez</td><td>214</td></tr><tr><td>Georgia</td><td>Robynwitbooi</td><td>0</td></tr><tr><td>Mozambique</td><td>Ramon‘s Weekly</td><td>63</td></tr><tr><td>Mozambique</td><td>Ovetta Jackson</td><td>6000</td></tr><tr><td>Sudan</td><td>Havvanur</td><td>6</td></tr><tr><td>Bolivia</td><td>Karen Red</td><td>213</td></tr><tr><td>Djibouti</td><td>Neocromanyon</td><td>25</td></tr><tr><td>Lithuania</td><td>Kyra</td><td>34</td></tr><tr><td>Sao Tome and Principe</td><td>kayyla.april</td><td>2000</td></tr><tr><td>Tonga</td><td>Grecia Perales</td><td>0</td></tr><tr><td>Australia</td><td>SAHYA</td><td>6000</td></tr><tr><td>Albania</td><td>User Info Error</td><td>null</td></tr><tr><td>Algeria</td><td>Jenn Beth</td><td>3000</td></tr><tr><td>Burkina Faso</td><td>Behance</td><td>null</td></tr><tr><td>Saint Pierre and Miquelon</td><td>Josie Moya</td><td>237</td></tr><tr><td>Tuvalu</td><td>Addymae Rodi</td><td>41</td></tr><tr><td>Slovakia (Slovak Republic)</td><td>Katie Prukop</td><td>213</td></tr><tr><td>Cocos (Keeling) Islands</td><td>Ray Uyemura</td><td>437</td></tr><tr><td>Greece</td><td>Terry Bain</td><td>578</td></tr><tr><td>Aruba</td><td>Tim Adam - Car Enthusiast</td><td>49000</td></tr><tr><td>Armenia</td><td>Jiew82633</td><td>8000</td></tr><tr><td>Andorra</td><td>zuby</td><td>1000</td></tr><tr><td>Paraguay</td><td>Michal McCamman</td><td>392</td></tr><tr><td>Guinea</td><td>Cars Zone</td><td>134000</td></tr><tr><td>Oman</td><td>Kennedy Taylor</td><td>777</td></tr><tr><td>Mexico</td><td>Chris Hansen</td><td>492</td></tr><tr><td>New Caledonia</td><td>Sol</td><td>0</td></tr><tr><td>Saint Barthelemy</td><td>Peter Dikhazi</td><td>18</td></tr><tr><td>Andorra</td><td>Glaminati</td><td>799000</td></tr><tr><td>Armenia</td><td>The Arty Teacher</td><td>25000</td></tr><tr><td>Finland</td><td>Maggie Panning</td><td>1000</td></tr><tr><td>Bosnia and Herzegovina</td><td>Jackie | I Heart Arts N Crafts</td><td>89000</td></tr><tr><td>Kenya</td><td>Laura- Inspire My Play | Play & Learning For Little Kids</td><td>4000</td></tr><tr><td>China</td><td>Empowered Sustenance</td><td>127000</td></tr><tr><td>Congo</td><td>Shawn Petite</td><td>27000</td></tr><tr><td>Argentina</td><td>Dagmar Bleasdale {Dagmar's Home}</td><td>105000</td></tr><tr><td>Marshall Islands</td><td>Dashing Darlin' </td><td>13000</td></tr><tr><td>Egypt</td><td>Plex Oasis</td><td>25</td></tr><tr><td>Namibia</td><td>Snappy Gourmet</td><td>168000</td></tr><tr><td>Iran</td><td>Stylu</td><td>28</td></tr><tr><td>Angola</td><td>Joel Dropships | Branded Dropshipping For Beginners 2022</td><td>6000</td></tr><tr><td>Dominica</td><td>Happy Catering n Events</td><td>458</td></tr><tr><td>United States Virgin Islands</td><td>Renee Slansky  Dating + Relationship Coach -The Dating Directory </td><td>12000</td></tr><tr><td>Canada</td><td>CARA NEWHART [never skip brunch]</td><td>26000</td></tr><tr><td>Azerbaijan</td><td>Amaze Style</td><td>2000</td></tr><tr><td>Vietnam</td><td>Leanne | Midlife Blogger at www.crestingthehill.com.au</td><td>15000</td></tr><tr><td>Israel</td><td>LISA MASLYK / VOICE OVER TALENT /ACTOR</td><td>3000</td></tr><tr><td>Andorra</td><td>Archzine.net</td><td>353000</td></tr><tr><td>South Africa</td><td>Sophie Watters</td><td>3000</td></tr><tr><td>Algeria</td><td>ELLE Germany</td><td>326000</td></tr><tr><td>Cape Verde</td><td>Jooosy</td><td>77</td></tr><tr><td>Cyprus</td><td>Beach Girlz Glliter and Treasures Inc.</td><td>6</td></tr><tr><td>Macao</td><td>Taylor Kortze</td><td>583</td></tr><tr><td>Faroe Islands</td><td> Travel Pins Design Ideas</td><td>6000</td></tr><tr><td>Antarctica (the territory South of 60 deg S)</td><td>Her Way</td><td>48000</td></tr><tr><td>Denmark</td><td>FINITIES</td><td>177</td></tr><tr><td>Christmas Island</td><td>WranglerForum.com</td><td>11000</td></tr><tr><td>Barbados</td><td>The Creativity Exchange</td><td>410000</td></tr><tr><td>Maldives</td><td>Andrea Groneman</td><td>6000</td></tr><tr><td>Djibouti</td><td>Instrupix | Lilly Childers</td><td>275000</td></tr><tr><td>Anguilla</td><td>Thank Your Body</td><td>85000</td></tr><tr><td>Fiji</td><td>Menstiel</td><td>2</td></tr><tr><td>Kenya</td><td>Outfit Ideas HQ</td><td>20000</td></tr><tr><td>Maldives</td><td>Satsuma Designs | Make + Sew + Teach</td><td>18000</td></tr><tr><td>Central African Republic</td><td>PureWow</td><td>868000</td></tr><tr><td>Colombia</td><td>Jordan Page | Fun Cheap or Free</td><td>152000</td></tr><tr><td>Qatar</td><td>Viviane Aires Skin Wellness</td><td>202</td></tr><tr><td>Austria</td><td>Crediful</td><td>27000</td></tr><tr><td>Niger</td><td>The Habit Flow | Social Media Design | Templates | Abstract Art</td><td>135</td></tr><tr><td>British Virgin Islands</td><td>Dream Dash Journal</td><td>19000</td></tr><tr><td>Ghana</td><td>Grindhouse Releasing web store</td><td>53</td></tr><tr><td>Bouvet Island (Bouvetoya)</td><td>Abbie Decoration</td><td>34000</td></tr><tr><td>Montserrat</td><td>Luminous Learning</td><td>6000</td></tr><tr><td>Hong Kong</td><td>Intentionally Designed</td><td>13000</td></tr><tr><td>French Guiana</td><td>Stephanie - Somewhat Simple</td><td>214000</td></tr><tr><td>Comoros</td><td>Becky Mansfield - YourModernFamily </td><td>196000</td></tr><tr><td>Tanzania</td><td>mj</td><td>26</td></tr><tr><td>Canada</td><td>Giorgenti New York</td><td>258000</td></tr><tr><td>Bangladesh</td><td>Jess Suk</td><td>31</td></tr><tr><td>Iceland</td><td>Atuflower</td><td>5000</td></tr><tr><td>Papua New Guinea</td><td>AnnaLee Kick</td><td>112</td></tr><tr><td>Qatar</td><td>NerdWallet</td><td>4000</td></tr><tr><td>Benin</td><td>Smart Cents Mom</td><td>49000</td></tr><tr><td>Aruba</td><td>Linda On The Run</td><td>9000</td></tr><tr><td>Finland</td><td>Beauty Review Blog </td><td>168</td></tr><tr><td>Cocos (Keeling) Islands</td><td>The World Was Here First</td><td>5000</td></tr><tr><td>Seychelles</td><td>ALL FOR WOMAN</td><td>21000</td></tr><tr><td>Niue</td><td>Michelle | Brown Eyed Baker</td><td>271000</td></tr><tr><td>Colombia</td><td>Shop MCA Denver</td><td>7</td></tr><tr><td>Romania</td><td>Soberbadassery | Your Free Online Guide To Sober Living </td><td>9000</td></tr><tr><td>Bolivia</td><td>Curated Interior</td><td>67000</td></tr><tr><td>France</td><td>Hey Pretty Beauty Blog</td><td>7000</td></tr><tr><td>Tunisia</td><td>Travel with Munia</td><td>2000</td></tr><tr><td>Namibia</td><td>Inloversva</td><td>18000</td></tr><tr><td>Cote d'Ivoire</td><td>The Crafting Chicks</td><td>192000</td></tr><tr><td>Burkina Faso</td><td>Sunsets N Style | Lifestyle Blogger</td><td>1000</td></tr><tr><td>Saint Kitts and Nevis</td><td>vintagetopia</td><td>171000</td></tr><tr><td>Svalbard & Jan Mayen Islands</td><td>CK Travels (Travel Bloggers)</td><td>5000</td></tr><tr><td>Palestinian Territory</td><td>Lourence</td><td>65</td></tr><tr><td>Mongolia</td><td>ZAFUL</td><td>893000</td></tr><tr><td>Ethiopia</td><td>LONGANCE</td><td>5000</td></tr><tr><td>Jamaica</td><td>Amy Dunlap</td><td>178</td></tr><tr><td>Iran</td><td>Mandy Yancer</td><td>150</td></tr><tr><td>Azerbaijan</td><td>Taste of Home</td><td>null</td></tr><tr><td>Macao</td><td>Dusty Dingo</td><td>221</td></tr><tr><td>Fiji</td><td>Szikszai Szabolcs</td><td>2000</td></tr><tr><td>South Georgia and the South Sandwich Islands</td><td>Classic Nation</td><td>75000</td></tr><tr><td>Egypt</td><td>Uncrate</td><td>117000</td></tr><tr><td>Antigua and Barbuda</td><td>rhonda_floyd</td><td>3000</td></tr><tr><td>Armenia</td><td>Of Life & Lisa | Lifestyle Blog</td><td>124000</td></tr><tr><td>Central African Republic</td><td>G&S JEWELLERS</td><td>28</td></tr><tr><td>Isle of Man</td><td>Annamarie Hilton</td><td>313</td></tr><tr><td>Palestinian Territory</td><td>Mike Case</td><td>494</td></tr><tr><td>Bulgaria</td><td>Half Baked Harvest</td><td>912000</td></tr><tr><td>Mexico</td><td>Trendy Socialite</td><td>8000</td></tr><tr><td>Wallis and Futuna</td><td>Organize Ways</td><td>2000</td></tr><tr><td>Moldova</td><td>A Blossoming Life DIY Projects + Recipes +     Natural Living</td><td>44000</td></tr><tr><td>Burundi</td><td>The Classroom Key</td><td>58000</td></tr><tr><td>Rwanda</td><td>Traveling Chic</td><td>6000</td></tr><tr><td>Guyana</td><td>Flannel And Whiskey</td><td>8</td></tr><tr><td>British Indian Ocean Territory (Chagos Archipelago)</td><td>Budgets Are Sexy | Save Money + Grow Your Net Worth</td><td>11000</td></tr><tr><td>Brazil</td><td>Budget with Rachel</td><td>11000</td></tr><tr><td>Samoa</td><td>Coley Kuyper Art</td><td>3000</td></tr><tr><td>Aruba</td><td>Classic Driver</td><td>27000</td></tr><tr><td>Guatemala</td><td>Menucha - Moms and Crafters</td><td>85000</td></tr><tr><td>Aruba</td><td>One Kindesign</td><td>657000</td></tr><tr><td>Mayotte</td><td>Home with Holliday</td><td>31000</td></tr><tr><td>Korea</td><td>Latest Hairstyles</td><td>627000</td></tr><tr><td>Bangladesh</td><td>Architectural Digest</td><td>null</td></tr><tr><td>Burundi</td><td>Macho Moda</td><td>620000</td></tr><tr><td>Gibraltar</td><td>Learn Play Read</td><td>2000</td></tr><tr><td>Netherlands Antilles</td><td>Sweet T Makes Three</td><td>61000</td></tr><tr><td>United States of America</td><td>Kelly Collins</td><td>406</td></tr><tr><td>Saint Vincent and the Grenadines</td><td>CabreraE</td><td>121</td></tr><tr><td>Dominican Republic</td><td>Wonder Forest</td><td>104000</td></tr><tr><td>India</td><td>SAShE.sk</td><td>92000</td></tr><tr><td>Canada</td><td>Twelve On Main</td><td>142000</td></tr><tr><td>Cameroon</td><td>The Blonde Abroad</td><td>123000</td></tr><tr><td>Armenia</td><td>Pacho Tattoo</td><td>9000</td></tr><tr><td>Belarus</td><td>Something Turquoise</td><td>312000</td></tr><tr><td>Ireland</td><td>Haley</td><td>2</td></tr><tr><td>Solomon Islands</td><td>Upcyclist</td><td>7000</td></tr><tr><td>Guatemala</td><td>GrowingSlower</td><td>30000</td></tr><tr><td>Bolivia</td><td>She Gave It A Go| Faith Family Farmhouse</td><td>68000</td></tr><tr><td>Bermuda</td><td>Rocky Hedge Farm - Simple Life | Simple Home</td><td>30000</td></tr><tr><td>Armenia</td><td>No Hurry To Get Home</td><td>9000</td></tr><tr><td>Cayman Islands</td><td>Our Escape Clause l Travel in Europe & Beyond</td><td>15000</td></tr><tr><td>Belarus</td><td>Live Love Run Travel | Travel Blogger</td><td>7000</td></tr><tr><td>Botswana</td><td>OkChicas</td><td>null</td></tr><tr><td>Monaco</td><td>Artists Network</td><td>227000</td></tr><tr><td>Barbados</td><td>Nicki </td><td>28000</td></tr><tr><td>Afghanistan</td><td>Miss PlanIt</td><td>30000</td></tr><tr><td>Dominica</td><td>The Honeycomb Home</td><td>48000</td></tr><tr><td>Botswana</td><td>GloryInvestingShow</td><td>98000</td></tr><tr><td>Mali</td><td>Mobile Home Living®</td><td>122000</td></tr><tr><td>Papua New Guinea</td><td>William Nowell</td><td>5000</td></tr><tr><td>Antarctica (the territory South of 60 deg S)</td><td>Part-Time Money®</td><td>22000</td></tr><tr><td>Andorra</td><td>Southern, Sweet & Sassy Coffee</td><td>3</td></tr><tr><td>British Virgin Islands</td><td>Visit USA Parks | Travel Blog & Inspiration</td><td>4000</td></tr><tr><td>Niue</td><td>Gift Ideas for Writers</td><td>538</td></tr><tr><td>French Guiana</td><td>Commitment Connection</td><td>51000</td></tr><tr><td>Cuba</td><td>MENSSKULL</td><td>5000</td></tr><tr><td>Austria</td><td>The World Pursuit Travel Website</td><td>89000</td></tr><tr><td>Andorra</td><td>Southern Savers - Jenny</td><td>32000</td></tr><tr><td>Monaco</td><td>Creative Boom</td><td>29000</td></tr><tr><td>France</td><td>Hello Lovely</td><td>115000</td></tr><tr><td>Guatemala</td><td>Elle</td><td>542</td></tr><tr><td>Barbados</td><td>GADGETOVIA</td><td>1000</td></tr><tr><td>Panama</td><td>Furyan</td><td>0</td></tr><tr><td>Ecuador</td><td>LABONNI</td><td>84000</td></tr><tr><td>Greenland</td><td>Haiti Babi | Artisan Baby Blankets and Hats</td><td>270</td></tr><tr><td>Trinidad and Tobago</td><td>Syndi Mulcahy</td><td>254</td></tr><tr><td>Bhutan</td><td>Stephanie Hoey Interiors</td><td>1000</td></tr><tr><td>Costa Rica</td><td>Martha Stewart Living</td><td>null</td></tr><tr><td>Japan</td><td>Eyes On Walls</td><td>17000</td></tr><tr><td>French Polynesia</td><td>Alexandra Polunin</td><td>16000</td></tr><tr><td>Jamaica</td><td>Financial Toolkit</td><td>19000</td></tr><tr><td>Afghanistan</td><td>craftberry bush</td><td>47000</td></tr><tr><td>Azerbaijan</td><td>Nourish Move Love | Home Workouts</td><td>292000</td></tr><tr><td>Bangladesh</td><td>Natalie Bacon | NatalieBacon.com</td><td>66000</td></tr><tr><td>Bahrain</td><td>R.J. Weiss at The Ways To Wealth | Personal Finance | Debt Payoff</td><td>46000</td></tr><tr><td>Macao</td><td>Vanessa Ferran</td><td>3000</td></tr><tr><td>Bermuda</td><td>Spiretime</td><td>14000</td></tr><tr><td>United States of America</td><td>Evolution of Style</td><td>47000</td></tr><tr><td>Saint Martin</td><td>Montgo Farmhouse</td><td>9000</td></tr><tr><td>Kuwait</td><td>JDaniel4's Mom</td><td>63000</td></tr><tr><td>Estonia</td><td>Net-Maquettes</td><td>4000</td></tr><tr><td>Algeria</td><td>estiven hanagaki</td><td>0</td></tr><tr><td>Aruba</td><td>Cola42986</td><td>6000</td></tr><tr><td>Peru</td><td>Clar</td><td>21</td></tr><tr><td>Somalia</td><td>Balloons_worldwides</td><td>118000</td></tr><tr><td>Lithuania</td><td>Kiara</td><td>0</td></tr><tr><td>Azerbaijan</td><td>My Debt Epiphany | Money Making Tips | Frugal Living | Debt Free</td><td>4000</td></tr><tr><td>Venezuela</td><td>Alex Mims</td><td>7000</td></tr><tr><td>Antarctica (the territory South of 60 deg S)</td><td>DOZENLIVE</td><td>1000</td></tr><tr><td>Isle of Man</td><td>Jasminxg</td><td>29000</td></tr><tr><td>El Salvador</td><td>Power of Positivity</td><td>221000</td></tr><tr><td>Cuba</td><td>Listotic - Easy Ideas | Fun DIY Projects | Easy Recipes | Lists</td><td>307000</td></tr><tr><td>Antigua and Barbuda</td><td>Country Living Magazine</td><td>null</td></tr><tr><td>Bosnia and Herzegovina</td><td>She Holds Dearly</td><td>30000</td></tr><tr><td>Bahrain</td><td>Boss in Pyjamas</td><td>2000</td></tr><tr><td>Liechtenstein</td><td>SportsMarket</td><td>881</td></tr><tr><td>Afghanistan</td><td>Glamhues</td><td>14000</td></tr><tr><td>Saint Pierre and Miquelon</td><td>Ebbert Barnes</td><td>323</td></tr><tr><td>Congo</td><td>Find Us Lost | A Travel Blog</td><td>33000</td></tr><tr><td>Namibia</td><td>Alex J. D. Sarver</td><td>19</td></tr><tr><td>Belize</td><td>Tiffany Bissell</td><td>240</td></tr><tr><td>Argentina</td><td>Cheezburger</td><td>null</td></tr><tr><td>Grenada</td><td>The Mighty</td><td>185000</td></tr><tr><td>Algeria</td><td>Fun Life Crisis</td><td>130000</td></tr><tr><td>Bouvet Island (Bouvetoya)</td><td>Rose</td><td>6000</td></tr><tr><td>Cote d'Ivoire</td><td>GenTwenty | Personal Growth, Self-Care, and Money</td><td>57000</td></tr><tr><td>Greece</td><td>Malaquias Arroyo</td><td>206</td></tr><tr><td>Egypt</td><td>Lists For All</td><td>11000</td></tr><tr><td>Nicaragua</td><td>Land Rover USA</td><td>9000</td></tr><tr><td>Saint Helena</td><td>The Pamper Place</td><td>328</td></tr><tr><td>Austria</td><td>Diply</td><td>251000</td></tr><tr><td>Philippines</td><td>ForYou</td><td>2000</td></tr><tr><td>Mauritius</td><td>Cool Things- Drawing Ideas , Fashion ,Beautiy and Home Decor</td><td>46000</td></tr><tr><td>Lao People's Democratic Republic</td><td>Cora Graaff</td><td>849</td></tr><tr><td>Maldives</td><td>Thrive Causemetics</td><td>43000</td></tr><tr><td>Anguilla</td><td>Shaka Kai</td><td>7</td></tr><tr><td>Angola</td><td>The Everygirl</td><td>496000</td></tr><tr><td>Congo</td><td>He and She Eat Clean</td><td>88000</td></tr><tr><td>Afghanistan</td><td>9GAG</td><td>null</td></tr><tr><td>Niue</td><td>Satya Jewelry</td><td>8000</td></tr><tr><td>Macedonia</td><td>Mary</td><td>7000</td></tr><tr><td>Nicaragua</td><td>Brenda Gonzalez</td><td>521</td></tr><tr><td>Austria</td><td>Karibikfruechtchen</td><td>19000</td></tr><tr><td>Liechtenstein</td><td>The Era NYC</td><td>23</td></tr><tr><td>Lesotho</td><td>Function of Beauty</td><td>8000</td></tr><tr><td>Bahamas</td><td>Andrew Martin</td><td>5000</td></tr><tr><td>Lesotho</td><td>Joyce Marcou</td><td>6000</td></tr><tr><td>Aruba</td><td>Primer</td><td>59000</td></tr><tr><td>Bouvet Island (Bouvetoya)</td><td>Follow Me Away</td><td>47000</td></tr><tr><td>Haiti</td><td>Pamela Bell English</td><td>5000</td></tr><tr><td>Norfolk Island</td><td>TailoredRock</td><td>23</td></tr><tr><td>Madagascar</td><td>MomAdvice</td><td>112000</td></tr><tr><td>Nicaragua</td><td>Emily Foreman</td><td>1000</td></tr><tr><td>Pitcairn Islands</td><td>Marla Meridith</td><td>671000</td></tr><tr><td>Jamaica</td><td>hobbyDB</td><td>8000</td></tr><tr><td>New Caledonia</td><td>Au'vey Smith</td><td>377</td></tr><tr><td>Armenia</td><td>ManTripping</td><td>22000</td></tr><tr><td>Cameroon</td><td>Homemade For Elle</td><td>61000</td></tr><tr><td>Holy See (Vatican City State)</td><td>Mich Cam</td><td>831</td></tr><tr><td>Kiribati</td><td>𝒍𝒖𝒄𝒉𝒊𝒊 ♡︎ </td><td>8</td></tr><tr><td>Somalia</td><td>Glotraveler</td><td>217</td></tr></tbody></table></div>"
      ]
     },
     "metadata": {
      "application/vnd.databricks.v1+output": {
       "addedWidgets": {},
       "aggData": [],
       "aggError": "",
       "aggOverflow": false,
       "aggSchema": [],
       "aggSeriesLimitReached": false,
       "aggType": "",
       "arguments": {},
       "columnCustomDisplayInfos": {},
       "data": [
        [
         "Hungary",
         "Pandora",
         848
        ],
        [
         "Central African Republic",
         "Louy Magroos",
         426
        ],
        [
         "Bahrain",
         "Decor Home Ideas",
         144000
        ],
        [
         "Uganda",
         "Lauren McBride",
         84000
        ],
        [
         "Bouvet Island (Bouvetoya)",
         "SelfMadeLadies | Law of Attraction, Manifestation & Money Mindset",
         34000
        ],
        [
         "Burkina Faso",
         "Dare to Cultivate",
         7000
        ],
        [
         "Bouvet Island (Bouvetoya)",
         "I Heart Crafty Things",
         276000
        ],
        [
         "Afghanistan",
         "Walmart",
         null
        ],
        [
         "Latvia",
         "STRAIGHT OUT OF THE PLAYGROUND",
         1000
        ],
        [
         "Albania",
         "The Budget Mom | Budget Tips, Save Money, Get out of Debt & More!",
         97000
        ],
        [
         "Dominican Republic",
         "Petite in Paris",
         3000
        ],
        [
         "Montserrat",
         "Taming Little Monsters - Fun Activities for Kids",
         4000
        ],
        [
         "Mauritania",
         "The Literacy Nest",
         22000
        ],
        [
         "Kenya",
         "FOURLINE DESIGN | Home Decor & Accessories",
         26000
        ],
        [
         "Hong Kong",
         "Miranda Schroeder // Thoughtfully Thrifted",
         14000
        ],
        [
         "Argentina",
         "The Practical Saver | Save Money",
         60000
        ],
        [
         "Kuwait",
         "Green Wedding Shoes",
         null
        ],
        [
         "Guinea",
         "Woodchuck's Fine Furniture and Decor",
         320
        ],
        [
         "United States of America",
         "Alicia Greenwood",
         0
        ],
        [
         "Liberia",
         "Happy Hooligans - Crafts and Activities for Kids",
         550000
        ],
        [
         "Andorra",
         "The Best Ideas for Kids",
         903000
        ],
        [
         "Philippines",
         "Life of Neon | Custom Neon Light Signs | Home Decor Wall Art",
         111
        ],
        [
         "Saint Martin",
         "Just Jamila",
         188
        ],
        [
         "France",
         "Sunshine Whispers",
         14000
        ],
        [
         "Guadeloupe",
         "Jess Abbott | The Sewing Rabbit",
         123000
        ],
        [
         "Australia",
         "Kristine Nannini",
         34000
        ],
        [
         "Sweden",
         "My Bored Toddler",
         58000
        ],
        [
         "Brunei Darussalam",
         "The Autism Vault",
         5000
        ],
        [
         "Equatorial Guinea",
         "MarQuai Romari",
         31
        ],
        [
         "Turkmenistan",
         "Dionne ❤️ Home & Life Organized",
         7000
        ],
        [
         "Armenia",
         "123 Homeschool 4 Me",
         176000
        ],
        [
         "Saudi Arabia",
         "Edwin | Cash The Checks | Find Your Perfect Side Hustle",
         223
        ],
        [
         "Afghanistan",
         "Love Lives On",
         28000
        ],
        [
         "French Polynesia",
         "The Printable Princess",
         52000
        ],
        [
         "American Samoa",
         "Thriving Home",
         56000
        ],
        [
         "British Virgin Islands",
         "Kitchen Fun With My 3 Sons",
         245000
        ],
        [
         "Argentina",
         "Boop Decals",
         7000
        ],
        [
         "Bolivia",
         "Kimberly West (a girl and a glue gun)",
         243000
        ],
        [
         "Bangladesh",
         "Suburban Men",
         383000
        ],
        [
         "Fiji",
         "Teach Create Motivate",
         41000
        ],
        [
         "Luxembourg",
         "Linda Kamp-Around The Kampfire",
         35000
        ],
        [
         "Azerbaijan",
         "SOCIETY19",
         null
        ],
        [
         "Heard Island and McDonald Islands",
         "Real Men Real Style",
         487000
        ],
        [
         "Congo",
         "Blogging For Beginners|Money Making Tips| Passive Income",
         4000
        ],
        [
         "Chad",
         "Glued To My Crafts",
         226000
        ],
        [
         "Andorra",
         "Teachers Pay Teachers",
         null
        ],
        [
         "American Samoa",
         "Homesthetics.net",
         556000
        ],
        [
         "Antarctica (the territory South of 60 deg S)",
         "This Mama Blogs -Work at Home Jobs |  Frugal Living | Make Money",
         46000
        ],
        [
         "Estonia",
         "Decorator's Warehouse",
         6000
        ],
        [
         "French Southern Territories",
         "Mary at Home is Where the Boat Is",
         59000
        ],
        [
         "Sao Tome and Principe",
         "Bookmarks Retail",
         793
        ],
        [
         "Aruba",
         "Jasmine | Feeling Nifty | Acrylic Painting Tutorials, Ideas &More",
         48000
        ],
        [
         "American Samoa",
         "TheFab20s | Travel+Food+DIY+Listicles",
         42000
        ],
        [
         "Croatia",
         "Art & Home",
         35000
        ],
        [
         "Angola",
         "CraftGossip.com",
         502000
        ],
        [
         "French Guiana",
         "Sweet Red Poppy Free Sewing Patterns, Cut Files & Craft Tutorials",
         241000
        ],
        [
         "Azerbaijan",
         "Saving Money with Frugality Magazine",
         31000
        ],
        [
         "Australia",
         "Inspirethemom",
         19000
        ],
        [
         "United States Virgin Islands",
         "Amanda Harris",
         240
        ],
        [
         "Bahrain",
         "RD's Obsessions",
         22000
        ],
        [
         "Algeria",
         "YourTango",
         942000
        ],
        [
         "Cuba",
         "Radana",
         13
        ],
        [
         "Bangladesh",
         "madaboutthehouse",
         242000
        ],
        [
         "Switzerland",
         "Kelley Rosney",
         45
        ],
        [
         "Guinea-Bissau",
         "IngridZenMoments",
         4000
        ],
        [
         "Austria",
         "EventMB",
         9000
        ],
        [
         "Aruba",
         "The Work at Home Woman",
         110000
        ],
        [
         "Turkey",
         "My Little Poppies (Cait Curley, MA/CAGS)",
         9000
        ],
        [
         "Belarus",
         "Salt in our Hair",
         29000
        ],
        [
         "American Samoa",
         "K&S Precision Metals",
         5
        ],
        [
         "Armenia",
         "ArchitectureArtDesigns",
         616000
        ],
        [
         "Afghanistan",
         "Fiverr",
         565000
        ],
        [
         "Cuba",
         "Decluttering Your Life",
         102000
        ],
        [
         "Algeria",
         "SheKnows",
         787000
        ],
        [
         "American Samoa",
         "aufeminin",
         494000
        ],
        [
         "Singapore",
         "Brooke Kissler",
         179
        ],
        [
         "Bahamas",
         "Erin Lee",
         22
        ],
        [
         "Iran",
         "Yourwillbearwitness",
         33000
        ],
        [
         "Armenia",
         "Craft-Mart",
         132000
        ],
        [
         "Belize",
         "OG Watches USA",
         38
        ],
        [
         "Bulgaria",
         "Giggles Galore",
         32000
        ],
        [
         "Angola",
         "faz",
         139
        ],
        [
         "Nauru",
         "Austen Tosone | NYC Blogger | Fashion + Beauty",
         23000
        ],
        [
         "Monaco",
         "Hum3D | Car 3D models",
         48000
        ],
        [
         "Algeria",
         "Iva A. Ursano Amazing Me Movement",
         228000
        ],
        [
         "Andorra",
         "Leah Newton Art",
         4000
        ],
        [
         "Gabon",
         "Expatolife",
         7000
        ],
        [
         "Seychelles",
         "Awesthetics by Amy Wong",
         18
        ],
        [
         "Venezuela",
         "Penny",
         28
        ],
        [
         "Bahamas",
         "Kippi at Home",
         73000
        ],
        [
         "Bahrain",
         "Alea Milham | Premeditated Leftovers",
         332000
        ],
        [
         "Ethiopia",
         "Sarah Wahl | Crestfox",
         17000
        ],
        [
         "Lebanon",
         "Your Positive Oasis | Motivation| Inspiration| Wellness",
         163000
        ],
        [
         "El Salvador",
         "Chloe Crabtree | Celebrate & Decorate",
         42000
        ],
        [
         "Australia",
         "LLEGANCE | Workwear Fashion Woman Advice For Driven Professionals",
         28000
        ],
        [
         "Andorra",
         "Our Mindful Life",
         190000
        ],
        [
         "New Zealand",
         "ZENIDEES",
         19000
        ],
        [
         "El Salvador",
         "Jessica Autumn Planners | Free Printables + Digital Planners",
         54000
        ],
        [
         "Albania",
         "Bored Panda",
         null
        ],
        [
         "Afghanistan",
         "DIY Joy - Crafts, Home Improvement, Decor & Recipes",
         985000
        ],
        [
         "Panama",
         "Abina♡",
         43
        ],
        [
         "Solomon Islands",
         "MORGAN.M",
         33
        ],
        [
         "Botswana",
         "My Baba",
         12000
        ],
        [
         "Aruba",
         "Traci Bender - The Bender Bunch",
         11000
        ],
        [
         "Kyrgyz Republic",
         "Chan Tommy",
         778
        ],
        [
         "Faroe Islands",
         "Veterans United Home Loans",
         11000
        ],
        [
         "Montserrat",
         "Liesl",
         1
        ],
        [
         "Nigeria",
         "Olexandr Starchuk",
         36
        ],
        [
         "Grenada",
         "p hump",
         314
        ],
        [
         "Czech Republic",
         "Todd | Financial Mentor",
         7000
        ],
        [
         "Croatia",
         "Jessi Fearon | Debt-Free Living",
         57000
        ],
        [
         "Comoros",
         "Simple Lionheart Life",
         31000
        ],
        [
         "Austria",
         "RACHEL JOY  |  DIY + HOME",
         37000
        ],
        [
         "Argentina",
         "Next Luxury",
         800000
        ],
        [
         "Albania",
         "Hairs Out of Place",
         44000
        ],
        [
         "Saint Vincent and the Grenadines",
         "Home Etc",
         13
        ],
        [
         "Indonesia",
         "Latoya | Life and a Budget",
         24000
        ],
        [
         "Latvia",
         "Royal Fashionist",
         188000
        ],
        [
         "Algeria",
         "Boss Babe Chronicles | Personal Development, Finances, Self Care",
         45000
        ],
        [
         "Netherlands Antilles",
         "Kim Cook-Thirteen Chairs-Slates Mugs And Tees",
         7000
        ],
        [
         "Algeria",
         "Shaunna @ Fantastic Fun and Learning",
         128000
        ],
        [
         "Andorra",
         "Isaac Yates",
         1
        ],
        [
         "American Samoa",
         "Mamas Uncut",
         null
        ],
        [
         "Aruba",
         "Jacqueline MB Designs",
         159
        ],
        [
         "Singapore",
         "CHRISTIAN CHÊNE",
         3000
        ],
        [
         "British Indian Ocean Territory (Chagos Archipelago)",
         "Design Rulz",
         248000
        ],
        [
         "Christmas Island",
         "Avenly Lane Travel blog | Travel Inspiration | Beautiful Places",
         91000
        ],
        [
         "Bulgaria",
         "Cool Material",
         36000
        ],
        [
         "Maldives",
         "Kat Sullivan | Marketing Solved | Entrepreneur",
         77000
        ],
        [
         "Poland",
         "BEIMER",
         265
        ],
        [
         "Belgium",
         "Twins Dish",
         67000
        ],
        [
         "Armenia",
         "Witching Hour Baby",
         262
        ],
        [
         "American Samoa",
         "It's Always Autumn",
         498000
        ],
        [
         "Australia",
         "Mujer de 10 ",
         null
        ],
        [
         "Slovenia",
         "Vsnicholls",
         746
        ],
        [
         "Tokelau",
         "Budget Savvy Diva",
         384000
        ],
        [
         "Antigua and Barbuda",
         "Elements of the Art Room",
         13000
        ],
        [
         "Croatia",
         "Live Like You Are Rich | Finances, Pregnancy, Recipes & More",
         134000
        ],
        [
         "Cocos (Keeling) Islands",
         "How Does She",
         709000
        ],
        [
         "Albania",
         "MojisStyle",
         117000
        ],
        [
         "Cambodia",
         "Mixed Media Crafts",
         6000
        ],
        [
         "Svalbard & Jan Mayen Islands",
         "Merissa (Little House Living) | Simple Living + Frugal Living",
         152000
        ],
        [
         "Aruba",
         "Gathering Dreams | Do What You Love",
         71000
        ],
        [
         "Anguilla",
         "Amazingy",
         2000
        ],
        [
         "Egypt",
         "Autumn Shepardson",
         2000
        ],
        [
         "Colombia",
         "Consuelo Aguirre",
         0
        ],
        [
         "Bulgaria",
         "The Techie Teacher",
         59000
        ],
        [
         "Saint Barthelemy",
         "Alexandria Franko",
         517
        ],
        [
         "Romania",
         "Kay𖨆",
         301
        ],
        [
         "Somalia",
         "PutTheKettleOn | Self Care & Personal Growth For a Life You Love",
         27000
        ],
        [
         "Togo",
         "debra",
         4000
        ],
        [
         "Finland",
         "Mccready-romero",
         20
        ],
        [
         "Bangladesh",
         "The Christmas Ranch",
         184
        ],
        [
         "Finland",
         "Amee",
         79000
        ],
        [
         "Antarctica (the territory South of 60 deg S)",
         "HikenDip",
         501000
        ],
        [
         "Afghanistan",
         "It's me, JD | DIY, Crafts, Home & Organization",
         27000
        ],
        [
         "Maldives",
         "Passion For Savings",
         330000
        ],
        [
         "Fiji",
         "Vita Talie - Fashion Brand",
         101
        ],
        [
         "Cote d'Ivoire",
         "Sabi",
         15
        ],
        [
         "Bhutan",
         "Centered in Primary | Centers for the Elementary Classroom",
         323
        ],
        [
         "Liechtenstein",
         "Sophie's Way",
         10000
        ],
        [
         "Libyan Arab Jamahiriya",
         "miss coco",
         157000
        ],
        [
         "Australia",
         "Jess Wandering",
         22000
        ],
        [
         "Cyprus",
         "Lantern Lane Designs|Home Decor|DIY Projects|DIY Home Decor",
         25000
        ],
        [
         "Antigua and Barbuda",
         "Only In Your State",
         401000
        ],
        [
         "Azerbaijan",
         "Esavingsblog",
         14000
        ],
        [
         "Aruba",
         "TheTrendSpotter",
         211000
        ],
        [
         "Madagascar",
         "Mix and Match Mama",
         103000
        ],
        [
         "Saudi Arabia",
         "Jay Anna Fuentes",
         332
        ],
        [
         "Faroe Islands",
         "Finn Gratata",
         443
        ],
        [
         "Costa Rica",
         "Liz Marie",
         309000
        ],
        [
         "Bahamas",
         "The Rustic Roundup, LLC | Style Hacks | Self Love",
         293
        ],
        [
         "Argentina",
         "Jen | Save to Splurge",
         8000
        ],
        [
         "Bahamas",
         "War History Online",
         78000
        ],
        [
         "Argentina",
         "Tony",
         3000
        ],
        [
         "Congo",
         "The Cards We Drew",
         64000
        ],
        [
         "Cambodia",
         "Catch My Party",
         null
        ],
        [
         "Aruba",
         "Breezy Special Ed",
         31000
        ],
        [
         "Burundi",
         "The Keeper of the Cheerios",
         109000
        ],
        [
         "France",
         "Orange And Magnolia Dental Studio",
         1000
        ],
        [
         "Guernsey",
         "TattooMagz",
         32000
        ],
        [
         "Serbia",
         "VEM Designs",
         78
        ],
        [
         "Romania",
         "Joyce Flores",
         3000
        ],
        [
         "Anguilla",
         "Girl Crafts",
         60000
        ],
        [
         "Andorra",
         "Birch Event Design",
         6000
        ],
        [
         "Antigua and Barbuda",
         "Marisol Retana T.",
         722
        ],
        [
         "Korea",
         "Seasons Of My Home",
         35000
        ],
        [
         "Samoa",
         "Desiree Weitzenhoffer",
         196
        ],
        [
         "Dominica",
         "Green Willow Homestead",
         5000
        ],
        [
         "Argentina",
         "Relationship Rules",
         296000
        ],
        [
         "United States Virgin Islands",
         "Pamisva",
         33
        ],
        [
         "Bulgaria",
         "CarGurus",
         35000
        ],
        [
         "Benin",
         "Domnique Prencipe",
         91
        ],
        [
         "Micronesia",
         "Anna Kim | Cause-Based Travel + Online Coach - My Travelanthropy",
         1000
        ],
        [
         "Bermuda",
         "Bhavani's Creations",
         630
        ],
        [
         "Angola",
         "Pathway 2 Success",
         56000
        ],
        [
         "British Virgin Islands",
         "Sports Car Digest",
         6000
        ],
        [
         "American Samoa",
         "Epic Reads",
         77000
        ],
        [
         "Guam",
         "Amanda Green Bottoms @ kevinandamanda.com",
         219000
        ],
        [
         "Benin",
         "Prettyluhhazel",
         3000
        ],
        [
         "Guyana",
         "Sarah Martin",
         394
        ],
        [
         "Algeria",
         "The Portable Wife | Travel & Expat Life Blog",
         5000
        ],
        [
         "Belarus",
         "Ricky Lee",
         709
        ],
        [
         "Belize",
         "Easy Kids Crafts & Activities | Preschool & Kindergarten Ideas",
         267000
        ],
        [
         "Azerbaijan",
         "Early Learning Ideas",
         50000
        ],
        [
         "Austria",
         "Wanderlust Chloe ✈️ Travel guides, inspo and adventure travel ✈️",
         10000
        ],
        [
         "Christmas Island",
         "OUR NEXT ADVENTURE | family travel blog",
         9000
        ],
        [
         "Aruba",
         "ifyousayido",
         5000
        ],
        [
         "Australia",
         "Your Home, Reimagined LLC",
         137
        ],
        [
         "Bermuda",
         "Life on Summerhill | Home, Holiday Decor & DIY Website",
         46000
        ],
        [
         "Bhutan",
         "Yeetys Market",
         517
        ],
        [
         "Aruba",
         "Wear24-7",
         5000
        ],
        [
         "Guinea-Bissau",
         "The Inspiration Edit - Best Instant Pot Recipes And Kids Crafts",
         56000
        ],
        [
         "Turks and Caicos Islands",
         "I.A. Planning",
         7
        ],
        [
         "Nigeria",
         "eyelashdance",
         164
        ],
        [
         "Australia",
         "Ashley - Modern Glam",
         19000
        ],
        [
         "Lithuania",
         "The Bespoke ELA Classroom",
         10000
        ],
        [
         "Benin",
         "The Wanderlust Rose- Travel Jobs, Adventure & Travel Tips",
         3000
        ],
        [
         "British Virgin Islands",
         "Caffeine Queen Teacher",
         4000
        ],
        [
         "Bahrain",
         "Emilee Book",
         91
        ],
        [
         "Antarctica (the territory South of 60 deg S)",
         "Town & Country Magazine",
         189000
        ],
        [
         "British Virgin Islands",
         "DIVDepot – Geld sparen & verdienen | Mindset | Dividend Investing",
         3000
        ],
        [
         "Bangladesh",
         "Better Homes and Gardens",
         null
        ],
        [
         "Bhutan",
         "Kids Crafts & Free Preschool Printables- Sharing Our Experiences",
         3000
        ],
        [
         "British Virgin Islands",
         "Primary Playground",
         22000
        ],
        [
         "Bangladesh",
         "Crisp Collective",
         13000
        ],
        [
         "Armenia",
         "Michelle {CraftyMorning.com}",
         892000
        ],
        [
         "Bouvet Island (Bouvetoya)",
         "Etsy",
         null
        ],
        [
         "Saint Kitts and Nevis",
         "eFavormart | One-Stop Shop for Wedding, Party & Event Supplies!",
         68000
        ],
        [
         "Antigua and Barbuda",
         "Everyday Wholesome",
         31000
        ],
        [
         "Benin",
         "fashionchaser | nails,hairstyle,tattoo",
         23000
        ],
        [
         "Ecuador",
         "The Social Easel Online Paint Studio | Video Painting Tutorials",
         20000
        ],
        [
         "Grenada",
         "Young Adult Money",
         9000
        ],
        [
         "Nicaragua",
         "Mandy Renee",
         729
        ],
        [
         "Algeria",
         "Caroline|CarolineVencil.com | Saving & Making Money | Pro Blogger",
         42000
        ],
        [
         "Anguilla",
         "paupoo",
         784
        ],
        [
         "Netherlands",
         "PUFIK Interiors & Inspirations",
         136000
        ],
        [
         "Aruba",
         "Wall Canvas Mall",
         305
        ],
        [
         "French Southern Territories",
         "Salvaged Living",
         40000
        ],
        [
         "Bolivia",
         "Craftsy Hacks",
         76000
        ],
        [
         "Czech Republic",
         "xtrafly.myshopify.com",
         133
        ],
        [
         "Bermuda",
         "Jody-Ann Rowe | Marketing Coach for Wedding Professionals",
         884
        ],
        [
         "Afghanistan",
         "AllPosters",
         72000
        ],
        [
         "Mongolia",
         "NoitaDesigns",
         2000
        ],
        [
         "Brazil",
         "theunpopularmom",
         833
        ],
        [
         "Bahamas",
         "EventPlanning.com | Learn How To Become An Event Planner",
         4000
        ],
        [
         "Korea",
         "Fkjie",
         662
        ],
        [
         "Afghanistan",
         "Dividends Diversify: Money Matters So Build Wealth & Be Rich",
         28000
        ],
        [
         "Botswana",
         "Crafts and Activities for Kids with Fireflies and Mud Pies",
         119000
        ],
        [
         "Anguilla",
         "Kristen | Lifestyle, Mom Tips & Teacher Stuff Blog",
         92000
        ],
        [
         "American Samoa",
         "Homease",
         18000
        ],
        [
         "Bulgaria",
         "MensXP",
         8000
        ],
        [
         "Albania",
         "One Little Project",
         472000
        ],
        [
         "Montserrat",
         "Luci // Mums Make Lists - Family and mom lifestyle",
         20000
        ],
        [
         "Azerbaijan",
         "Style Me Pretty",
         null
        ],
        [
         "Bahrain",
         "Renee Roaming • Travel & Adventure",
         27000
        ],
        [
         "Aruba",
         "Mala Rock | Rock T-shirts",
         27
        ],
        [
         "Iran",
         "Astrid Lopez",
         56
        ],
        [
         "Denmark",
         "A Life Adjacent",
         36000
        ],
        [
         "Isle of Man",
         "Abbotts At Home",
         52000
        ],
        [
         "American Samoa",
         "Miss Mustard Seed | Minnesota Home Decor Blogger & Influencer",
         208000
        ],
        [
         "Antigua and Barbuda",
         "Sumcoco | Decor Ideas, Hairstyles, Nails Fashion Advice",
         306000
        ],
        [
         "Czech Republic",
         "Tatertots and Jello .com",
         398000
        ],
        [
         "Kiribati",
         "MOMtivational // Parenting + Pregnancy + More",
         8000
        ],
        [
         "Azerbaijan",
         "McKenzy Potter | Parenting Tips & Hacks  + Budgeting Tips",
         6000
        ],
        [
         "Panama",
         "Alanna | Periodic Adventures",
         1000
        ],
        [
         "Bermuda",
         "Dailylifewithmads|Chronic Illness Blogger ",
         198
        ],
        [
         "Turkmenistan",
         "One World Wanderer | Travel Blogger",
         1000
        ],
        [
         "Puerto Rico",
         "Book More Brides",
         1000
        ],
        [
         "Puerto Rico",
         "GW",
         0
        ],
        [
         "American Samoa",
         "IdeasDonuts",
         47000
        ],
        [
         "Christmas Island",
         "Instructables",
         null
        ],
        [
         "Singapore",
         "Erin Waters | Elementary Education Activities & Resources",
         3000
        ],
        [
         "Martinique",
         "Heart Handmade UK | Craft Room Ideas, Craft Ideas For Adults",
         null
        ],
        [
         "Egypt",
         "South Lumina Style",
         9000
        ],
        [
         "Falkland Islands (Malvinas)",
         "Victoria Magazine",
         59000
        ],
        [
         "India",
         "Bella Botanicals - Naturally Beautiful Skincare with CBD",
         1000
        ],
        [
         "American Samoa",
         "Byrdie",
         538000
        ],
        [
         "Czech Republic",
         "Trip101.com | Unique stays. New experiences.",
         16000
        ],
        [
         "Nauru",
         "The Intrepid Guide | Language Learning for Travel",
         45000
        ],
        [
         "Indonesia",
         "Lifehacker",
         141000
        ],
        [
         "Australia",
         "Cultura Colectiva",
         null
        ],
        [
         "Mozambique",
         "Stylin by Aylin",
         83000
        ],
        [
         "Belgium",
         "The Krazy Coupon Lady",
         433000
        ],
        [
         "Bosnia and Herzegovina",
         "5-Minute Crafts Family",
         370000
        ],
        [
         "Bahrain",
         "Amira Rahim | Art & Painting",
         11000
        ],
        [
         "Moldova",
         "Upcycle My Stuff - DIY Projects | Repurposing | Upcycling",
         22000
        ],
        [
         "Armenia",
         "Yanko Design - Form Beyond Function",
         416000
        ],
        [
         "Falkland Islands (Malvinas)",
         "Autism Adventures",
         21000
        ],
        [
         "Guadeloupe",
         "Mommyhooding",
         13000
        ],
        [
         "Cote d'Ivoire",
         "Math Giraffe",
         25000
        ],
        [
         "Japan",
         "The Adult Man - Practical Men's Fashion & Lifestyle Advice",
         87000
        ],
        [
         "Dominican Republic",
         "Maria Louise Design",
         31000
        ],
        [
         "Venezuela",
         "My Poppet - A Craft, Travel & Food Blog for Colourful Living",
         100000
        ],
        [
         "Cape Verde",
         "RT Lifestyle Magazine | Travel, DIY, Recipes, Fitness & More",
         43000
        ],
        [
         "Congo",
         "Lindsay Ann Learning | High School English Activities ",
         6000
        ],
        [
         "Israel",
         "Leonid Afremov",
         1000
        ],
        [
         "Albania",
         "ArtsyCraftsyMom | Art, Craft & DIY ideas",
         229000
        ],
        [
         "Isle of Man",
         "London x London -  Cool Things To Do + London Travel",
         376
        ],
        [
         "Brunei Darussalam",
         "Kids Craft Room",
         277000
        ],
        [
         "Chile",
         "Forever Lost In Travel - Travel and lifestyle blog",
         3000
        ],
        [
         "Bangladesh",
         "Jin Designs",
         1000
        ],
        [
         "India",
         "Happiness is Homemade | Crafts, Printables, Party Ideas, & More!",
         167000
        ],
        [
         "Belize",
         "Teaching Special Thinkers",
         21000
        ],
        [
         "Yemen",
         "T I F F A N Y",
         4000
        ],
        [
         "Greece",
         "Jennifer Gilbert DeLoach",
         2000
        ],
        [
         "Brazil",
         "Frozen Pennies | Sara Conklin (Coaching, Budgeting & Frugal Living)",
         5000
        ],
        [
         "Austria",
         "Beautyholo | Latest Hairstyles, Nail Design Ideas, Home Décor DIY, Women Fashion Ideas",
         54000
        ],
        [
         "Georgia",
         "Science of Curiosity",
         9000
        ],
        [
         "Palestinian Territory",
         "Onedio.com",
         561000
        ],
        [
         "Guinea",
         "Pam from Over the Big Moon",
         79000
        ],
        [
         "Chile",
         "Amber Strong - The Maker’s Map | DIY’s, Crafts & Home Decor",
         19000
        ],
        [
         "Libyan Arab Jamahiriya",
         "Fun-squared",
         40000
        ],
        [
         "Bhutan",
         "this heArt of mine / amy christie",
         22000
        ],
        [
         "Afghanistan",
         "Ethnic Earring",
         14000
        ],
        [
         "Austria",
         "Totschooling | Toddler & Preschool Printable Activities",
         161000
        ],
        [
         "Antigua and Barbuda",
         "Money Tamer | Budget Tips, Pay Off Debt, Save Money, Printables",
         2000
        ],
        [
         "Faroe Islands",
         "QC Event School",
         511
        ],
        [
         "Bosnia and Herzegovina",
         "A Wonderful Thought",
         37000
        ],
        [
         "Bulgaria",
         "Living Low Key | Save Money, Make Money, & Frugal Living",
         26000
        ],
        [
         "Heard Island and McDonald Islands",
         "myclickjournal | Online Business, College & Budget Travel Tips",
         13000
        ],
        [
         "Uganda",
         "Hair Accessories",
         22
        ],
        [
         "Argentina",
         "This Tiny  Blue House",
         108000
        ],
        [
         "Ireland",
         "Seeking Lavender Lane",
         49000
        ],
        [
         "Portugal",
         "Lindsey Blogs",
         29000
        ],
        [
         "Malta",
         "Habbie Beauty",
         4
        ],
        [
         "Belize",
         "Clary | IKEA hacks & DIY Project for home",
         67000
        ],
        [
         "Argentina",
         "JESSICA SARA MORRIS | HOME DECOR + DIY ON A BUDGET",
         36000
        ],
        [
         "Barbados",
         "Especially Education",
         38000
        ],
        [
         "Kyrgyz Republic",
         "ADDitude Magazine",
         87000
        ],
        [
         "Ecuador",
         "Midwest Jewelers & Estate Buyers",
         265
        ],
        [
         "Algeria",
         "Mens Fashion - LIFESTYLE BY PS ",
         613000
        ],
        [
         "Bahamas",
         "Ashley",
         4
        ],
        [
         "Madagascar",
         "Ecole du Net",
         2000
        ],
        [
         "Anguilla",
         "Lady Decluttered | Decluttering, Organizing, & Simple Living Tips",
         88000
        ],
        [
         "Guernsey",
         "Quentin Weed",
         39
        ],
        [
         "Georgia",
         "Susie Allison | Busy Toddler",
         203000
        ],
        [
         "Colombia",
         "Renata’s Boutique",
         27
        ],
        [
         "Nauru",
         "Hivenmax",
         3000
        ],
        [
         "Singapore",
         "Lionel Leon",
         387
        ],
        [
         "Malta",
         "Luis Alberto Martinez",
         13
        ],
        [
         "British Indian Ocean Territory (Chagos Archipelago)",
         "joymanmall",
         31000
        ],
        [
         "Hungary",
         "BalsaCircle",
         2000
        ],
        [
         "Comoros",
         "PartySlate",
         12000
        ],
        [
         "Bulgaria",
         "A Piece of Rainbow",
         603000
        ],
        [
         "Cameroon",
         "Made to be a Momma",
         85000
        ],
        [
         "Bahamas",
         "The Kitchen Table Classroom",
         221000
        ],
        [
         "Armenia",
         "DIYnCrafts.Com",
         746000
        ],
        [
         "Australia",
         "Write Your Story | Budgeting, Healthy Lifestyle, Faith",
         5000
        ],
        [
         "Benin",
         "Learn in Color",
         21000
        ],
        [
         "Equatorial Guinea",
         "Whisper Wanderlust * Travel Blog",
         10000
        ],
        [
         "Djibouti",
         "Katepickle - picklebums - fun ideas for families",
         130000
        ],
        [
         "India",
         "Travel Mad Mum",
         7000
        ],
        [
         "Antigua and Barbuda",
         "A Cultivated Nest",
         578000
        ],
        [
         "Belgium",
         "Happy Toddler Playtime",
         73000
        ],
        [
         "Turks and Caicos Islands",
         "Let's Eat Cake",
         19000
        ],
        [
         "Germany",
         "Middle Class Dad",
         10000
        ],
        [
         "Bahamas",
         "Follow The Yellow Brick Home",
         79000
        ],
        [
         "Uganda",
         "Inspired by Charm",
         null
        ],
        [
         "Albania",
         "Projects with Kids",
         20000
        ],
        [
         "Cape Verde",
         "Sand and Sisal",
         178000
        ],
        [
         "Swaziland",
         "Laidback Trip",
         3000
        ],
        [
         "Lebanon",
         "Creative Home Keeper",
         28000
        ],
        [
         "Bangladesh",
         "Carolyn Dube",
         40000
        ],
        [
         "Canada",
         "Diana's Healthy Living | Luxury Adventure Travel Blog",
         7000
        ],
        [
         "Korea",
         "Sara {Mom Endeavors}",
         81000
        ],
        [
         "Bouvet Island (Bouvetoya)",
         "Bryce W.",
         1000
        ],
        [
         "Cook Islands",
         "The Spring Break Family - Family Travel",
         1000
        ],
        [
         "Antigua and Barbuda",
         "Trusted Travel Girl",
         3000
        ],
        [
         "Saint Kitts and Nevis",
         "The Rustic Pelican",
         4000
        ],
        [
         "Monaco",
         "E",
         167
        ],
        [
         "Bahamas",
         "Handmade Charlotte",
         948000
        ],
        [
         "Bouvet Island (Bouvetoya)",
         "POPSUGAR",
         null
        ],
        [
         "Nicaragua",
         "Lynn",
         316
        ],
        [
         "Antarctica (the territory South of 60 deg S)",
         "Refinery29",
         null
        ],
        [
         "Ghana",
         "jennifer",
         191
        ],
        [
         "Algeria",
         "Hand Luggage Only",
         459000
        ],
        [
         "Romania",
         "Shea Gordon",
         5
        ],
        [
         "Maldives",
         "Parents",
         416000
        ],
        [
         "Albania",
         "The Minds Journal",
         null
        ],
        [
         "Antarctica (the territory South of 60 deg S)",
         "Brittney Steel",
         198
        ],
        [
         "Italy",
         "GirlGetGlamorous",
         21000
        ],
        [
         "Sudan",
         "Literacy and Math Ideas",
         63000
        ],
        [
         "Sudan",
         "iElylike ..✿◕‿◕✿ஐ✿◕‿◕✿",
         940
        ],
        [
         "Botswana",
         "RapidLeaks",
         4000
        ],
        [
         "Afghanistan",
         "Blossom",
         null
        ],
        [
         "Congo",
         "The Painted Hinge",
         55000
        ],
        [
         "Tajikistan",
         "Achaisha Hudson",
         593
        ],
        [
         "Finland",
         "Ammmvishall navyatA",
         2000
        ],
        [
         "Angola",
         "Tastemade",
         null
        ],
        [
         "Tunisia",
         "El blog amarillo",
         66000
        ],
        [
         "American Samoa",
         "BuzzFeed",
         null
        ],
        [
         "Albania",
         "Beautiful Makeup Search",
         159000
        ],
        [
         "Albania",
         "WeAreTeachers",
         500000
        ],
        [
         "Congo",
         "GorgeChicOfficial",
         908
        ],
        [
         "Morocco",
         "Two Southern Sweeties | Life After 50 + Second Act Lifestyle",
         13000
        ],
        [
         "Cote d'Ivoire",
         "Journey Era | Fun Adventure",
         24000
        ],
        [
         "American Samoa",
         "wikiHow",
         null
        ],
        [
         "Greece",
         "Thirty Handmade Days",
         397000
        ],
        [
         "Latvia",
         "Olay",
         23000
        ],
        [
         "Slovakia (Slovak Republic)",
         "CollectorCarAds.com",
         11000
        ],
        [
         "Dominican Republic",
         "Wealthy Nickel | Make Money, Save Money, Passive Income, Invest",
         17000
        ],
        [
         "Haiti",
         "Fres Houz",
         100000
        ],
        [
         "Finland",
         "Melissa",
         4000
        ],
        [
         "Malta",
         "Iowa Girl Eats",
         219000
        ],
        [
         "Aruba",
         "GQ Magazine",
         874000
        ],
        [
         "Solomon Islands",
         "Sonet Cox",
         6
        ],
        [
         "Gabon",
         "Beth Gaugler",
         2000
        ],
        [
         "Afghanistan",
         "TheUnstitchd",
         723000
        ],
        [
         "Cambodia",
         "Blusher",
         583000
        ],
        [
         "Kuwait",
         "Vinyl Written",
         1000
        ],
        [
         "Cameroon",
         "From the Pond",
         51000
        ],
        [
         "Egypt",
         "Elizabeth Leigh",
         406
        ],
        [
         "Norfolk Island",
         "Lifestyle DIYW \"Live Life & Do IT Your Way\"",
         6000
        ],
        [
         "Ecuador",
         "Kelsey Bang",
         9000
        ],
        [
         "Norway",
         "DailyDose",
         189
        ],
        [
         "Niger",
         "Candice",
         293
        ],
        [
         "Gibraltar",
         "TheSuperBOO!",
         89000
        ],
        [
         "Congo",
         "Humiara Begum",
         1
        ],
        [
         "Afghanistan",
         "Women.com",
         166000
        ],
        [
         "Costa Rica",
         "Momentary Ink",
         27000
        ],
        [
         "Bermuda",
         "defensa.com",
         4000
        ],
        [
         "Belgium",
         "Rachel_thePondsFarmhouse",
         13000
        ],
        [
         "Germany",
         "QC Career School",
         5000
        ],
        [
         "Bahamas",
         "Her Packing List | Minimalist Travel Essentials & Tips for Women",
         41000
        ],
        [
         "Canada",
         "WOMAN",
         109000
        ],
        [
         "Afghanistan",
         "Offroadium.com - Offroad, Lifted Trucks & 4x4",
         25000
        ],
        [
         "Guadeloupe",
         "Kathy Schmitz",
         5000
        ],
        [
         "Croatia",
         "Budgets Made Easy",
         17000
        ],
        [
         "Malawi",
         "Avenly Lane | Beauty, Fashion & Travel Inspiration",
         14000
        ],
        [
         "Dominica",
         "Monique - Living Life and Learning",
         67000
        ],
        [
         "Belgium",
         "Bon Traveler | Travel + Design Tips",
         24000
        ],
        [
         "Honduras",
         "The Boss Depot",
         319
        ],
        [
         "Brunei Darussalam",
         "Financial Flamingo | Money Management + Blogging + Productivity",
         2000
        ],
        [
         "Austria",
         "The Pinterested Parent",
         60000
        ],
        [
         "Monaco",
         "Tanya Yero Teaching",
         8000
        ],
        [
         "Andorra",
         "Little Yellow Wheelbarrow",
         41000
        ],
        [
         "Anguilla",
         "Carly Keller | Wedding DIYs",
         9000
        ],
        [
         "United States Virgin Islands",
         "Ugly Duckling House | DIY, Home, Woodworking, Crafts & Recipes",
         null
        ],
        [
         "Ecuador",
         "The Mandagies (Pacific Northwest Travel + Photo)",
         32000
        ],
        [
         "Albania",
         "Mathilda Marrow",
         6000
        ],
        [
         "Dominican Republic",
         "Mrs. P's Specialties- Educational Resources",
         20000
        ],
        [
         "Austria",
         "Joli Joli Design",
         19000
        ],
        [
         "Guinea-Bissau",
         "Livitrevisani",
         0
        ],
        [
         "Botswana",
         "Lipgloss & Crayons / Parenting Tips, Mommy and Me Style, Casual Outfit Posts, and Toddler Life",
         34000
        ],
        [
         "Bosnia and Herzegovina",
         "My Diamond Paintings",
         3000
        ],
        [
         "Lesotho",
         "Mary Bentz Gilkerson: Artist+Teacher",
         34000
        ],
        [
         "Belize",
         "Confetti Saturday",
         1000
        ],
        [
         "Christmas Island",
         "eHow",
         null
        ],
        [
         "Central African Republic",
         "Maria Braga",
         40000
        ],
        [
         "Austria",
         "Master The Event",
         3000
        ],
        [
         "Lesotho",
         "The Guardian",
         908000
        ],
        [
         "Niger",
         "The Edvocate",
         4000
        ],
        [
         "Congo",
         "Virginia | Fynes Designs : Home Decor, Easy DIY’s, Lifestyle",
         410000
        ],
        [
         "Cocos (Keeling) Islands",
         "Rachelle DeBoue",
         19
        ],
        [
         "Marshall Islands",
         "The Wanderful Me • Vegan Travel & Sustainable Living",
         5000
        ],
        [
         "Chad",
         "Personal Finance for Beginners",
         3000
        ],
        [
         "Sweden",
         "I. Sánchez",
         214
        ],
        [
         "Georgia",
         "Robynwitbooi",
         0
        ],
        [
         "Mozambique",
         "Ramon‘s Weekly",
         63
        ],
        [
         "Mozambique",
         "Ovetta Jackson",
         6000
        ],
        [
         "Sudan",
         "Havvanur",
         6
        ],
        [
         "Bolivia",
         "Karen Red",
         213
        ],
        [
         "Djibouti",
         "Neocromanyon",
         25
        ],
        [
         "Lithuania",
         "Kyra",
         34
        ],
        [
         "Sao Tome and Principe",
         "kayyla.april",
         2000
        ],
        [
         "Tonga",
         "Grecia Perales",
         0
        ],
        [
         "Australia",
         "SAHYA",
         6000
        ],
        [
         "Albania",
         "User Info Error",
         null
        ],
        [
         "Algeria",
         "Jenn Beth",
         3000
        ],
        [
         "Burkina Faso",
         "Behance",
         null
        ],
        [
         "Saint Pierre and Miquelon",
         "Josie Moya",
         237
        ],
        [
         "Tuvalu",
         "Addymae Rodi",
         41
        ],
        [
         "Slovakia (Slovak Republic)",
         "Katie Prukop",
         213
        ],
        [
         "Cocos (Keeling) Islands",
         "Ray Uyemura",
         437
        ],
        [
         "Greece",
         "Terry Bain",
         578
        ],
        [
         "Aruba",
         "Tim Adam - Car Enthusiast",
         49000
        ],
        [
         "Armenia",
         "Jiew82633",
         8000
        ],
        [
         "Andorra",
         "zuby",
         1000
        ],
        [
         "Paraguay",
         "Michal McCamman",
         392
        ],
        [
         "Guinea",
         "Cars Zone",
         134000
        ],
        [
         "Oman",
         "Kennedy Taylor",
         777
        ],
        [
         "Mexico",
         "Chris Hansen",
         492
        ],
        [
         "New Caledonia",
         "Sol",
         0
        ],
        [
         "Saint Barthelemy",
         "Peter Dikhazi",
         18
        ],
        [
         "Andorra",
         "Glaminati",
         799000
        ],
        [
         "Armenia",
         "The Arty Teacher",
         25000
        ],
        [
         "Finland",
         "Maggie Panning",
         1000
        ],
        [
         "Bosnia and Herzegovina",
         "Jackie | I Heart Arts N Crafts",
         89000
        ],
        [
         "Kenya",
         "Laura- Inspire My Play | Play & Learning For Little Kids",
         4000
        ],
        [
         "China",
         "Empowered Sustenance",
         127000
        ],
        [
         "Congo",
         "Shawn Petite",
         27000
        ],
        [
         "Argentina",
         "Dagmar Bleasdale {Dagmar's Home}",
         105000
        ],
        [
         "Marshall Islands",
         "Dashing Darlin' ",
         13000
        ],
        [
         "Egypt",
         "Plex Oasis",
         25
        ],
        [
         "Namibia",
         "Snappy Gourmet",
         168000
        ],
        [
         "Iran",
         "Stylu",
         28
        ],
        [
         "Angola",
         "Joel Dropships | Branded Dropshipping For Beginners 2022",
         6000
        ],
        [
         "Dominica",
         "Happy Catering n Events",
         458
        ],
        [
         "United States Virgin Islands",
         "Renee Slansky  Dating + Relationship Coach -The Dating Directory ",
         12000
        ],
        [
         "Canada",
         "CARA NEWHART [never skip brunch]",
         26000
        ],
        [
         "Azerbaijan",
         "Amaze Style",
         2000
        ],
        [
         "Vietnam",
         "Leanne | Midlife Blogger at www.crestingthehill.com.au",
         15000
        ],
        [
         "Israel",
         "LISA MASLYK / VOICE OVER TALENT /ACTOR",
         3000
        ],
        [
         "Andorra",
         "Archzine.net",
         353000
        ],
        [
         "South Africa",
         "Sophie Watters",
         3000
        ],
        [
         "Algeria",
         "ELLE Germany",
         326000
        ],
        [
         "Cape Verde",
         "Jooosy",
         77
        ],
        [
         "Cyprus",
         "Beach Girlz Glliter and Treasures Inc.",
         6
        ],
        [
         "Macao",
         "Taylor Kortze",
         583
        ],
        [
         "Faroe Islands",
         " Travel Pins Design Ideas",
         6000
        ],
        [
         "Antarctica (the territory South of 60 deg S)",
         "Her Way",
         48000
        ],
        [
         "Denmark",
         "FINITIES",
         177
        ],
        [
         "Christmas Island",
         "WranglerForum.com",
         11000
        ],
        [
         "Barbados",
         "The Creativity Exchange",
         410000
        ],
        [
         "Maldives",
         "Andrea Groneman",
         6000
        ],
        [
         "Djibouti",
         "Instrupix | Lilly Childers",
         275000
        ],
        [
         "Anguilla",
         "Thank Your Body",
         85000
        ],
        [
         "Fiji",
         "Menstiel",
         2
        ],
        [
         "Kenya",
         "Outfit Ideas HQ",
         20000
        ],
        [
         "Maldives",
         "Satsuma Designs | Make + Sew + Teach",
         18000
        ],
        [
         "Central African Republic",
         "PureWow",
         868000
        ],
        [
         "Colombia",
         "Jordan Page | Fun Cheap or Free",
         152000
        ],
        [
         "Qatar",
         "Viviane Aires Skin Wellness",
         202
        ],
        [
         "Austria",
         "Crediful",
         27000
        ],
        [
         "Niger",
         "The Habit Flow | Social Media Design | Templates | Abstract Art",
         135
        ],
        [
         "British Virgin Islands",
         "Dream Dash Journal",
         19000
        ],
        [
         "Ghana",
         "Grindhouse Releasing web store",
         53
        ],
        [
         "Bouvet Island (Bouvetoya)",
         "Abbie Decoration",
         34000
        ],
        [
         "Montserrat",
         "Luminous Learning",
         6000
        ],
        [
         "Hong Kong",
         "Intentionally Designed",
         13000
        ],
        [
         "French Guiana",
         "Stephanie - Somewhat Simple",
         214000
        ],
        [
         "Comoros",
         "Becky Mansfield - YourModernFamily ",
         196000
        ],
        [
         "Tanzania",
         "mj",
         26
        ],
        [
         "Canada",
         "Giorgenti New York",
         258000
        ],
        [
         "Bangladesh",
         "Jess Suk",
         31
        ],
        [
         "Iceland",
         "Atuflower",
         5000
        ],
        [
         "Papua New Guinea",
         "AnnaLee Kick",
         112
        ],
        [
         "Qatar",
         "NerdWallet",
         4000
        ],
        [
         "Benin",
         "Smart Cents Mom",
         49000
        ],
        [
         "Aruba",
         "Linda On The Run",
         9000
        ],
        [
         "Finland",
         "Beauty Review Blog ",
         168
        ],
        [
         "Cocos (Keeling) Islands",
         "The World Was Here First",
         5000
        ],
        [
         "Seychelles",
         "ALL FOR WOMAN",
         21000
        ],
        [
         "Niue",
         "Michelle | Brown Eyed Baker",
         271000
        ],
        [
         "Colombia",
         "Shop MCA Denver",
         7
        ],
        [
         "Romania",
         "Soberbadassery | Your Free Online Guide To Sober Living ",
         9000
        ],
        [
         "Bolivia",
         "Curated Interior",
         67000
        ],
        [
         "France",
         "Hey Pretty Beauty Blog",
         7000
        ],
        [
         "Tunisia",
         "Travel with Munia",
         2000
        ],
        [
         "Namibia",
         "Inloversva",
         18000
        ],
        [
         "Cote d'Ivoire",
         "The Crafting Chicks",
         192000
        ],
        [
         "Burkina Faso",
         "Sunsets N Style | Lifestyle Blogger",
         1000
        ],
        [
         "Saint Kitts and Nevis",
         "vintagetopia",
         171000
        ],
        [
         "Svalbard & Jan Mayen Islands",
         "CK Travels (Travel Bloggers)",
         5000
        ],
        [
         "Palestinian Territory",
         "Lourence",
         65
        ],
        [
         "Mongolia",
         "ZAFUL",
         893000
        ],
        [
         "Ethiopia",
         "LONGANCE",
         5000
        ],
        [
         "Jamaica",
         "Amy Dunlap",
         178
        ],
        [
         "Iran",
         "Mandy Yancer",
         150
        ],
        [
         "Azerbaijan",
         "Taste of Home",
         null
        ],
        [
         "Macao",
         "Dusty Dingo",
         221
        ],
        [
         "Fiji",
         "Szikszai Szabolcs",
         2000
        ],
        [
         "South Georgia and the South Sandwich Islands",
         "Classic Nation",
         75000
        ],
        [
         "Egypt",
         "Uncrate",
         117000
        ],
        [
         "Antigua and Barbuda",
         "rhonda_floyd",
         3000
        ],
        [
         "Armenia",
         "Of Life & Lisa | Lifestyle Blog",
         124000
        ],
        [
         "Central African Republic",
         "G&S JEWELLERS",
         28
        ],
        [
         "Isle of Man",
         "Annamarie Hilton",
         313
        ],
        [
         "Palestinian Territory",
         "Mike Case",
         494
        ],
        [
         "Bulgaria",
         "Half Baked Harvest",
         912000
        ],
        [
         "Mexico",
         "Trendy Socialite",
         8000
        ],
        [
         "Wallis and Futuna",
         "Organize Ways",
         2000
        ],
        [
         "Moldova",
         "A Blossoming Life DIY Projects + Recipes +     Natural Living",
         44000
        ],
        [
         "Burundi",
         "The Classroom Key",
         58000
        ],
        [
         "Rwanda",
         "Traveling Chic",
         6000
        ],
        [
         "Guyana",
         "Flannel And Whiskey",
         8
        ],
        [
         "British Indian Ocean Territory (Chagos Archipelago)",
         "Budgets Are Sexy | Save Money + Grow Your Net Worth",
         11000
        ],
        [
         "Brazil",
         "Budget with Rachel",
         11000
        ],
        [
         "Samoa",
         "Coley Kuyper Art",
         3000
        ],
        [
         "Aruba",
         "Classic Driver",
         27000
        ],
        [
         "Guatemala",
         "Menucha - Moms and Crafters",
         85000
        ],
        [
         "Aruba",
         "One Kindesign",
         657000
        ],
        [
         "Mayotte",
         "Home with Holliday",
         31000
        ],
        [
         "Korea",
         "Latest Hairstyles",
         627000
        ],
        [
         "Bangladesh",
         "Architectural Digest",
         null
        ],
        [
         "Burundi",
         "Macho Moda",
         620000
        ],
        [
         "Gibraltar",
         "Learn Play Read",
         2000
        ],
        [
         "Netherlands Antilles",
         "Sweet T Makes Three",
         61000
        ],
        [
         "United States of America",
         "Kelly Collins",
         406
        ],
        [
         "Saint Vincent and the Grenadines",
         "CabreraE",
         121
        ],
        [
         "Dominican Republic",
         "Wonder Forest",
         104000
        ],
        [
         "India",
         "SAShE.sk",
         92000
        ],
        [
         "Canada",
         "Twelve On Main",
         142000
        ],
        [
         "Cameroon",
         "The Blonde Abroad",
         123000
        ],
        [
         "Armenia",
         "Pacho Tattoo",
         9000
        ],
        [
         "Belarus",
         "Something Turquoise",
         312000
        ],
        [
         "Ireland",
         "Haley",
         2
        ],
        [
         "Solomon Islands",
         "Upcyclist",
         7000
        ],
        [
         "Guatemala",
         "GrowingSlower",
         30000
        ],
        [
         "Bolivia",
         "She Gave It A Go| Faith Family Farmhouse",
         68000
        ],
        [
         "Bermuda",
         "Rocky Hedge Farm - Simple Life | Simple Home",
         30000
        ],
        [
         "Armenia",
         "No Hurry To Get Home",
         9000
        ],
        [
         "Cayman Islands",
         "Our Escape Clause l Travel in Europe & Beyond",
         15000
        ],
        [
         "Belarus",
         "Live Love Run Travel | Travel Blogger",
         7000
        ],
        [
         "Botswana",
         "OkChicas",
         null
        ],
        [
         "Monaco",
         "Artists Network",
         227000
        ],
        [
         "Barbados",
         "Nicki ",
         28000
        ],
        [
         "Afghanistan",
         "Miss PlanIt",
         30000
        ],
        [
         "Dominica",
         "The Honeycomb Home",
         48000
        ],
        [
         "Botswana",
         "GloryInvestingShow",
         98000
        ],
        [
         "Mali",
         "Mobile Home Living®",
         122000
        ],
        [
         "Papua New Guinea",
         "William Nowell",
         5000
        ],
        [
         "Antarctica (the territory South of 60 deg S)",
         "Part-Time Money®",
         22000
        ],
        [
         "Andorra",
         "Southern, Sweet & Sassy Coffee",
         3
        ],
        [
         "British Virgin Islands",
         "Visit USA Parks | Travel Blog & Inspiration",
         4000
        ],
        [
         "Niue",
         "Gift Ideas for Writers",
         538
        ],
        [
         "French Guiana",
         "Commitment Connection",
         51000
        ],
        [
         "Cuba",
         "MENSSKULL",
         5000
        ],
        [
         "Austria",
         "The World Pursuit Travel Website",
         89000
        ],
        [
         "Andorra",
         "Southern Savers - Jenny",
         32000
        ],
        [
         "Monaco",
         "Creative Boom",
         29000
        ],
        [
         "France",
         "Hello Lovely",
         115000
        ],
        [
         "Guatemala",
         "Elle",
         542
        ],
        [
         "Barbados",
         "GADGETOVIA",
         1000
        ],
        [
         "Panama",
         "Furyan",
         0
        ],
        [
         "Ecuador",
         "LABONNI",
         84000
        ],
        [
         "Greenland",
         "Haiti Babi | Artisan Baby Blankets and Hats",
         270
        ],
        [
         "Trinidad and Tobago",
         "Syndi Mulcahy",
         254
        ],
        [
         "Bhutan",
         "Stephanie Hoey Interiors",
         1000
        ],
        [
         "Costa Rica",
         "Martha Stewart Living",
         null
        ],
        [
         "Japan",
         "Eyes On Walls",
         17000
        ],
        [
         "French Polynesia",
         "Alexandra Polunin",
         16000
        ],
        [
         "Jamaica",
         "Financial Toolkit",
         19000
        ],
        [
         "Afghanistan",
         "craftberry bush",
         47000
        ],
        [
         "Azerbaijan",
         "Nourish Move Love | Home Workouts",
         292000
        ],
        [
         "Bangladesh",
         "Natalie Bacon | NatalieBacon.com",
         66000
        ],
        [
         "Bahrain",
         "R.J. Weiss at The Ways To Wealth | Personal Finance | Debt Payoff",
         46000
        ],
        [
         "Macao",
         "Vanessa Ferran",
         3000
        ],
        [
         "Bermuda",
         "Spiretime",
         14000
        ],
        [
         "United States of America",
         "Evolution of Style",
         47000
        ],
        [
         "Saint Martin",
         "Montgo Farmhouse",
         9000
        ],
        [
         "Kuwait",
         "JDaniel4's Mom",
         63000
        ],
        [
         "Estonia",
         "Net-Maquettes",
         4000
        ],
        [
         "Algeria",
         "estiven hanagaki",
         0
        ],
        [
         "Aruba",
         "Cola42986",
         6000
        ],
        [
         "Peru",
         "Clar",
         21
        ],
        [
         "Somalia",
         "Balloons_worldwides",
         118000
        ],
        [
         "Lithuania",
         "Kiara",
         0
        ],
        [
         "Azerbaijan",
         "My Debt Epiphany | Money Making Tips | Frugal Living | Debt Free",
         4000
        ],
        [
         "Venezuela",
         "Alex Mims",
         7000
        ],
        [
         "Antarctica (the territory South of 60 deg S)",
         "DOZENLIVE",
         1000
        ],
        [
         "Isle of Man",
         "Jasminxg",
         29000
        ],
        [
         "El Salvador",
         "Power of Positivity",
         221000
        ],
        [
         "Cuba",
         "Listotic - Easy Ideas | Fun DIY Projects | Easy Recipes | Lists",
         307000
        ],
        [
         "Antigua and Barbuda",
         "Country Living Magazine",
         null
        ],
        [
         "Bosnia and Herzegovina",
         "She Holds Dearly",
         30000
        ],
        [
         "Bahrain",
         "Boss in Pyjamas",
         2000
        ],
        [
         "Liechtenstein",
         "SportsMarket",
         881
        ],
        [
         "Afghanistan",
         "Glamhues",
         14000
        ],
        [
         "Saint Pierre and Miquelon",
         "Ebbert Barnes",
         323
        ],
        [
         "Congo",
         "Find Us Lost | A Travel Blog",
         33000
        ],
        [
         "Namibia",
         "Alex J. D. Sarver",
         19
        ],
        [
         "Belize",
         "Tiffany Bissell",
         240
        ],
        [
         "Argentina",
         "Cheezburger",
         null
        ],
        [
         "Grenada",
         "The Mighty",
         185000
        ],
        [
         "Algeria",
         "Fun Life Crisis",
         130000
        ],
        [
         "Bouvet Island (Bouvetoya)",
         "Rose",
         6000
        ],
        [
         "Cote d'Ivoire",
         "GenTwenty | Personal Growth, Self-Care, and Money",
         57000
        ],
        [
         "Greece",
         "Malaquias Arroyo",
         206
        ],
        [
         "Egypt",
         "Lists For All",
         11000
        ],
        [
         "Nicaragua",
         "Land Rover USA",
         9000
        ],
        [
         "Saint Helena",
         "The Pamper Place",
         328
        ],
        [
         "Austria",
         "Diply",
         251000
        ],
        [
         "Philippines",
         "ForYou",
         2000
        ],
        [
         "Mauritius",
         "Cool Things- Drawing Ideas , Fashion ,Beautiy and Home Decor",
         46000
        ],
        [
         "Lao People's Democratic Republic",
         "Cora Graaff",
         849
        ],
        [
         "Maldives",
         "Thrive Causemetics",
         43000
        ],
        [
         "Anguilla",
         "Shaka Kai",
         7
        ],
        [
         "Angola",
         "The Everygirl",
         496000
        ],
        [
         "Congo",
         "He and She Eat Clean",
         88000
        ],
        [
         "Afghanistan",
         "9GAG",
         null
        ],
        [
         "Niue",
         "Satya Jewelry",
         8000
        ],
        [
         "Macedonia",
         "Mary",
         7000
        ],
        [
         "Nicaragua",
         "Brenda Gonzalez",
         521
        ],
        [
         "Austria",
         "Karibikfruechtchen",
         19000
        ],
        [
         "Liechtenstein",
         "The Era NYC",
         23
        ],
        [
         "Lesotho",
         "Function of Beauty",
         8000
        ],
        [
         "Bahamas",
         "Andrew Martin",
         5000
        ],
        [
         "Lesotho",
         "Joyce Marcou",
         6000
        ],
        [
         "Aruba",
         "Primer",
         59000
        ],
        [
         "Bouvet Island (Bouvetoya)",
         "Follow Me Away",
         47000
        ],
        [
         "Haiti",
         "Pamela Bell English",
         5000
        ],
        [
         "Norfolk Island",
         "TailoredRock",
         23
        ],
        [
         "Madagascar",
         "MomAdvice",
         112000
        ],
        [
         "Nicaragua",
         "Emily Foreman",
         1000
        ],
        [
         "Pitcairn Islands",
         "Marla Meridith",
         671000
        ],
        [
         "Jamaica",
         "hobbyDB",
         8000
        ],
        [
         "New Caledonia",
         "Au'vey Smith",
         377
        ],
        [
         "Armenia",
         "ManTripping",
         22000
        ],
        [
         "Cameroon",
         "Homemade For Elle",
         61000
        ],
        [
         "Holy See (Vatican City State)",
         "Mich Cam",
         831
        ],
        [
         "Kiribati",
         "𝒍𝒖𝒄𝒉𝒊𝒊 ♡︎ ",
         8
        ],
        [
         "Somalia",
         "Glotraveler",
         217
        ]
       ],
       "datasetInfos": [],
       "dbfsResultPath": null,
       "isJsonSchema": true,
       "metadata": {},
       "overflow": false,
       "plotOptions": {
        "customPlotOptions": {},
        "displayType": "table",
        "pivotAggregation": null,
        "pivotColumns": null,
        "xColumns": null,
        "yColumns": null
       },
       "removedWidgets": [],
       "schema": [
        {
         "metadata": "{}",
         "name": "country",
         "type": "\"string\""
        },
        {
         "metadata": "{}",
         "name": "poster_name",
         "type": "\"string\""
        },
        {
         "metadata": "{}",
         "name": "max_followers",
         "type": "\"integer\""
        }
       ],
       "type": "table"
      }
     },
     "output_type": "display_data"
    },
    {
     "output_type": "display_data",
     "data": {
      "text/html": [
       "<style scoped>\n",
       "  .table-result-container {\n",
       "    max-height: 300px;\n",
       "    overflow: auto;\n",
       "  }\n",
       "  table, th, td {\n",
       "    border: 1px solid black;\n",
       "    border-collapse: collapse;\n",
       "  }\n",
       "  th, td {\n",
       "    padding: 5px;\n",
       "  }\n",
       "  th {\n",
       "    text-align: left;\n",
       "  }\n",
       "</style><div class='table-result-container'><table class='table-result'><thead style='background-color: white'><tr><th>country</th><th>folloer_count</th></tr></thead><tbody><tr><td>Chad</td><td>226000</td></tr><tr><td>Anguilla</td><td>92000</td></tr><tr><td>Paraguay</td><td>392</td></tr><tr><td>Macao</td><td>3000</td></tr><tr><td>Heard Island and McDonald Islands</td><td>487000</td></tr><tr><td>Yemen</td><td>4000</td></tr><tr><td>Tokelau</td><td>384000</td></tr><tr><td>Sweden</td><td>58000</td></tr><tr><td>French Southern Territories</td><td>59000</td></tr><tr><td>Kiribati</td><td>8000</td></tr><tr><td>Guyana</td><td>394</td></tr><tr><td>Philippines</td><td>2000</td></tr><tr><td>Djibouti</td><td>275000</td></tr><tr><td>Tonga</td><td>0</td></tr><tr><td>Norfolk Island</td><td>6000</td></tr><tr><td>Singapore</td><td>3000</td></tr><tr><td>Fiji</td><td>41000</td></tr><tr><td>United States Virgin Islands</td><td>12000</td></tr><tr><td>Turkey</td><td>9000</td></tr><tr><td>Malawi</td><td>14000</td></tr><tr><td>Germany</td><td>10000</td></tr><tr><td>Comoros</td><td>196000</td></tr><tr><td>Afghanistan</td><td>985000</td></tr><tr><td>Cambodia</td><td>583000</td></tr><tr><td>Maldives</td><td>416000</td></tr><tr><td>Rwanda</td><td>6000</td></tr><tr><td>Saint Helena</td><td>328</td></tr><tr><td>Sudan</td><td>63000</td></tr><tr><td>Turks and Caicos Islands</td><td>19000</td></tr><tr><td>France</td><td>115000</td></tr><tr><td>British Indian Ocean Territory (Chagos Archipelago)</td><td>248000</td></tr><tr><td>Greece</td><td>397000</td></tr><tr><td>Holy See (Vatican City State)</td><td>831</td></tr><tr><td>Slovakia (Slovak Republic)</td><td>11000</td></tr><tr><td>Montserrat</td><td>20000</td></tr><tr><td>British Virgin Islands</td><td>245000</td></tr><tr><td>Dominica</td><td>67000</td></tr><tr><td>Algeria</td><td>942000</td></tr><tr><td>Togo</td><td>4000</td></tr><tr><td>Equatorial Guinea</td><td>10000</td></tr><tr><td>Argentina</td><td>800000</td></tr><tr><td>Belgium</td><td>433000</td></tr><tr><td>Angola</td><td>502000</td></tr><tr><td>Ecuador</td><td>84000</td></tr><tr><td>Qatar</td><td>4000</td></tr><tr><td>Lesotho</td><td>908000</td></tr><tr><td>Albania</td><td>500000</td></tr><tr><td>Madagascar</td><td>112000</td></tr><tr><td>Finland</td><td>79000</td></tr><tr><td>New Caledonia</td><td>377</td></tr><tr><td>Nicaragua</td><td>9000</td></tr><tr><td>Ghana</td><td>191</td></tr><tr><td>Brunei Darussalam</td><td>277000</td></tr><tr><td>Guernsey</td><td>32000</td></tr><tr><td>Benin</td><td>49000</td></tr><tr><td>Peru</td><td>21</td></tr><tr><td>Bahamas</td><td>948000</td></tr><tr><td>China</td><td>127000</td></tr><tr><td>India</td><td>167000</td></tr><tr><td>Belarus</td><td>312000</td></tr><tr><td>American Samoa</td><td>556000</td></tr><tr><td>Malta</td><td>219000</td></tr><tr><td>Kuwait</td><td>63000</td></tr><tr><td>Sao Tome and Principe</td><td>2000</td></tr><tr><td>Marshall Islands</td><td>13000</td></tr><tr><td>Somalia</td><td>118000</td></tr><tr><td>Tuvalu</td><td>41</td></tr><tr><td>Palestinian Territory</td><td>561000</td></tr><tr><td>Puerto Rico</td><td>1000</td></tr><tr><td>Chile</td><td>19000</td></tr><tr><td>Tajikistan</td><td>593</td></tr><tr><td>Martinique</td><td>null</td></tr><tr><td>Cayman Islands</td><td>15000</td></tr><tr><td>Isle of Man</td><td>52000</td></tr><tr><td>Croatia</td><td>134000</td></tr><tr><td>Burundi</td><td>620000</td></tr><tr><td>Nigeria</td><td>164</td></tr><tr><td>Bolivia</td><td>243000</td></tr><tr><td>Andorra</td><td>903000</td></tr><tr><td>Gabon</td><td>7000</td></tr><tr><td>Italy</td><td>21000</td></tr><tr><td>Netherlands Antilles</td><td>61000</td></tr><tr><td>Lithuania</td><td>10000</td></tr><tr><td>Turkmenistan</td><td>7000</td></tr><tr><td>Norway</td><td>189</td></tr><tr><td>Saint Pierre and Miquelon</td><td>323</td></tr><tr><td>South Georgia and the South Sandwich Islands</td><td>75000</td></tr><tr><td>Cuba</td><td>307000</td></tr><tr><td>Mauritania</td><td>22000</td></tr><tr><td>Guadeloupe</td><td>123000</td></tr><tr><td>Central African Republic</td><td>868000</td></tr><tr><td>Niger</td><td>4000</td></tr><tr><td>Denmark</td><td>36000</td></tr><tr><td>Bangladesh</td><td>383000</td></tr><tr><td>Barbados</td><td>410000</td></tr><tr><td>Iran</td><td>33000</td></tr><tr><td>Ireland</td><td>49000</td></tr><tr><td>Congo</td><td>410000</td></tr><tr><td>Liechtenstein</td><td>10000</td></tr><tr><td>Christmas Island</td><td>91000</td></tr><tr><td>Cocos (Keeling) Islands</td><td>709000</td></tr><tr><td>Swaziland</td><td>3000</td></tr><tr><td>Bhutan</td><td>22000</td></tr><tr><td>Monaco</td><td>227000</td></tr><tr><td>Morocco</td><td>13000</td></tr><tr><td>Cape Verde</td><td>178000</td></tr><tr><td>Panama</td><td>1000</td></tr><tr><td>Hong Kong</td><td>14000</td></tr><tr><td>Nauru</td><td>45000</td></tr><tr><td>Venezuela</td><td>100000</td></tr><tr><td>Saint Barthelemy</td><td>517</td></tr><tr><td>Israel</td><td>3000</td></tr><tr><td>Iceland</td><td>5000</td></tr><tr><td>Saint Kitts and Nevis</td><td>171000</td></tr><tr><td>Oman</td><td>777</td></tr><tr><td>French Polynesia</td><td>52000</td></tr><tr><td>United States of America</td><td>47000</td></tr><tr><td>Cyprus</td><td>25000</td></tr><tr><td>Gibraltar</td><td>89000</td></tr><tr><td>Cote d'Ivoire</td><td>192000</td></tr><tr><td>Mexico</td><td>8000</td></tr><tr><td>Aruba</td><td>874000</td></tr><tr><td>Falkland Islands (Malvinas)</td><td>59000</td></tr><tr><td>Georgia</td><td>203000</td></tr><tr><td>Estonia</td><td>6000</td></tr><tr><td>Indonesia</td><td>141000</td></tr><tr><td>Libyan Arab Jamahiriya</td><td>157000</td></tr><tr><td>Saint Vincent and the Grenadines</td><td>121</td></tr><tr><td>Mongolia</td><td>893000</td></tr><tr><td>Guatemala</td><td>85000</td></tr><tr><td>Guam</td><td>219000</td></tr><tr><td>Azerbaijan</td><td>292000</td></tr><tr><td>Antarctica (the territory South of 60 deg S)</td><td>501000</td></tr><tr><td>Grenada</td><td>185000</td></tr><tr><td>Armenia</td><td>892000</td></tr><tr><td>Tunisia</td><td>66000</td></tr><tr><td>Liberia</td><td>550000</td></tr><tr><td>Honduras</td><td>319</td></tr><tr><td>Trinidad and Tobago</td><td>254</td></tr><tr><td>Saudi Arabia</td><td>332</td></tr><tr><td>Uganda</td><td>84000</td></tr><tr><td>Wallis and Futuna</td><td>2000</td></tr><tr><td>French Guiana</td><td>241000</td></tr><tr><td>Namibia</td><td>168000</td></tr><tr><td>Mayotte</td><td>31000</td></tr><tr><td>Switzerland</td><td>45</td></tr><tr><td>Pitcairn Islands</td><td>671000</td></tr><tr><td>Ethiopia</td><td>17000</td></tr><tr><td>Latvia</td><td>188000</td></tr><tr><td>Jamaica</td><td>19000</td></tr><tr><td>Bouvet Island (Bouvetoya)</td><td>276000</td></tr><tr><td>Saint Martin</td><td>9000</td></tr><tr><td>Guinea</td><td>134000</td></tr><tr><td>Canada</td><td>258000</td></tr><tr><td>Seychelles</td><td>21000</td></tr><tr><td>Faroe Islands</td><td>11000</td></tr><tr><td>Samoa</td><td>3000</td></tr><tr><td>Macedonia</td><td>7000</td></tr><tr><td>Czech Republic</td><td>398000</td></tr><tr><td>Kyrgyz Republic</td><td>87000</td></tr><tr><td>Mozambique</td><td>83000</td></tr><tr><td>Cook Islands</td><td>1000</td></tr><tr><td>Belize</td><td>267000</td></tr><tr><td>Brazil</td><td>11000</td></tr><tr><td>Kenya</td><td>26000</td></tr><tr><td>Lebanon</td><td>163000</td></tr><tr><td>Lao People's Democratic Republic</td><td>849</td></tr><tr><td>Antigua and Barbuda</td><td>578000</td></tr><tr><td>Slovenia</td><td>746</td></tr><tr><td>Dominican Republic</td><td>104000</td></tr><tr><td>Botswana</td><td>119000</td></tr><tr><td>Tanzania</td><td>26</td></tr><tr><td>Japan</td><td>87000</td></tr><tr><td>Svalbard & Jan Mayen Islands</td><td>152000</td></tr><tr><td>Luxembourg</td><td>35000</td></tr><tr><td>New Zealand</td><td>19000</td></tr><tr><td>Bosnia and Herzegovina</td><td>370000</td></tr><tr><td>Greenland</td><td>270</td></tr><tr><td>Haiti</td><td>100000</td></tr><tr><td>Poland</td><td>265</td></tr><tr><td>Portugal</td><td>29000</td></tr><tr><td>Australia</td><td>34000</td></tr><tr><td>Cameroon</td><td>123000</td></tr><tr><td>Papua New Guinea</td><td>5000</td></tr><tr><td>Guinea-Bissau</td><td>56000</td></tr><tr><td>Romania</td><td>9000</td></tr><tr><td>Bulgaria</td><td>912000</td></tr><tr><td>Solomon Islands</td><td>7000</td></tr><tr><td>Austria</td><td>251000</td></tr><tr><td>Korea</td><td>627000</td></tr><tr><td>Egypt</td><td>117000</td></tr><tr><td>Costa Rica</td><td>309000</td></tr><tr><td>El Salvador</td><td>221000</td></tr><tr><td>Serbia</td><td>78</td></tr><tr><td>South Africa</td><td>3000</td></tr><tr><td>Burkina Faso</td><td>7000</td></tr><tr><td>Bermuda</td><td>46000</td></tr><tr><td>Bahrain</td><td>332000</td></tr><tr><td>Micronesia</td><td>1000</td></tr><tr><td>Colombia</td><td>152000</td></tr><tr><td>Hungary</td><td>2000</td></tr><tr><td>Niue</td><td>271000</td></tr><tr><td>Mauritius</td><td>46000</td></tr><tr><td>Moldova</td><td>44000</td></tr><tr><td>Vietnam</td><td>15000</td></tr><tr><td>Netherlands</td><td>136000</td></tr><tr><td>Mali</td><td>122000</td></tr></tbody></table></div>"
      ]
     },
     "metadata": {
      "application/vnd.databricks.v1+output": {
       "addedWidgets": {},
       "aggData": [],
       "aggError": "",
       "aggOverflow": false,
       "aggSchema": [],
       "aggSeriesLimitReached": false,
       "aggType": "",
       "arguments": {},
       "columnCustomDisplayInfos": {},
       "data": [
        [
         "Chad",
         226000
        ],
        [
         "Anguilla",
         92000
        ],
        [
         "Paraguay",
         392
        ],
        [
         "Macao",
         3000
        ],
        [
         "Heard Island and McDonald Islands",
         487000
        ],
        [
         "Yemen",
         4000
        ],
        [
         "Tokelau",
         384000
        ],
        [
         "Sweden",
         58000
        ],
        [
         "French Southern Territories",
         59000
        ],
        [
         "Kiribati",
         8000
        ],
        [
         "Guyana",
         394
        ],
        [
         "Philippines",
         2000
        ],
        [
         "Djibouti",
         275000
        ],
        [
         "Tonga",
         0
        ],
        [
         "Norfolk Island",
         6000
        ],
        [
         "Singapore",
         3000
        ],
        [
         "Fiji",
         41000
        ],
        [
         "United States Virgin Islands",
         12000
        ],
        [
         "Turkey",
         9000
        ],
        [
         "Malawi",
         14000
        ],
        [
         "Germany",
         10000
        ],
        [
         "Comoros",
         196000
        ],
        [
         "Afghanistan",
         985000
        ],
        [
         "Cambodia",
         583000
        ],
        [
         "Maldives",
         416000
        ],
        [
         "Rwanda",
         6000
        ],
        [
         "Saint Helena",
         328
        ],
        [
         "Sudan",
         63000
        ],
        [
         "Turks and Caicos Islands",
         19000
        ],
        [
         "France",
         115000
        ],
        [
         "British Indian Ocean Territory (Chagos Archipelago)",
         248000
        ],
        [
         "Greece",
         397000
        ],
        [
         "Holy See (Vatican City State)",
         831
        ],
        [
         "Slovakia (Slovak Republic)",
         11000
        ],
        [
         "Montserrat",
         20000
        ],
        [
         "British Virgin Islands",
         245000
        ],
        [
         "Dominica",
         67000
        ],
        [
         "Algeria",
         942000
        ],
        [
         "Togo",
         4000
        ],
        [
         "Equatorial Guinea",
         10000
        ],
        [
         "Argentina",
         800000
        ],
        [
         "Belgium",
         433000
        ],
        [
         "Angola",
         502000
        ],
        [
         "Ecuador",
         84000
        ],
        [
         "Qatar",
         4000
        ],
        [
         "Lesotho",
         908000
        ],
        [
         "Albania",
         500000
        ],
        [
         "Madagascar",
         112000
        ],
        [
         "Finland",
         79000
        ],
        [
         "New Caledonia",
         377
        ],
        [
         "Nicaragua",
         9000
        ],
        [
         "Ghana",
         191
        ],
        [
         "Brunei Darussalam",
         277000
        ],
        [
         "Guernsey",
         32000
        ],
        [
         "Benin",
         49000
        ],
        [
         "Peru",
         21
        ],
        [
         "Bahamas",
         948000
        ],
        [
         "China",
         127000
        ],
        [
         "India",
         167000
        ],
        [
         "Belarus",
         312000
        ],
        [
         "American Samoa",
         556000
        ],
        [
         "Malta",
         219000
        ],
        [
         "Kuwait",
         63000
        ],
        [
         "Sao Tome and Principe",
         2000
        ],
        [
         "Marshall Islands",
         13000
        ],
        [
         "Somalia",
         118000
        ],
        [
         "Tuvalu",
         41
        ],
        [
         "Palestinian Territory",
         561000
        ],
        [
         "Puerto Rico",
         1000
        ],
        [
         "Chile",
         19000
        ],
        [
         "Tajikistan",
         593
        ],
        [
         "Martinique",
         null
        ],
        [
         "Cayman Islands",
         15000
        ],
        [
         "Isle of Man",
         52000
        ],
        [
         "Croatia",
         134000
        ],
        [
         "Burundi",
         620000
        ],
        [
         "Nigeria",
         164
        ],
        [
         "Bolivia",
         243000
        ],
        [
         "Andorra",
         903000
        ],
        [
         "Gabon",
         7000
        ],
        [
         "Italy",
         21000
        ],
        [
         "Netherlands Antilles",
         61000
        ],
        [
         "Lithuania",
         10000
        ],
        [
         "Turkmenistan",
         7000
        ],
        [
         "Norway",
         189
        ],
        [
         "Saint Pierre and Miquelon",
         323
        ],
        [
         "South Georgia and the South Sandwich Islands",
         75000
        ],
        [
         "Cuba",
         307000
        ],
        [
         "Mauritania",
         22000
        ],
        [
         "Guadeloupe",
         123000
        ],
        [
         "Central African Republic",
         868000
        ],
        [
         "Niger",
         4000
        ],
        [
         "Denmark",
         36000
        ],
        [
         "Bangladesh",
         383000
        ],
        [
         "Barbados",
         410000
        ],
        [
         "Iran",
         33000
        ],
        [
         "Ireland",
         49000
        ],
        [
         "Congo",
         410000
        ],
        [
         "Liechtenstein",
         10000
        ],
        [
         "Christmas Island",
         91000
        ],
        [
         "Cocos (Keeling) Islands",
         709000
        ],
        [
         "Swaziland",
         3000
        ],
        [
         "Bhutan",
         22000
        ],
        [
         "Monaco",
         227000
        ],
        [
         "Morocco",
         13000
        ],
        [
         "Cape Verde",
         178000
        ],
        [
         "Panama",
         1000
        ],
        [
         "Hong Kong",
         14000
        ],
        [
         "Nauru",
         45000
        ],
        [
         "Venezuela",
         100000
        ],
        [
         "Saint Barthelemy",
         517
        ],
        [
         "Israel",
         3000
        ],
        [
         "Iceland",
         5000
        ],
        [
         "Saint Kitts and Nevis",
         171000
        ],
        [
         "Oman",
         777
        ],
        [
         "French Polynesia",
         52000
        ],
        [
         "United States of America",
         47000
        ],
        [
         "Cyprus",
         25000
        ],
        [
         "Gibraltar",
         89000
        ],
        [
         "Cote d'Ivoire",
         192000
        ],
        [
         "Mexico",
         8000
        ],
        [
         "Aruba",
         874000
        ],
        [
         "Falkland Islands (Malvinas)",
         59000
        ],
        [
         "Georgia",
         203000
        ],
        [
         "Estonia",
         6000
        ],
        [
         "Indonesia",
         141000
        ],
        [
         "Libyan Arab Jamahiriya",
         157000
        ],
        [
         "Saint Vincent and the Grenadines",
         121
        ],
        [
         "Mongolia",
         893000
        ],
        [
         "Guatemala",
         85000
        ],
        [
         "Guam",
         219000
        ],
        [
         "Azerbaijan",
         292000
        ],
        [
         "Antarctica (the territory South of 60 deg S)",
         501000
        ],
        [
         "Grenada",
         185000
        ],
        [
         "Armenia",
         892000
        ],
        [
         "Tunisia",
         66000
        ],
        [
         "Liberia",
         550000
        ],
        [
         "Honduras",
         319
        ],
        [
         "Trinidad and Tobago",
         254
        ],
        [
         "Saudi Arabia",
         332
        ],
        [
         "Uganda",
         84000
        ],
        [
         "Wallis and Futuna",
         2000
        ],
        [
         "French Guiana",
         241000
        ],
        [
         "Namibia",
         168000
        ],
        [
         "Mayotte",
         31000
        ],
        [
         "Switzerland",
         45
        ],
        [
         "Pitcairn Islands",
         671000
        ],
        [
         "Ethiopia",
         17000
        ],
        [
         "Latvia",
         188000
        ],
        [
         "Jamaica",
         19000
        ],
        [
         "Bouvet Island (Bouvetoya)",
         276000
        ],
        [
         "Saint Martin",
         9000
        ],
        [
         "Guinea",
         134000
        ],
        [
         "Canada",
         258000
        ],
        [
         "Seychelles",
         21000
        ],
        [
         "Faroe Islands",
         11000
        ],
        [
         "Samoa",
         3000
        ],
        [
         "Macedonia",
         7000
        ],
        [
         "Czech Republic",
         398000
        ],
        [
         "Kyrgyz Republic",
         87000
        ],
        [
         "Mozambique",
         83000
        ],
        [
         "Cook Islands",
         1000
        ],
        [
         "Belize",
         267000
        ],
        [
         "Brazil",
         11000
        ],
        [
         "Kenya",
         26000
        ],
        [
         "Lebanon",
         163000
        ],
        [
         "Lao People's Democratic Republic",
         849
        ],
        [
         "Antigua and Barbuda",
         578000
        ],
        [
         "Slovenia",
         746
        ],
        [
         "Dominican Republic",
         104000
        ],
        [
         "Botswana",
         119000
        ],
        [
         "Tanzania",
         26
        ],
        [
         "Japan",
         87000
        ],
        [
         "Svalbard & Jan Mayen Islands",
         152000
        ],
        [
         "Luxembourg",
         35000
        ],
        [
         "New Zealand",
         19000
        ],
        [
         "Bosnia and Herzegovina",
         370000
        ],
        [
         "Greenland",
         270
        ],
        [
         "Haiti",
         100000
        ],
        [
         "Poland",
         265
        ],
        [
         "Portugal",
         29000
        ],
        [
         "Australia",
         34000
        ],
        [
         "Cameroon",
         123000
        ],
        [
         "Papua New Guinea",
         5000
        ],
        [
         "Guinea-Bissau",
         56000
        ],
        [
         "Romania",
         9000
        ],
        [
         "Bulgaria",
         912000
        ],
        [
         "Solomon Islands",
         7000
        ],
        [
         "Austria",
         251000
        ],
        [
         "Korea",
         627000
        ],
        [
         "Egypt",
         117000
        ],
        [
         "Costa Rica",
         309000
        ],
        [
         "El Salvador",
         221000
        ],
        [
         "Serbia",
         78
        ],
        [
         "South Africa",
         3000
        ],
        [
         "Burkina Faso",
         7000
        ],
        [
         "Bermuda",
         46000
        ],
        [
         "Bahrain",
         332000
        ],
        [
         "Micronesia",
         1000
        ],
        [
         "Colombia",
         152000
        ],
        [
         "Hungary",
         2000
        ],
        [
         "Niue",
         271000
        ],
        [
         "Mauritius",
         46000
        ],
        [
         "Moldova",
         44000
        ],
        [
         "Vietnam",
         15000
        ],
        [
         "Netherlands",
         136000
        ],
        [
         "Mali",
         122000
        ]
       ],
       "datasetInfos": [],
       "dbfsResultPath": null,
       "isJsonSchema": true,
       "metadata": {},
       "overflow": false,
       "plotOptions": {
        "customPlotOptions": {},
        "displayType": "table",
        "pivotAggregation": null,
        "pivotColumns": null,
        "xColumns": null,
        "yColumns": null
       },
       "removedWidgets": [],
       "schema": [
        {
         "metadata": "{}",
         "name": "country",
         "type": "\"string\""
        },
        {
         "metadata": "{}",
         "name": "folloer_count",
         "type": "\"integer\""
        }
       ],
       "type": "table"
      }
     },
     "output_type": "display_data"
    }
   ],
   "source": [
    "df_3_most_followed_user = df_pin_cleaned.join(df_geo_cleaned, 'ind', 'inner') \\\n",
    "                                        .groupBy('country', 'poster_name') \\\n",
    "                                        .agg(max('follower_count').alias('max_followers'))\n",
    "\n",
    "df_3_most_followed_user.display()\n",
    "\n",
    "df_3_most_followed_country = df_3_most_followed_user.groupBy(\"country\") \\\n",
    "                                                    .agg(max(\"max_followers\").alias(\"folloer_count\"))\n",
    "\n",
    "df_3_most_followed_country.display()"
   ]
  },
  {
   "cell_type": "markdown",
   "metadata": {
    "application/vnd.databricks.v1+cell": {
     "cellMetadata": {},
     "inputWidgets": {},
     "nuid": "45714022-4010-417f-922d-09cb0dbcea1f",
     "showTitle": false,
     "title": ""
    }
   },
   "source": [
    "##### 4. Find the most popular category for different age groups\n",
    "18-24, 25-35, 36-50, 50+"
   ]
  },
  {
   "cell_type": "code",
   "execution_count": 0,
   "metadata": {
    "application/vnd.databricks.v1+cell": {
     "cellMetadata": {
      "byteLimit": 2048000,
      "rowLimit": 10000
     },
     "inputWidgets": {},
     "nuid": "50deb684-67d9-47cb-a884-a509e13e1705",
     "showTitle": false,
     "title": ""
    }
   },
   "outputs": [
    {
     "output_type": "display_data",
     "data": {
      "text/html": [
       "<style scoped>\n",
       "  .table-result-container {\n",
       "    max-height: 300px;\n",
       "    overflow: auto;\n",
       "  }\n",
       "  table, th, td {\n",
       "    border: 1px solid black;\n",
       "    border-collapse: collapse;\n",
       "  }\n",
       "  th, td {\n",
       "    padding: 5px;\n",
       "  }\n",
       "  th {\n",
       "    text-align: left;\n",
       "  }\n",
       "</style><div class='table-result-container'><table class='table-result'><thead style='background-color: white'><tr><th>age_group</th><th>category</th><th>category_count</th></tr></thead><tbody><tr><td>18-24</td><td>art</td><td>62</td></tr><tr><td>25-35</td><td>diy-and-crafts</td><td>33</td></tr><tr><td>36-50</td><td>travel</td><td>22</td></tr><tr><td>50+</td><td>mens-fashion</td><td>10</td></tr></tbody></table></div>"
      ]
     },
     "metadata": {
      "application/vnd.databricks.v1+output": {
       "addedWidgets": {},
       "aggData": [],
       "aggError": "",
       "aggOverflow": false,
       "aggSchema": [],
       "aggSeriesLimitReached": false,
       "aggType": "",
       "arguments": {},
       "columnCustomDisplayInfos": {},
       "data": [
        [
         "18-24",
         "art",
         62
        ],
        [
         "25-35",
         "diy-and-crafts",
         33
        ],
        [
         "36-50",
         "travel",
         22
        ],
        [
         "50+",
         "mens-fashion",
         10
        ]
       ],
       "datasetInfos": [],
       "dbfsResultPath": null,
       "isJsonSchema": true,
       "metadata": {},
       "overflow": false,
       "plotOptions": {
        "customPlotOptions": {},
        "displayType": "table",
        "pivotAggregation": null,
        "pivotColumns": null,
        "xColumns": null,
        "yColumns": null
       },
       "removedWidgets": [],
       "schema": [
        {
         "metadata": "{}",
         "name": "age_group",
         "type": "\"string\""
        },
        {
         "metadata": "{}",
         "name": "category",
         "type": "\"string\""
        },
        {
         "metadata": "{}",
         "name": "category_count",
         "type": "\"long\""
        }
       ],
       "type": "table"
      }
     },
     "output_type": "display_data"
    }
   ],
   "source": [
    "df_4_agegroup = df_pin_cleaned  .join(df_user_cleaned, 'ind') \\\n",
    "                                .withColumn(\n",
    "                                    'age_group',\n",
    "                                     when((col('age') >= 18) & (col('age') <= 24), \"18-24\")\n",
    "                                    .when((col('age') >= 25) & (col('age') <= 35), \"25-35\")\n",
    "                                    .when((col('age') >= 36) & (col('age') <= 50), \"36-50\")\n",
    "                                    .when((col('age') > 50), \"50+\")\n",
    "                                    .otherwise('unknown')\n",
    "                                )\n",
    "\n",
    "df_4 = df_4_agegroup.groupBy('age_group', 'category') \\\n",
    "                    .agg(count('*').alias('category_count')) \\\n",
    "                    .groupBy('age_group') \\\n",
    "                    .agg(max(struct('category_count', 'category')).alias('max_count')) \\\n",
    "                    .select('age_group', 'max_count.category', 'max_count.category_count')\n",
    "\n",
    "df_4.display()"
   ]
  },
  {
   "cell_type": "markdown",
   "metadata": {
    "application/vnd.databricks.v1+cell": {
     "cellMetadata": {},
     "inputWidgets": {},
     "nuid": "0e8c6bb4-41cd-4370-aee9-c5a6bc8515b5",
     "showTitle": false,
     "title": ""
    }
   },
   "source": [
    "##### 5. Find the median follower count for different age groups\n",
    "18-24, 25-35, 36-50, 50+"
   ]
  },
  {
   "cell_type": "code",
   "execution_count": 0,
   "metadata": {
    "application/vnd.databricks.v1+cell": {
     "cellMetadata": {
      "byteLimit": 2048000,
      "rowLimit": 10000
     },
     "inputWidgets": {},
     "nuid": "ae888d1a-4e61-4751-8414-41a229b7cb05",
     "showTitle": false,
     "title": ""
    }
   },
   "outputs": [
    {
     "output_type": "display_data",
     "data": {
      "text/html": [
       "<style scoped>\n",
       "  .table-result-container {\n",
       "    max-height: 300px;\n",
       "    overflow: auto;\n",
       "  }\n",
       "  table, th, td {\n",
       "    border: 1px solid black;\n",
       "    border-collapse: collapse;\n",
       "  }\n",
       "  th, td {\n",
       "    padding: 5px;\n",
       "  }\n",
       "  th {\n",
       "    text-align: left;\n",
       "  }\n",
       "</style><div class='table-result-container'><table class='table-result'><thead style='background-color: white'><tr><th>age_group</th><th>percentile_approx(follower_count, 0.5, 10000)</th></tr></thead><tbody><tr><td>50+</td><td>777</td></tr><tr><td>36-50</td><td>6000</td></tr><tr><td>18-24</td><td>71000</td></tr><tr><td>25-35</td><td>26000</td></tr></tbody></table></div>"
      ]
     },
     "metadata": {
      "application/vnd.databricks.v1+output": {
       "addedWidgets": {},
       "aggData": [],
       "aggError": "",
       "aggOverflow": false,
       "aggSchema": [],
       "aggSeriesLimitReached": false,
       "aggType": "",
       "arguments": {},
       "columnCustomDisplayInfos": {},
       "data": [
        [
         "50+",
         777
        ],
        [
         "36-50",
         6000
        ],
        [
         "18-24",
         71000
        ],
        [
         "25-35",
         26000
        ]
       ],
       "datasetInfos": [],
       "dbfsResultPath": null,
       "isJsonSchema": true,
       "metadata": {},
       "overflow": false,
       "plotOptions": {
        "customPlotOptions": {},
        "displayType": "table",
        "pivotAggregation": null,
        "pivotColumns": null,
        "xColumns": null,
        "yColumns": null
       },
       "removedWidgets": [],
       "schema": [
        {
         "metadata": "{}",
         "name": "age_group",
         "type": "\"string\""
        },
        {
         "metadata": "{}",
         "name": "percentile_approx(follower_count, 0.5, 10000)",
         "type": "\"integer\""
        }
       ],
       "type": "table"
      }
     },
     "output_type": "display_data"
    }
   ],
   "source": [
    "df_5 = df_4_agegroup.groupBy('age_group') \\\n",
    "                    .agg(percentile_approx('follower_count', 0.5)).alias('median_count')\n",
    "\n",
    "df_5.display()"
   ]
  },
  {
   "cell_type": "markdown",
   "metadata": {
    "application/vnd.databricks.v1+cell": {
     "cellMetadata": {},
     "inputWidgets": {},
     "nuid": "1b8e582d-e923-4743-b8d5-532df09f7c60",
     "showTitle": false,
     "title": ""
    }
   },
   "source": [
    "##### 6. Find how many users have joined between 2015 and 2020"
   ]
  },
  {
   "cell_type": "code",
   "execution_count": 0,
   "metadata": {
    "application/vnd.databricks.v1+cell": {
     "cellMetadata": {
      "byteLimit": 2048000,
      "rowLimit": 10000
     },
     "inputWidgets": {},
     "nuid": "5e209038-4496-4376-96a3-a70e1e4d052d",
     "showTitle": false,
     "title": ""
    }
   },
   "outputs": [
    {
     "output_type": "display_data",
     "data": {
      "text/html": [
       "<style scoped>\n",
       "  .table-result-container {\n",
       "    max-height: 300px;\n",
       "    overflow: auto;\n",
       "  }\n",
       "  table, th, td {\n",
       "    border: 1px solid black;\n",
       "    border-collapse: collapse;\n",
       "  }\n",
       "  th, td {\n",
       "    padding: 5px;\n",
       "  }\n",
       "  th {\n",
       "    text-align: left;\n",
       "  }\n",
       "</style><div class='table-result-container'><table class='table-result'><thead style='background-color: white'><tr><th>join_year</th><th>number_users_joined</th></tr></thead><tbody><tr><td>2015</td><td>375</td></tr><tr><td>2016</td><td>411</td></tr><tr><td>2017</td><td>145</td></tr></tbody></table></div>"
      ]
     },
     "metadata": {
      "application/vnd.databricks.v1+output": {
       "addedWidgets": {},
       "aggData": [],
       "aggError": "",
       "aggOverflow": false,
       "aggSchema": [],
       "aggSeriesLimitReached": false,
       "aggType": "",
       "arguments": {},
       "columnCustomDisplayInfos": {},
       "data": [
        [
         2015,
         375
        ],
        [
         2016,
         411
        ],
        [
         2017,
         145
        ]
       ],
       "datasetInfos": [],
       "dbfsResultPath": null,
       "isJsonSchema": true,
       "metadata": {},
       "overflow": false,
       "plotOptions": {
        "customPlotOptions": {},
        "displayType": "table",
        "pivotAggregation": null,
        "pivotColumns": null,
        "xColumns": null,
        "yColumns": null
       },
       "removedWidgets": [],
       "schema": [
        {
         "metadata": "{}",
         "name": "join_year",
         "type": "\"integer\""
        },
        {
         "metadata": "{}",
         "name": "number_users_joined",
         "type": "\"long\""
        }
       ],
       "type": "table"
      }
     },
     "output_type": "display_data"
    }
   ],
   "source": [
    "df_6 = df_user_cleaned  .withColumn('join_year', year('date_joined')) \\\n",
    "                        .filter((col('join_year') >= 2015) & (col('join_year') <= 2020)) \\\n",
    "                        .groupBy('join_year') \\\n",
    "                        .count() \\\n",
    "                        .withColumnRenamed('count', 'number_users_joined')\n",
    "\n",
    "df_6.display()"
   ]
  },
  {
   "cell_type": "markdown",
   "metadata": {
    "application/vnd.databricks.v1+cell": {
     "cellMetadata": {},
     "inputWidgets": {},
     "nuid": "07542b2f-3084-4168-89df-03c515679d1b",
     "showTitle": false,
     "title": ""
    }
   },
   "source": [
    "##### 7. Find the median follower count of users have joined between 2015 and 2020"
   ]
  },
  {
   "cell_type": "code",
   "execution_count": 0,
   "metadata": {
    "application/vnd.databricks.v1+cell": {
     "cellMetadata": {
      "byteLimit": 2048000,
      "rowLimit": 10000
     },
     "inputWidgets": {},
     "nuid": "9136c950-13b8-4ac1-b832-5bad53a2c60d",
     "showTitle": false,
     "title": ""
    }
   },
   "outputs": [
    {
     "output_type": "display_data",
     "data": {
      "text/html": [
       "<style scoped>\n",
       "  .table-result-container {\n",
       "    max-height: 300px;\n",
       "    overflow: auto;\n",
       "  }\n",
       "  table, th, td {\n",
       "    border: 1px solid black;\n",
       "    border-collapse: collapse;\n",
       "  }\n",
       "  th, td {\n",
       "    padding: 5px;\n",
       "  }\n",
       "  th {\n",
       "    text-align: left;\n",
       "  }\n",
       "</style><div class='table-result-container'><table class='table-result'><thead style='background-color: white'><tr><th>join_year</th><th>median_follower_count</th></tr></thead><tbody><tr><td>2015</td><td>71000</td></tr><tr><td>2016</td><td>19000</td></tr><tr><td>2017</td><td>2000</td></tr></tbody></table></div>"
      ]
     },
     "metadata": {
      "application/vnd.databricks.v1+output": {
       "addedWidgets": {},
       "aggData": [],
       "aggError": "",
       "aggOverflow": false,
       "aggSchema": [],
       "aggSeriesLimitReached": false,
       "aggType": "",
       "arguments": {},
       "columnCustomDisplayInfos": {},
       "data": [
        [
         2015,
         71000
        ],
        [
         2016,
         19000
        ],
        [
         2017,
         2000
        ]
       ],
       "datasetInfos": [],
       "dbfsResultPath": null,
       "isJsonSchema": true,
       "metadata": {},
       "overflow": false,
       "plotOptions": {
        "customPlotOptions": {},
        "displayType": "table",
        "pivotAggregation": null,
        "pivotColumns": null,
        "xColumns": null,
        "yColumns": null
       },
       "removedWidgets": [],
       "schema": [
        {
         "metadata": "{}",
         "name": "join_year",
         "type": "\"integer\""
        },
        {
         "metadata": "{}",
         "name": "median_follower_count",
         "type": "\"integer\""
        }
       ],
       "type": "table"
      }
     },
     "output_type": "display_data"
    }
   ],
   "source": [
    "df_7 = df_user_cleaned  .join(df_pin_cleaned, 'ind') \\\n",
    "                        .withColumn('join_year', year('date_joined')) \\\n",
    "                        .filter((col('join_year') >= 2015) & (col('join_year') <= 2020)) \\\n",
    "                        .groupBy('join_year') \\\n",
    "                        .agg(expr(\"percentile_approx(follower_count, 0.5)\").alias(\"median_follower_count\"))\n",
    "\n",
    "df_7.display()"
   ]
  },
  {
   "cell_type": "markdown",
   "metadata": {
    "application/vnd.databricks.v1+cell": {
     "cellMetadata": {},
     "inputWidgets": {},
     "nuid": "2048bdbb-18bb-4d91-af65-8a103229a453",
     "showTitle": false,
     "title": ""
    }
   },
   "source": [
    "##### 8. Find the median follower count of users that have joined between 2015 and 2020, based on which age group they are part of"
   ]
  },
  {
   "cell_type": "code",
   "execution_count": 0,
   "metadata": {
    "application/vnd.databricks.v1+cell": {
     "cellMetadata": {
      "byteLimit": 2048000,
      "rowLimit": 10000
     },
     "inputWidgets": {},
     "nuid": "d6ce6845-629e-466a-8386-ec1c2fe38adf",
     "showTitle": false,
     "title": ""
    }
   },
   "outputs": [
    {
     "output_type": "display_data",
     "data": {
      "text/html": [
       "<style scoped>\n",
       "  .table-result-container {\n",
       "    max-height: 300px;\n",
       "    overflow: auto;\n",
       "  }\n",
       "  table, th, td {\n",
       "    border: 1px solid black;\n",
       "    border-collapse: collapse;\n",
       "  }\n",
       "  th, td {\n",
       "    padding: 5px;\n",
       "  }\n",
       "  th {\n",
       "    text-align: left;\n",
       "  }\n",
       "</style><div class='table-result-container'><table class='table-result'><thead style='background-color: white'><tr><th>age_group</th><th>join_year</th><th>median_follower_count</th></tr></thead><tbody><tr><td>25-35</td><td>2017</td><td>1000</td></tr><tr><td>50+</td><td>2017</td><td>517</td></tr><tr><td>18-24</td><td>2016</td><td>36000</td></tr><tr><td>18-24</td><td>2015</td><td>190000</td></tr><tr><td>25-35</td><td>2016</td><td>24000</td></tr><tr><td>36-50</td><td>2017</td><td>3000</td></tr><tr><td>36-50</td><td>2016</td><td>8000</td></tr><tr><td>50+</td><td>2016</td><td>777</td></tr><tr><td>36-50</td><td>2015</td><td>8000</td></tr><tr><td>18-24</td><td>2017</td><td>11000</td></tr><tr><td>25-35</td><td>2015</td><td>42000</td></tr><tr><td>50+</td><td>2015</td><td>1000</td></tr></tbody></table></div>"
      ]
     },
     "metadata": {
      "application/vnd.databricks.v1+output": {
       "addedWidgets": {},
       "aggData": [],
       "aggError": "",
       "aggOverflow": false,
       "aggSchema": [],
       "aggSeriesLimitReached": false,
       "aggType": "",
       "arguments": {},
       "columnCustomDisplayInfos": {},
       "data": [
        [
         "25-35",
         2017,
         1000
        ],
        [
         "50+",
         2017,
         517
        ],
        [
         "18-24",
         2016,
         36000
        ],
        [
         "18-24",
         2015,
         190000
        ],
        [
         "25-35",
         2016,
         24000
        ],
        [
         "36-50",
         2017,
         3000
        ],
        [
         "36-50",
         2016,
         8000
        ],
        [
         "50+",
         2016,
         777
        ],
        [
         "36-50",
         2015,
         8000
        ],
        [
         "18-24",
         2017,
         11000
        ],
        [
         "25-35",
         2015,
         42000
        ],
        [
         "50+",
         2015,
         1000
        ]
       ],
       "datasetInfos": [],
       "dbfsResultPath": null,
       "isJsonSchema": true,
       "metadata": {},
       "overflow": false,
       "plotOptions": {
        "customPlotOptions": {},
        "displayType": "table",
        "pivotAggregation": null,
        "pivotColumns": null,
        "xColumns": null,
        "yColumns": null
       },
       "removedWidgets": [],
       "schema": [
        {
         "metadata": "{}",
         "name": "age_group",
         "type": "\"string\""
        },
        {
         "metadata": "{}",
         "name": "join_year",
         "type": "\"integer\""
        },
        {
         "metadata": "{}",
         "name": "median_follower_count",
         "type": "\"integer\""
        }
       ],
       "type": "table"
      }
     },
     "output_type": "display_data"
    }
   ],
   "source": [
    "df_8 = df_4_agegroup.withColumn('join_year', year('date_joined')) \\\n",
    "                    .filter((col('join_year') >= 2015) & (col('join_year') <= 2020)) \\\n",
    "                    .groupBy(\"age_group\", \"join_year\") \\\n",
    "                    .agg(expr(\"percentile_approx(follower_count, 0.5)\").alias(\"median_follower_count\"))\n",
    "\n",
    "df_8.display()"
   ]
  }
 ],
 "metadata": {
  "application/vnd.databricks.v1+notebook": {
   "dashboards": [],
   "language": "python",
   "notebookMetadata": {
    "pythonIndentUnit": 4
   },
   "notebookName": "batch-data_kafka_read-transform-query",
   "widgets": {}
  }
 },
 "nbformat": 4,
 "nbformat_minor": 0
}
